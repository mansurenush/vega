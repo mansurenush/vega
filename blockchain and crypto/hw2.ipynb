{
 "cells": [
  {
   "cell_type": "markdown",
   "id": "7f229407",
   "metadata": {
    "id": "7f229407"
   },
   "source": [
    "### Task 1. Form the following block and calculate its hash. To create a block you will have to initiate a new instance of the Block class and use its methods to calculate the hash."
   ]
  },
  {
   "cell_type": "code",
   "execution_count": 1,
   "id": "70b4244c",
   "metadata": {
    "id": "70b4244c"
   },
   "outputs": [],
   "source": [
    "d = {\n",
    "    'index': 4,\n",
    "    'timestamp': 0,\n",
    "    'previous_hash':'000e69bd96b65c00653b4c59a5ece2f187578928460675c8317e8f91c74f8243',\n",
    "    'nonce': 0,\n",
    "    'author': 'Satoshi',\n",
    "    'transactions': [\n",
    "        {\n",
    "            'sender_address': 'Alice',\n",
    "            'recipient_address': 'Bob',\n",
    "            'value': 10,\n",
    "            'data': 'Hello Bob!',\n",
    "        },\n",
    "        {\n",
    "            'sender_address': 'Bob',\n",
    "            'recipient_address': 'Alice',\n",
    "            'value':5,\n",
    "            'data': 'Hello Alice!',\n",
    "        }\n",
    "    ]\n",
    "}\n",
    "pass"
   ]
  },
  {
   "cell_type": "code",
   "execution_count": 2,
   "id": "e625164f",
   "metadata": {
    "id": "e625164f"
   },
   "outputs": [],
   "source": [
    "from blockchain import Transaction, Block"
   ]
  },
  {
   "cell_type": "code",
   "execution_count": 3,
   "id": "Rda83QwHuYNh",
   "metadata": {
    "id": "Rda83QwHuYNh"
   },
   "outputs": [],
   "source": [
    "transaction1 = Transaction('Alice', 'Bob',10,'Hello Bob!')"
   ]
  },
  {
   "cell_type": "code",
   "execution_count": 4,
   "id": "3f9inL_dugtB",
   "metadata": {
    "id": "3f9inL_dugtB"
   },
   "outputs": [],
   "source": [
    "transaction2 = Transaction('Bob', 'Alice',5,'Hello Alice!')"
   ]
  },
  {
   "cell_type": "code",
   "execution_count": 5,
   "id": "q2-zIKNofV9e",
   "metadata": {
    "id": "q2-zIKNofV9e"
   },
   "outputs": [],
   "source": [
    "block = Block(d['index'],[transaction1,transaction2], d['author'], d['timestamp'],d['previous_hash'])"
   ]
  },
  {
   "cell_type": "code",
   "execution_count": 6,
   "id": "KfA_mPIsf9Zp",
   "metadata": {
    "colab": {
     "base_uri": "https://localhost:8080/",
     "height": 36
    },
    "id": "KfA_mPIsf9Zp",
    "outputId": "adf98923-94b6-4d0c-f01e-19f205dbe706"
   },
   "outputs": [
    {
     "data": {
      "application/vnd.google.colaboratory.intrinsic+json": {
       "type": "string"
      },
      "text/plain": [
       "'e8d96f7719c9fd6fece74ae1ba1012a27cad3c7d682786ac49025c39b11fb077'"
      ]
     },
     "execution_count": 6,
     "metadata": {},
     "output_type": "execute_result"
    }
   ],
   "source": [
    "block.compute_hash()"
   ]
  },
  {
   "cell_type": "markdown",
   "id": "572b0145",
   "metadata": {
    "id": "572b0145"
   },
   "source": [
    "### Task 2. Run PoW algorithm and find the proof for this block with difficulty=3. The PoW algorithm is run by the network peers. You will need to initiate an instance of a peer. Pay attention to the difficulty parameter."
   ]
  },
  {
   "cell_type": "code",
   "execution_count": 7,
   "id": "3WArgNingTqN",
   "metadata": {
    "id": "3WArgNingTqN"
   },
   "outputs": [],
   "source": [
    "from blockchain import BlockchainPeer"
   ]
  },
  {
   "cell_type": "code",
   "execution_count": 8,
   "id": "LIs7EByegDDh",
   "metadata": {
    "id": "LIs7EByegDDh"
   },
   "outputs": [],
   "source": [
    "Peer = BlockchainPeer('Instance')"
   ]
  },
  {
   "cell_type": "code",
   "execution_count": 9,
   "id": "AzniRUuDhy9d",
   "metadata": {
    "colab": {
     "base_uri": "https://localhost:8080/"
    },
    "id": "AzniRUuDhy9d",
    "outputId": "94172f7c-30e5-4fcf-9e71-18f8b1721b5d"
   },
   "outputs": [
    {
     "data": {
      "text/plain": [
       "3"
      ]
     },
     "execution_count": 9,
     "metadata": {},
     "output_type": "execute_result"
    }
   ],
   "source": [
    "Peer.difficulty"
   ]
  },
  {
   "cell_type": "code",
   "execution_count": 10,
   "id": "OUN_gT_Ggzou",
   "metadata": {
    "colab": {
     "base_uri": "https://localhost:8080/",
     "height": 36
    },
    "id": "OUN_gT_Ggzou",
    "outputId": "57b6deff-e798-4019-a5cc-0786076f187f"
   },
   "outputs": [
    {
     "data": {
      "application/vnd.google.colaboratory.intrinsic+json": {
       "type": "string"
      },
      "text/plain": [
       "'000f53dd44c6dd00a575e3f43b1a675812851a0df5d518555b026532f2772a32'"
      ]
     },
     "execution_count": 10,
     "metadata": {},
     "output_type": "execute_result"
    }
   ],
   "source": [
    "Peer.proof_of_work(block)"
   ]
  },
  {
   "cell_type": "code",
   "execution_count": 11,
   "id": "jMEm8SrYkp6L",
   "metadata": {
    "colab": {
     "base_uri": "https://localhost:8080/"
    },
    "id": "jMEm8SrYkp6L",
    "outputId": "8b6ba586-bf1b-4a38-bbe1-47e892c69cac"
   },
   "outputs": [
    {
     "data": {
      "text/plain": [
       "True"
      ]
     },
     "execution_count": 11,
     "metadata": {},
     "output_type": "execute_result"
    }
   ],
   "source": [
    "Peer.is_valid_proof(block,'000f53dd44c6dd00a575e3f43b1a675812851a0df5d518555b026532f2772a32')"
   ]
  },
  {
   "cell_type": "markdown",
   "id": "41fee8b9",
   "metadata": {
    "id": "41fee8b9"
   },
   "source": [
    "### Task 3.  Init single peer and mine 2 blocks with the same 2 transactions from the task1. Why hashes for blocks (index = 1, 2) are not the same?"
   ]
  },
  {
   "cell_type": "code",
   "execution_count": 12,
   "id": "VM8W19pLh6wh",
   "metadata": {
    "id": "VM8W19pLh6wh"
   },
   "outputs": [],
   "source": [
    "SinglePeer = BlockchainPeer('SP')"
   ]
  },
  {
   "cell_type": "code",
   "execution_count": 13,
   "id": "E1ga85LotzoZ",
   "metadata": {
    "id": "E1ga85LotzoZ"
   },
   "outputs": [],
   "source": [
    "SinglePeer.add_new_transaction(transaction1)"
   ]
  },
  {
   "cell_type": "code",
   "execution_count": 14,
   "id": "RsziLJAGvW1R",
   "metadata": {
    "id": "RsziLJAGvW1R"
   },
   "outputs": [],
   "source": [
    "SinglePeer.add_new_transaction(transaction2)"
   ]
  },
  {
   "cell_type": "code",
   "execution_count": 15,
   "id": "vORiQ1m7uGjj",
   "metadata": {
    "id": "vORiQ1m7uGjj"
   },
   "outputs": [],
   "source": [
    "SinglePeer.mine()"
   ]
  },
  {
   "cell_type": "code",
   "execution_count": 16,
   "id": "EN5TVp8QvcKd",
   "metadata": {
    "id": "EN5TVp8QvcKd"
   },
   "outputs": [],
   "source": [
    "SinglePeer.mine()"
   ]
  },
  {
   "cell_type": "code",
   "execution_count": 17,
   "id": "ydK1iGu8vhlA",
   "metadata": {
    "colab": {
     "base_uri": "https://localhost:8080/"
    },
    "id": "ydK1iGu8vhlA",
    "outputId": "e2123e9f-0ba4-49f0-9b0f-69e655d794f9"
   },
   "outputs": [
    {
     "data": {
      "text/plain": [
       "{'length': 2,\n",
       " 'chain': [{'index': 0, 'transactions': [], 'author': 'Satoshi', 'timestamp': 0, 'previous_hash': '0', 'nonce': 7099, 'hash': '000162ecd764ac73c5367af8c9fa659bbf2a2e57684c0657d219327de59bcf70'},\n",
       "  {'index': 1, 'transactions': [{'sender_address': 'Alice', 'recipient_address': 'Bob', 'value': 10, 'data': 'Hello Bob!'}, {'sender_address': 'Bob', 'recipient_address': 'Alice', 'value': 5, 'data': 'Hello Alice!'}], 'author': 'SP', 'timestamp': 1695723892.5299315, 'previous_hash': '000162ecd764ac73c5367af8c9fa659bbf2a2e57684c0657d219327de59bcf70', 'nonce': 1285, 'hash': '000d35a1aa38296ffe36dac2be3244b214afb1befcf6794a93750299c25a4676'}]}"
      ]
     },
     "execution_count": 17,
     "metadata": {},
     "output_type": "execute_result"
    }
   ],
   "source": [
    "SinglePeer._get_chain()"
   ]
  },
  {
   "cell_type": "markdown",
   "id": "Ki-TL-A5maUN",
   "metadata": {
    "id": "Ki-TL-A5maUN"
   },
   "source": [
    "Хеши не одинаковые, потому что sha256 приняла новые параметры"
   ]
  },
  {
   "cell_type": "markdown",
   "id": "3be612b4",
   "metadata": {
    "id": "3be612b4"
   },
   "source": [
    "### Task 4. Mine 100 blocks (in 1 block should be max 5 transactions) with 5 peers.  Keep in mind that you need to have 5 peers initiated, create a mainnet and launch the mining process. Moreover, the peers should have new transactions to add into blocks after the block is added into the mainnet.\n",
    "\n",
    "### Which peer will have the most mined blocks with N>>100?"
   ]
  },
  {
   "cell_type": "code",
   "execution_count": 18,
   "id": "DlmoHyVuoKAf",
   "metadata": {
    "id": "DlmoHyVuoKAf"
   },
   "outputs": [],
   "source": [
    "from blockchain import BlockchainMainnet"
   ]
  },
  {
   "cell_type": "code",
   "execution_count": 19,
   "id": "yQbUUbXunb7u",
   "metadata": {
    "id": "yQbUUbXunb7u"
   },
   "outputs": [],
   "source": [
    "Peer1 = BlockchainPeer('1')\n",
    "Peer2 = BlockchainPeer('2')\n",
    "Peer3 = BlockchainPeer('3')\n",
    "Peer4 = BlockchainPeer('4')\n",
    "Peer5 = BlockchainPeer('5')"
   ]
  },
  {
   "cell_type": "code",
   "execution_count": 20,
   "id": "M7ARHd0zoX-Z",
   "metadata": {
    "id": "M7ARHd0zoX-Z"
   },
   "outputs": [],
   "source": [
    "l = []\n",
    "l.append(Peer1)\n",
    "l.append(Peer2)\n",
    "l.append(Peer3)\n",
    "l.append(Peer4)\n",
    "l.append(Peer5)"
   ]
  },
  {
   "cell_type": "code",
   "execution_count": 21,
   "id": "SYEgN6CPn7Qi",
   "metadata": {
    "id": "SYEgN6CPn7Qi"
   },
   "outputs": [],
   "source": [
    "MainNet = BlockchainMainnet(l)"
   ]
  },
  {
   "cell_type": "code",
   "execution_count": 22,
   "id": "6zjv6PHTyGWO",
   "metadata": {
    "id": "6zjv6PHTyGWO"
   },
   "outputs": [],
   "source": [
    "for i in range(100):\n",
    "  for peer in l:\n",
    "    peer.add_new_transaction(transaction1)\n",
    "  #peer.add_new_transaction(transaction2)\n",
    "  MainNet.run_mining()"
   ]
  },
  {
   "cell_type": "code",
   "execution_count": 23,
   "id": "kq9yFPcmyv_g",
   "metadata": {
    "colab": {
     "base_uri": "https://localhost:8080/"
    },
    "id": "kq9yFPcmyv_g",
    "outputId": "f4152fb8-aadc-4837-c340-2e77ae822efd"
   },
   "outputs": [
    {
     "data": {
      "text/plain": [
       "{'length': 101,\n",
       " 'chain': [{'index': 0, 'transactions': [], 'author': 'Satoshi', 'timestamp': 0, 'previous_hash': '0', 'nonce': 7099, 'hash': '000162ecd764ac73c5367af8c9fa659bbf2a2e57684c0657d219327de59bcf70'},\n",
       "  {'index': 1, 'transactions': [{'sender_address': 'Alice', 'recipient_address': 'Bob', 'value': 10, 'data': 'Hello Bob!'}], 'author': '2', 'timestamp': 1695723893.0413198, 'previous_hash': '000162ecd764ac73c5367af8c9fa659bbf2a2e57684c0657d219327de59bcf70', 'nonce': 12132, 'hash': '0004b34d78aa55a5a091d594c23ceae1ccaf683048e7b5ef3e614ec26c442ab5'},\n",
       "  {'index': 2, 'transactions': [{'sender_address': 'Alice', 'recipient_address': 'Bob', 'value': 10, 'data': 'Hello Bob!'}], 'author': '5', 'timestamp': 1695723894.1119561, 'previous_hash': '0004b34d78aa55a5a091d594c23ceae1ccaf683048e7b5ef3e614ec26c442ab5', 'nonce': 9362, 'hash': '000003063afd1b6d53b624989765b442facd1969ee0538a5d39f02e6300b25fd'},\n",
       "  {'index': 3, 'transactions': [{'sender_address': 'Alice', 'recipient_address': 'Bob', 'value': 10, 'data': 'Hello Bob!'}], 'author': '3', 'timestamp': 1695723895.1876585, 'previous_hash': '000003063afd1b6d53b624989765b442facd1969ee0538a5d39f02e6300b25fd', 'nonce': 15090, 'hash': '000a029db64a2589d81368d89e98d602fd80b290c93a25b0734db674d07b320e'},\n",
       "  {'index': 4, 'transactions': [{'sender_address': 'Alice', 'recipient_address': 'Bob', 'value': 10, 'data': 'Hello Bob!'}], 'author': '5', 'timestamp': 1695723896.3215234, 'previous_hash': '000a029db64a2589d81368d89e98d602fd80b290c93a25b0734db674d07b320e', 'nonce': 6537, 'hash': '00030a732764d10d52bea801eb4fc5639132f238a015743285bdcedda9d68fcc'},\n",
       "  {'index': 5, 'transactions': [{'sender_address': 'Alice', 'recipient_address': 'Bob', 'value': 10, 'data': 'Hello Bob!'}], 'author': '5', 'timestamp': 1695723897.402383, 'previous_hash': '00030a732764d10d52bea801eb4fc5639132f238a015743285bdcedda9d68fcc', 'nonce': 6607, 'hash': '00015ec9c8cd8230b3f81d34f2ad0d91a5d18b1f452d5e3c7fd07f5b17741ad9'},\n",
       "  {'index': 6, 'transactions': [{'sender_address': 'Alice', 'recipient_address': 'Bob', 'value': 10, 'data': 'Hello Bob!'}], 'author': '4', 'timestamp': 1695723898.5956805, 'previous_hash': '00015ec9c8cd8230b3f81d34f2ad0d91a5d18b1f452d5e3c7fd07f5b17741ad9', 'nonce': 9447, 'hash': '0003b5a17f30eadab91be145cef1991cb80905fe0075f9d377a39b91e00f7916'},\n",
       "  {'index': 7, 'transactions': [{'sender_address': 'Alice', 'recipient_address': 'Bob', 'value': 10, 'data': 'Hello Bob!'}], 'author': '5', 'timestamp': 1695723900.174475, 'previous_hash': '0003b5a17f30eadab91be145cef1991cb80905fe0075f9d377a39b91e00f7916', 'nonce': 8063, 'hash': '000e11f9b5ff8294de135274fd52d0f6535224e931b9b493e66ddc3fdee976e3'},\n",
       "  {'index': 8, 'transactions': [{'sender_address': 'Alice', 'recipient_address': 'Bob', 'value': 10, 'data': 'Hello Bob!'}], 'author': '5', 'timestamp': 1695723901.299612, 'previous_hash': '000e11f9b5ff8294de135274fd52d0f6535224e931b9b493e66ddc3fdee976e3', 'nonce': 7546, 'hash': '0005e2e98aad5fda9226623540c339f242ffd4646e06f1d167c832789e4d3f48'},\n",
       "  {'index': 9, 'transactions': [{'sender_address': 'Alice', 'recipient_address': 'Bob', 'value': 10, 'data': 'Hello Bob!'}], 'author': '4', 'timestamp': 1695723902.368131, 'previous_hash': '0005e2e98aad5fda9226623540c339f242ffd4646e06f1d167c832789e4d3f48', 'nonce': 19033, 'hash': '000acea4615a3b1a24d4ee65143c10951c93bbe883196e7ba6191f301ca4af9d'},\n",
       "  {'index': 10, 'transactions': [{'sender_address': 'Alice', 'recipient_address': 'Bob', 'value': 10, 'data': 'Hello Bob!'}], 'author': '2', 'timestamp': 1695723903.5296896, 'previous_hash': '000acea4615a3b1a24d4ee65143c10951c93bbe883196e7ba6191f301ca4af9d', 'nonce': 9409, 'hash': '0009ea6f19f28929ee34e65eacaa6a1c356609b0412ee57737bcf2462599ecad'},\n",
       "  {'index': 11, 'transactions': [{'sender_address': 'Alice', 'recipient_address': 'Bob', 'value': 10, 'data': 'Hello Bob!'}], 'author': '1', 'timestamp': 1695723904.6848984, 'previous_hash': '0009ea6f19f28929ee34e65eacaa6a1c356609b0412ee57737bcf2462599ecad', 'nonce': 2902, 'hash': '00022250362a04469ae5c3f0163317cba475ed07a5ba61a8d54dcc41497debc2'},\n",
       "  {'index': 12, 'transactions': [{'sender_address': 'Alice', 'recipient_address': 'Bob', 'value': 10, 'data': 'Hello Bob!'}], 'author': '3', 'timestamp': 1695723905.7088957, 'previous_hash': '00022250362a04469ae5c3f0163317cba475ed07a5ba61a8d54dcc41497debc2', 'nonce': 7751, 'hash': '0009583aa57d2ab13feb607c4ba89cc859d0fcfd9ef7b2ab1203c3e68cce7442'},\n",
       "  {'index': 13, 'transactions': [{'sender_address': 'Alice', 'recipient_address': 'Bob', 'value': 10, 'data': 'Hello Bob!'}], 'author': '5', 'timestamp': 1695723906.893483, 'previous_hash': '0009583aa57d2ab13feb607c4ba89cc859d0fcfd9ef7b2ab1203c3e68cce7442', 'nonce': 10025, 'hash': '0005cb85ae956ad5df7b2dfa4b5d65a92b2ce99029006e5c796c4aafadef7ac9'},\n",
       "  {'index': 14, 'transactions': [{'sender_address': 'Alice', 'recipient_address': 'Bob', 'value': 10, 'data': 'Hello Bob!'}], 'author': '5', 'timestamp': 1695723908.0280893, 'previous_hash': '0005cb85ae956ad5df7b2dfa4b5d65a92b2ce99029006e5c796c4aafadef7ac9', 'nonce': 774, 'hash': '000bb93ff634e0aa96eb2f65e2fc112c039bc0b49b44dc9ddb2796d00cc78619'},\n",
       "  {'index': 15, 'transactions': [{'sender_address': 'Alice', 'recipient_address': 'Bob', 'value': 10, 'data': 'Hello Bob!'}], 'author': '3', 'timestamp': 1695723909.0788646, 'previous_hash': '000bb93ff634e0aa96eb2f65e2fc112c039bc0b49b44dc9ddb2796d00cc78619', 'nonce': 9042, 'hash': '0004959639a67d43bb23d4b5ee9c1571a62be22ea173090a616f2eb3614b7871'},\n",
       "  {'index': 16, 'transactions': [{'sender_address': 'Alice', 'recipient_address': 'Bob', 'value': 10, 'data': 'Hello Bob!'}], 'author': '5', 'timestamp': 1695723910.3470535, 'previous_hash': '0004959639a67d43bb23d4b5ee9c1571a62be22ea173090a616f2eb3614b7871', 'nonce': 7532, 'hash': '000c4c02280321fbe8fbc7d2a3a05f48a4df1337891d2565239849a0c1a9b850'},\n",
       "  {'index': 17, 'transactions': [{'sender_address': 'Alice', 'recipient_address': 'Bob', 'value': 10, 'data': 'Hello Bob!'}], 'author': '3', 'timestamp': 1695723911.5254169, 'previous_hash': '000c4c02280321fbe8fbc7d2a3a05f48a4df1337891d2565239849a0c1a9b850', 'nonce': 4596, 'hash': '0007b3d6620acb5cdb8ee4b61bd481b83a62580c8341d7652c0f7ec7c9a45ec7'},\n",
       "  {'index': 18, 'transactions': [{'sender_address': 'Alice', 'recipient_address': 'Bob', 'value': 10, 'data': 'Hello Bob!'}], 'author': '5', 'timestamp': 1695723912.5607412, 'previous_hash': '0007b3d6620acb5cdb8ee4b61bd481b83a62580c8341d7652c0f7ec7c9a45ec7', 'nonce': 11925, 'hash': '0004f3bd069da382e7e6bd679777f39cbe5683308a4c741b64e055c3a445780f'},\n",
       "  {'index': 19, 'transactions': [{'sender_address': 'Alice', 'recipient_address': 'Bob', 'value': 10, 'data': 'Hello Bob!'}], 'author': '2', 'timestamp': 1695723913.7528133, 'previous_hash': '0004f3bd069da382e7e6bd679777f39cbe5683308a4c741b64e055c3a445780f', 'nonce': 17481, 'hash': '000d3bf3161e788349aee86ade6bc2c4a067d8915f667f689a25e6130ebc214b'},\n",
       "  {'index': 20, 'transactions': [{'sender_address': 'Alice', 'recipient_address': 'Bob', 'value': 10, 'data': 'Hello Bob!'}], 'author': '4', 'timestamp': 1695723914.8898256, 'previous_hash': '000d3bf3161e788349aee86ade6bc2c4a067d8915f667f689a25e6130ebc214b', 'nonce': 36873, 'hash': '000c91dffee85172dfc2ce9bda59afef7b1e5516fdf16d49e77eca66af17caf0'},\n",
       "  {'index': 21, 'transactions': [{'sender_address': 'Alice', 'recipient_address': 'Bob', 'value': 10, 'data': 'Hello Bob!'}], 'author': '3', 'timestamp': 1695723916.1792781, 'previous_hash': '000c91dffee85172dfc2ce9bda59afef7b1e5516fdf16d49e77eca66af17caf0', 'nonce': 11901, 'hash': '0008c5770bcb4480b23af7e19e4a951a73c30b538980625c2f379411b05cda94'},\n",
       "  {'index': 22, 'transactions': [{'sender_address': 'Alice', 'recipient_address': 'Bob', 'value': 10, 'data': 'Hello Bob!'}], 'author': '2', 'timestamp': 1695723917.3199701, 'previous_hash': '0008c5770bcb4480b23af7e19e4a951a73c30b538980625c2f379411b05cda94', 'nonce': 10400, 'hash': '000992965fdfcd43f78b11c6549184fbeda40df1aa9a79cd61f0fd19042728ff'},\n",
       "  {'index': 23, 'transactions': [{'sender_address': 'Alice', 'recipient_address': 'Bob', 'value': 10, 'data': 'Hello Bob!'}], 'author': '3', 'timestamp': 1695723918.454809, 'previous_hash': '000992965fdfcd43f78b11c6549184fbeda40df1aa9a79cd61f0fd19042728ff', 'nonce': 9499, 'hash': '0004fcf457d6f1ea0a3763e9e40f124f21e4ccac6273dcb1eb8a13e7459e11d5'},\n",
       "  {'index': 24, 'transactions': [{'sender_address': 'Alice', 'recipient_address': 'Bob', 'value': 10, 'data': 'Hello Bob!'}], 'author': '5', 'timestamp': 1695723919.5972955, 'previous_hash': '0004fcf457d6f1ea0a3763e9e40f124f21e4ccac6273dcb1eb8a13e7459e11d5', 'nonce': 7527, 'hash': '000460ba8692533c16d987831767cce15b1298bd6b97b1b37a15e717ebe918e3'},\n",
       "  {'index': 25, 'transactions': [{'sender_address': 'Alice', 'recipient_address': 'Bob', 'value': 10, 'data': 'Hello Bob!'}], 'author': '1', 'timestamp': 1695723920.7409973, 'previous_hash': '000460ba8692533c16d987831767cce15b1298bd6b97b1b37a15e717ebe918e3', 'nonce': 12880, 'hash': '000e4ce7cff7efbd0828a1ef659d5c35f961dd84036dcffb03d75e80200c12f4'},\n",
       "  {'index': 26, 'transactions': [{'sender_address': 'Alice', 'recipient_address': 'Bob', 'value': 10, 'data': 'Hello Bob!'}], 'author': '1', 'timestamp': 1695723921.755903, 'previous_hash': '000e4ce7cff7efbd0828a1ef659d5c35f961dd84036dcffb03d75e80200c12f4', 'nonce': 9609, 'hash': '000937a3e2c85ed9178083a3dfaa9391fa4222eb6eed8aa5e4842afc13d89451'},\n",
       "  {'index': 27, 'transactions': [{'sender_address': 'Alice', 'recipient_address': 'Bob', 'value': 10, 'data': 'Hello Bob!'}], 'author': '2', 'timestamp': 1695723922.9304569, 'previous_hash': '000937a3e2c85ed9178083a3dfaa9391fa4222eb6eed8aa5e4842afc13d89451', 'nonce': 14802, 'hash': '000d645ef0f7f1916de5cf8eb64a1fa81ece311b1e0343515708e6d76703f33f'},\n",
       "  {'index': 28, 'transactions': [{'sender_address': 'Alice', 'recipient_address': 'Bob', 'value': 10, 'data': 'Hello Bob!'}], 'author': '5', 'timestamp': 1695723924.0291274, 'previous_hash': '000d645ef0f7f1916de5cf8eb64a1fa81ece311b1e0343515708e6d76703f33f', 'nonce': 3804, 'hash': '000fa81b940775364b0b33d6ca4bc90298923d1ad5e19556eb5b98029e84c0f8'},\n",
       "  {'index': 29, 'transactions': [{'sender_address': 'Alice', 'recipient_address': 'Bob', 'value': 10, 'data': 'Hello Bob!'}], 'author': '4', 'timestamp': 1695723925.183653, 'previous_hash': '000fa81b940775364b0b33d6ca4bc90298923d1ad5e19556eb5b98029e84c0f8', 'nonce': 5455, 'hash': '000fa3d9514eefaf21e3a4af4f0aebc8673e9f924855c4ad91d346f98b4c37c7'},\n",
       "  {'index': 30, 'transactions': [{'sender_address': 'Alice', 'recipient_address': 'Bob', 'value': 10, 'data': 'Hello Bob!'}], 'author': '2', 'timestamp': 1695723926.2725532, 'previous_hash': '000fa3d9514eefaf21e3a4af4f0aebc8673e9f924855c4ad91d346f98b4c37c7', 'nonce': 7752, 'hash': '000be96d9c96b557f499c9860cd45cb9f6a039e1cd7ec667436dbd4f452f3977'},\n",
       "  {'index': 31, 'transactions': [{'sender_address': 'Alice', 'recipient_address': 'Bob', 'value': 10, 'data': 'Hello Bob!'}], 'author': '3', 'timestamp': 1695723927.4325948, 'previous_hash': '000be96d9c96b557f499c9860cd45cb9f6a039e1cd7ec667436dbd4f452f3977', 'nonce': 3863, 'hash': '000484e803edfae0d152648e2416e27672b4bcd76ebb34d8aa7a63af080aba9f'},\n",
       "  {'index': 32, 'transactions': [{'sender_address': 'Alice', 'recipient_address': 'Bob', 'value': 10, 'data': 'Hello Bob!'}], 'author': '3', 'timestamp': 1695723928.4999936, 'previous_hash': '000484e803edfae0d152648e2416e27672b4bcd76ebb34d8aa7a63af080aba9f', 'nonce': 7042, 'hash': '000e08a1e2ca92d7bb9bf212f88da0dd35ef4f73578069d93b1a42abcf4ae223'},\n",
       "  {'index': 33, 'transactions': [{'sender_address': 'Alice', 'recipient_address': 'Bob', 'value': 10, 'data': 'Hello Bob!'}], 'author': '4', 'timestamp': 1695723929.708813, 'previous_hash': '000e08a1e2ca92d7bb9bf212f88da0dd35ef4f73578069d93b1a42abcf4ae223', 'nonce': 2431, 'hash': '000a170152f192bd0b27ef1350b1289e38ed7b53f3e75a7d99b633f518a4781f'},\n",
       "  {'index': 34, 'transactions': [{'sender_address': 'Alice', 'recipient_address': 'Bob', 'value': 10, 'data': 'Hello Bob!'}], 'author': '3', 'timestamp': 1695723930.7769752, 'previous_hash': '000a170152f192bd0b27ef1350b1289e38ed7b53f3e75a7d99b633f518a4781f', 'nonce': 4215, 'hash': '000700010c525ece6bec2fafeca481860aebc39d950406e901a0089a6bba212f'},\n",
       "  {'index': 35, 'transactions': [{'sender_address': 'Alice', 'recipient_address': 'Bob', 'value': 10, 'data': 'Hello Bob!'}], 'author': '3', 'timestamp': 1695723931.8186197, 'previous_hash': '000700010c525ece6bec2fafeca481860aebc39d950406e901a0089a6bba212f', 'nonce': 14673, 'hash': '000ea9fad7eb082920ebb60a0cb8cc2ed9f841f1a9c42cbfaaf7a91748a0adca'},\n",
       "  {'index': 36, 'transactions': [{'sender_address': 'Alice', 'recipient_address': 'Bob', 'value': 10, 'data': 'Hello Bob!'}], 'author': '5', 'timestamp': 1695723932.9290833, 'previous_hash': '000ea9fad7eb082920ebb60a0cb8cc2ed9f841f1a9c42cbfaaf7a91748a0adca', 'nonce': 10248, 'hash': '0008670fbb022101292a5a4f33d0beb40ca70c4974004af1fe3f457e7cb9f1f1'},\n",
       "  {'index': 37, 'transactions': [{'sender_address': 'Alice', 'recipient_address': 'Bob', 'value': 10, 'data': 'Hello Bob!'}], 'author': '3', 'timestamp': 1695723934.1947298, 'previous_hash': '0008670fbb022101292a5a4f33d0beb40ca70c4974004af1fe3f457e7cb9f1f1', 'nonce': 13344, 'hash': '000664bf8ad0bfaa74c6cc9707aea6c9f023d51e182168b9b2be114d18bb353b'},\n",
       "  {'index': 38, 'transactions': [{'sender_address': 'Alice', 'recipient_address': 'Bob', 'value': 10, 'data': 'Hello Bob!'}], 'author': '3', 'timestamp': 1695723935.2384214, 'previous_hash': '000664bf8ad0bfaa74c6cc9707aea6c9f023d51e182168b9b2be114d18bb353b', 'nonce': 9798, 'hash': '000ac19e64b8a9b9106974e964736feaee8513eb6e0d5a8c0d6d2f39e28ba7c8'},\n",
       "  {'index': 39, 'transactions': [{'sender_address': 'Alice', 'recipient_address': 'Bob', 'value': 10, 'data': 'Hello Bob!'}], 'author': '4', 'timestamp': 1695723936.5044432, 'previous_hash': '000ac19e64b8a9b9106974e964736feaee8513eb6e0d5a8c0d6d2f39e28ba7c8', 'nonce': 5877, 'hash': '000be03fed3424ff278d24e62771d9670b6804a561927d7bd7cd959267c54966'},\n",
       "  {'index': 40, 'transactions': [{'sender_address': 'Alice', 'recipient_address': 'Bob', 'value': 10, 'data': 'Hello Bob!'}], 'author': '1', 'timestamp': 1695723937.6625102, 'previous_hash': '000be03fed3424ff278d24e62771d9670b6804a561927d7bd7cd959267c54966', 'nonce': 7756, 'hash': '000bab8b9e4b0aebd8ae1383bb0ffaf1f19dc0244f766b8ee0af4ff1af869f07'},\n",
       "  {'index': 41, 'transactions': [{'sender_address': 'Alice', 'recipient_address': 'Bob', 'value': 10, 'data': 'Hello Bob!'}], 'author': '3', 'timestamp': 1695723938.7253807, 'previous_hash': '000bab8b9e4b0aebd8ae1383bb0ffaf1f19dc0244f766b8ee0af4ff1af869f07', 'nonce': 4227, 'hash': '0008cca59d523bad6b30d194bf42d97ae786c6c22f16e775cb892dedf342c57f'},\n",
       "  {'index': 42, 'transactions': [{'sender_address': 'Alice', 'recipient_address': 'Bob', 'value': 10, 'data': 'Hello Bob!'}], 'author': '1', 'timestamp': 1695723939.8414557, 'previous_hash': '0008cca59d523bad6b30d194bf42d97ae786c6c22f16e775cb892dedf342c57f', 'nonce': 1944, 'hash': '000e77c232f8c8f03273976d8a2921550c7fc77daa0892084e79bcf5909d9be3'},\n",
       "  {'index': 43, 'transactions': [{'sender_address': 'Alice', 'recipient_address': 'Bob', 'value': 10, 'data': 'Hello Bob!'}], 'author': '2', 'timestamp': 1695723940.8549984, 'previous_hash': '000e77c232f8c8f03273976d8a2921550c7fc77daa0892084e79bcf5909d9be3', 'nonce': 16219, 'hash': '000c9fc289efb7a0d1845d647c88e5f989e202facae7fe43bb75115f4033a483'},\n",
       "  {'index': 44, 'transactions': [{'sender_address': 'Alice', 'recipient_address': 'Bob', 'value': 10, 'data': 'Hello Bob!'}], 'author': '5', 'timestamp': 1695723941.9727018, 'previous_hash': '000c9fc289efb7a0d1845d647c88e5f989e202facae7fe43bb75115f4033a483', 'nonce': 10074, 'hash': '000534e1e44c9fe98ef0fde4f402eeaaf208b381c431f437b8f23acdde5d6781'},\n",
       "  {'index': 45, 'transactions': [{'sender_address': 'Alice', 'recipient_address': 'Bob', 'value': 10, 'data': 'Hello Bob!'}], 'author': '4', 'timestamp': 1695723943.0436404, 'previous_hash': '000534e1e44c9fe98ef0fde4f402eeaaf208b381c431f437b8f23acdde5d6781', 'nonce': 6801, 'hash': '0001fffa972df195c9c35e0c35d47769a7a867101bb18fd4ef172824bdb1f5c0'},\n",
       "  {'index': 46, 'transactions': [{'sender_address': 'Alice', 'recipient_address': 'Bob', 'value': 10, 'data': 'Hello Bob!'}], 'author': '4', 'timestamp': 1695723944.1226883, 'previous_hash': '0001fffa972df195c9c35e0c35d47769a7a867101bb18fd4ef172824bdb1f5c0', 'nonce': 7402, 'hash': '00025fd9f07c714012c50820951a10e793760bb99bc39fc8ca4ede8e9a4ebe56'},\n",
       "  {'index': 47, 'transactions': [{'sender_address': 'Alice', 'recipient_address': 'Bob', 'value': 10, 'data': 'Hello Bob!'}], 'author': '2', 'timestamp': 1695723945.234525, 'previous_hash': '00025fd9f07c714012c50820951a10e793760bb99bc39fc8ca4ede8e9a4ebe56', 'nonce': 6427, 'hash': '0005d682e8e165fa22adcc1f1f26d9304b6dc02b1b0b8383e8717aef44ab610f'},\n",
       "  {'index': 48, 'transactions': [{'sender_address': 'Alice', 'recipient_address': 'Bob', 'value': 10, 'data': 'Hello Bob!'}], 'author': '1', 'timestamp': 1695723946.4500957, 'previous_hash': '0005d682e8e165fa22adcc1f1f26d9304b6dc02b1b0b8383e8717aef44ab610f', 'nonce': 15824, 'hash': '000688f1dc45e361ef5193bf836fc4f7cc88e8b607a6411372690b4777f809a3'},\n",
       "  {'index': 49, 'transactions': [{'sender_address': 'Alice', 'recipient_address': 'Bob', 'value': 10, 'data': 'Hello Bob!'}], 'author': '4', 'timestamp': 1695723947.7113214, 'previous_hash': '000688f1dc45e361ef5193bf836fc4f7cc88e8b607a6411372690b4777f809a3', 'nonce': 11576, 'hash': '00048b67b748ee47d929762812dfb928190516208ed0d7772ad4af85200755a4'},\n",
       "  {'index': 50, 'transactions': [{'sender_address': 'Alice', 'recipient_address': 'Bob', 'value': 10, 'data': 'Hello Bob!'}], 'author': '5', 'timestamp': 1695723948.7943668, 'previous_hash': '00048b67b748ee47d929762812dfb928190516208ed0d7772ad4af85200755a4', 'nonce': 7557, 'hash': '000f0fac4961e0a430bf5e327bf190a148d7846774c422b927fdd44b9093a736'},\n",
       "  {'index': 51, 'transactions': [{'sender_address': 'Alice', 'recipient_address': 'Bob', 'value': 10, 'data': 'Hello Bob!'}], 'author': '1', 'timestamp': 1695723949.9921026, 'previous_hash': '000f0fac4961e0a430bf5e327bf190a148d7846774c422b927fdd44b9093a736', 'nonce': 3485, 'hash': '0003d8f20a6b34d7eb3d7dd22dbdde81cf9b96b5dc79b25b5cff089be87ddecf'},\n",
       "  {'index': 52, 'transactions': [{'sender_address': 'Alice', 'recipient_address': 'Bob', 'value': 10, 'data': 'Hello Bob!'}], 'author': '1', 'timestamp': 1695723951.0825162, 'previous_hash': '0003d8f20a6b34d7eb3d7dd22dbdde81cf9b96b5dc79b25b5cff089be87ddecf', 'nonce': 9480, 'hash': '00086752b15a71a9cd9a6820e459b008c065eed97a5eb5605b49da764ce52a71'},\n",
       "  {'index': 53, 'transactions': [{'sender_address': 'Alice', 'recipient_address': 'Bob', 'value': 10, 'data': 'Hello Bob!'}], 'author': '2', 'timestamp': 1695723952.1919, 'previous_hash': '00086752b15a71a9cd9a6820e459b008c065eed97a5eb5605b49da764ce52a71', 'nonce': 8437, 'hash': '0004dee14cf45119cc1f7dcc141cd0223fd7b90da089ae917afe2b29497bb914'},\n",
       "  {'index': 54, 'transactions': [{'sender_address': 'Alice', 'recipient_address': 'Bob', 'value': 10, 'data': 'Hello Bob!'}], 'author': '4', 'timestamp': 1695723953.372851, 'previous_hash': '0004dee14cf45119cc1f7dcc141cd0223fd7b90da089ae917afe2b29497bb914', 'nonce': 13345, 'hash': '000182bc4dff7d39f3a617a6088133695e916c7de42ce0556f8ae779e19bcd05'},\n",
       "  {'index': 55, 'transactions': [{'sender_address': 'Alice', 'recipient_address': 'Bob', 'value': 10, 'data': 'Hello Bob!'}], 'author': '4', 'timestamp': 1695723954.4667213, 'previous_hash': '000182bc4dff7d39f3a617a6088133695e916c7de42ce0556f8ae779e19bcd05', 'nonce': 29118, 'hash': '00070e8041a1d4699460cfc416d9db48d85df4bf7048309976e7ae2ea6c76370'},\n",
       "  {'index': 56, 'transactions': [{'sender_address': 'Alice', 'recipient_address': 'Bob', 'value': 10, 'data': 'Hello Bob!'}], 'author': '2', 'timestamp': 1695723955.6149712, 'previous_hash': '00070e8041a1d4699460cfc416d9db48d85df4bf7048309976e7ae2ea6c76370', 'nonce': 4327, 'hash': '000ef28d491dd1fcd7387434e9a99275a808ffe1c4fde30d6a8fb0d5d7ae8621'},\n",
       "  {'index': 57, 'transactions': [{'sender_address': 'Alice', 'recipient_address': 'Bob', 'value': 10, 'data': 'Hello Bob!'}], 'author': '3', 'timestamp': 1695723956.7233055, 'previous_hash': '000ef28d491dd1fcd7387434e9a99275a808ffe1c4fde30d6a8fb0d5d7ae8621', 'nonce': 15025, 'hash': '000ae793d0dfd256039885be30733a7bdc951c2d1c8064b03baa899c6ff94f79'},\n",
       "  {'index': 58, 'transactions': [{'sender_address': 'Alice', 'recipient_address': 'Bob', 'value': 10, 'data': 'Hello Bob!'}], 'author': '5', 'timestamp': 1695723957.8664598, 'previous_hash': '000ae793d0dfd256039885be30733a7bdc951c2d1c8064b03baa899c6ff94f79', 'nonce': 19782, 'hash': '00080ba11581d5fdb37f1f4bdf62415f8d1d7cfd62e472da30e6372a18d04992'},\n",
       "  {'index': 59, 'transactions': [{'sender_address': 'Alice', 'recipient_address': 'Bob', 'value': 10, 'data': 'Hello Bob!'}], 'author': '3', 'timestamp': 1695723959.1244037, 'previous_hash': '00080ba11581d5fdb37f1f4bdf62415f8d1d7cfd62e472da30e6372a18d04992', 'nonce': 15110, 'hash': '000350e0a5f87cd59072d10c65d981335aac420452f879349a0a9efe6d065781'},\n",
       "  {'index': 60, 'transactions': [{'sender_address': 'Alice', 'recipient_address': 'Bob', 'value': 10, 'data': 'Hello Bob!'}], 'author': '5', 'timestamp': 1695723960.2167768, 'previous_hash': '000350e0a5f87cd59072d10c65d981335aac420452f879349a0a9efe6d065781', 'nonce': 2672, 'hash': '000375d11ba0051cfd0f3215b1acfe77d7577e1e817dee38336363daea5ca970'},\n",
       "  {'index': 61, 'transactions': [{'sender_address': 'Alice', 'recipient_address': 'Bob', 'value': 10, 'data': 'Hello Bob!'}], 'author': '2', 'timestamp': 1695723961.288361, 'previous_hash': '000375d11ba0051cfd0f3215b1acfe77d7577e1e817dee38336363daea5ca970', 'nonce': 6437, 'hash': '00089ad2791a4c3c5d67519b54fc5fc5a26f714f750a56949ef9230ac1a1eb53'},\n",
       "  {'index': 62, 'transactions': [{'sender_address': 'Alice', 'recipient_address': 'Bob', 'value': 10, 'data': 'Hello Bob!'}], 'author': '1', 'timestamp': 1695723962.4732828, 'previous_hash': '00089ad2791a4c3c5d67519b54fc5fc5a26f714f750a56949ef9230ac1a1eb53', 'nonce': 4654, 'hash': '00075fb9c9745fefe243d98393aeafbf61b327db05f574961a3a35124118d36b'},\n",
       "  {'index': 63, 'transactions': [{'sender_address': 'Alice', 'recipient_address': 'Bob', 'value': 10, 'data': 'Hello Bob!'}], 'author': '4', 'timestamp': 1695723963.7293084, 'previous_hash': '00075fb9c9745fefe243d98393aeafbf61b327db05f574961a3a35124118d36b', 'nonce': 5725, 'hash': '000b665a6407e6217c282532941628acdc829b50aaea35e0e5b035f83c43d9ec'},\n",
       "  {'index': 64, 'transactions': [{'sender_address': 'Alice', 'recipient_address': 'Bob', 'value': 10, 'data': 'Hello Bob!'}], 'author': '4', 'timestamp': 1695723964.9042892, 'previous_hash': '000b665a6407e6217c282532941628acdc829b50aaea35e0e5b035f83c43d9ec', 'nonce': 6640, 'hash': '000c54ee14df5cb3ffa35b349b3034cccd583b94eb7f2bc648b94930f073f0ce'},\n",
       "  {'index': 65, 'transactions': [{'sender_address': 'Alice', 'recipient_address': 'Bob', 'value': 10, 'data': 'Hello Bob!'}], 'author': '1', 'timestamp': 1695723966.0453484, 'previous_hash': '000c54ee14df5cb3ffa35b349b3034cccd583b94eb7f2bc648b94930f073f0ce', 'nonce': 19164, 'hash': '000e24834a37c67f10fe7cac1a4a506fe0e2ec919d2bbd35cfd9e8ebb32b292e'},\n",
       "  {'index': 66, 'transactions': [{'sender_address': 'Alice', 'recipient_address': 'Bob', 'value': 10, 'data': 'Hello Bob!'}], 'author': '4', 'timestamp': 1695723967.1907434, 'previous_hash': '000e24834a37c67f10fe7cac1a4a506fe0e2ec919d2bbd35cfd9e8ebb32b292e', 'nonce': 14300, 'hash': '000d76c0ddede5ffeb0d90d16bce4dd793d3f0028c158eb5f2587235adf6dc85'},\n",
       "  {'index': 67, 'transactions': [{'sender_address': 'Alice', 'recipient_address': 'Bob', 'value': 10, 'data': 'Hello Bob!'}], 'author': '5', 'timestamp': 1695723968.3988447, 'previous_hash': '000d76c0ddede5ffeb0d90d16bce4dd793d3f0028c158eb5f2587235adf6dc85', 'nonce': 3002, 'hash': '0005bb6df715d815534024bf4fb5cc787b1a5594bb7b0fda9aaa485d8fa05d6d'},\n",
       "  {'index': 68, 'transactions': [{'sender_address': 'Alice', 'recipient_address': 'Bob', 'value': 10, 'data': 'Hello Bob!'}], 'author': '3', 'timestamp': 1695723969.4669323, 'previous_hash': '0005bb6df715d815534024bf4fb5cc787b1a5594bb7b0fda9aaa485d8fa05d6d', 'nonce': 4498, 'hash': '0005182c4da4350c5723b964f3cfeceada785637c5060f5268af0c5121d1e577'},\n",
       "  {'index': 69, 'transactions': [{'sender_address': 'Alice', 'recipient_address': 'Bob', 'value': 10, 'data': 'Hello Bob!'}], 'author': '3', 'timestamp': 1695723970.5914524, 'previous_hash': '0005182c4da4350c5723b964f3cfeceada785637c5060f5268af0c5121d1e577', 'nonce': 9108, 'hash': '0005467c449a766889c38434f9ed9bda91db1cccec3285f9a7a4fc3d456bced5'},\n",
       "  {'index': 70, 'transactions': [{'sender_address': 'Alice', 'recipient_address': 'Bob', 'value': 10, 'data': 'Hello Bob!'}], 'author': '2', 'timestamp': 1695723971.9457142, 'previous_hash': '0005467c449a766889c38434f9ed9bda91db1cccec3285f9a7a4fc3d456bced5', 'nonce': 5781, 'hash': '0002b6adfa2be463f196565c15c6f371c8713fb837390432d4c2736670462d9b'},\n",
       "  {'index': 71, 'transactions': [{'sender_address': 'Alice', 'recipient_address': 'Bob', 'value': 10, 'data': 'Hello Bob!'}], 'author': '1', 'timestamp': 1695723973.200883, 'previous_hash': '0002b6adfa2be463f196565c15c6f371c8713fb837390432d4c2736670462d9b', 'nonce': 4370, 'hash': '000d2eb5d3d5eb1de948d588b4cb5371ec3d85b9085fd6aa1c1f2a0fe7edb794'},\n",
       "  {'index': 72, 'transactions': [{'sender_address': 'Alice', 'recipient_address': 'Bob', 'value': 10, 'data': 'Hello Bob!'}], 'author': '1', 'timestamp': 1695723974.2648783, 'previous_hash': '000d2eb5d3d5eb1de948d588b4cb5371ec3d85b9085fd6aa1c1f2a0fe7edb794', 'nonce': 8052, 'hash': '0004fb8393809ec4f1c8374d0fd58bcbfa6ab3a67c00db5c1253cce39031e41b'},\n",
       "  {'index': 73, 'transactions': [{'sender_address': 'Alice', 'recipient_address': 'Bob', 'value': 10, 'data': 'Hello Bob!'}], 'author': '4', 'timestamp': 1695723975.4976344, 'previous_hash': '0004fb8393809ec4f1c8374d0fd58bcbfa6ab3a67c00db5c1253cce39031e41b', 'nonce': 7512, 'hash': '000ecaacd743f4967e11bc8902d7259dde9762c29386021ea8d79afa361a98a7'},\n",
       "  {'index': 74, 'transactions': [{'sender_address': 'Alice', 'recipient_address': 'Bob', 'value': 10, 'data': 'Hello Bob!'}], 'author': '3', 'timestamp': 1695723976.5657773, 'previous_hash': '000ecaacd743f4967e11bc8902d7259dde9762c29386021ea8d79afa361a98a7', 'nonce': 21100, 'hash': '000dd37cd137109545636866ca675c37c739f475235b027f1acb95a71144b586'},\n",
       "  {'index': 75, 'transactions': [{'sender_address': 'Alice', 'recipient_address': 'Bob', 'value': 10, 'data': 'Hello Bob!'}], 'author': '2', 'timestamp': 1695723977.6939971, 'previous_hash': '000dd37cd137109545636866ca675c37c739f475235b027f1acb95a71144b586', 'nonce': 12300, 'hash': '00033330c026d9d8eca463faadfaeb500d2fc3d9e1d5c84f6bb843b44aa2570c'},\n",
       "  {'index': 76, 'transactions': [{'sender_address': 'Alice', 'recipient_address': 'Bob', 'value': 10, 'data': 'Hello Bob!'}], 'author': '3', 'timestamp': 1695723978.8179111, 'previous_hash': '00033330c026d9d8eca463faadfaeb500d2fc3d9e1d5c84f6bb843b44aa2570c', 'nonce': 2937, 'hash': '000321f121843f978c14039d09f991c0f80a33b9e3c30bf2d64c1fe8d11bdda4'},\n",
       "  {'index': 77, 'transactions': [{'sender_address': 'Alice', 'recipient_address': 'Bob', 'value': 10, 'data': 'Hello Bob!'}], 'author': '3', 'timestamp': 1695723979.9062765, 'previous_hash': '000321f121843f978c14039d09f991c0f80a33b9e3c30bf2d64c1fe8d11bdda4', 'nonce': 16980, 'hash': '000ac883914e2368b8c85019b9af26c3e50cd21ffcbbc0c5e6cbaddc92a464b3'},\n",
       "  {'index': 78, 'transactions': [{'sender_address': 'Alice', 'recipient_address': 'Bob', 'value': 10, 'data': 'Hello Bob!'}], 'author': '2', 'timestamp': 1695723981.0132418, 'previous_hash': '000ac883914e2368b8c85019b9af26c3e50cd21ffcbbc0c5e6cbaddc92a464b3', 'nonce': 10585, 'hash': '0001bc0a5015ae39029f120c6282802530d2d451833779429be8d0cb391cad00'},\n",
       "  {'index': 79, 'transactions': [{'sender_address': 'Alice', 'recipient_address': 'Bob', 'value': 10, 'data': 'Hello Bob!'}], 'author': '5', 'timestamp': 1695723982.1115558, 'previous_hash': '0001bc0a5015ae39029f120c6282802530d2d451833779429be8d0cb391cad00', 'nonce': 7586, 'hash': '00038a4df7a0c97606698814810f57fd14eab88a1a113efeb586d972aa5ca645'},\n",
       "  {'index': 80, 'transactions': [{'sender_address': 'Alice', 'recipient_address': 'Bob', 'value': 10, 'data': 'Hello Bob!'}], 'author': '3', 'timestamp': 1695723983.1984236, 'previous_hash': '00038a4df7a0c97606698814810f57fd14eab88a1a113efeb586d972aa5ca645', 'nonce': 24863, 'hash': '000fcd5a1f7f9d7c01f57c6d377b03fbb45adf586436cc4f28725832386c81f0'},\n",
       "  {'index': 81, 'transactions': [{'sender_address': 'Alice', 'recipient_address': 'Bob', 'value': 10, 'data': 'Hello Bob!'}], 'author': '3', 'timestamp': 1695723984.3054361, 'previous_hash': '000fcd5a1f7f9d7c01f57c6d377b03fbb45adf586436cc4f28725832386c81f0', 'nonce': 4473, 'hash': '0004bf4bbe0864956ccf38c2b85a469c3f2a49691f88e5d25fa29f19a882ee85'},\n",
       "  {'index': 82, 'transactions': [{'sender_address': 'Alice', 'recipient_address': 'Bob', 'value': 10, 'data': 'Hello Bob!'}], 'author': '5', 'timestamp': 1695723985.4953017, 'previous_hash': '0004bf4bbe0864956ccf38c2b85a469c3f2a49691f88e5d25fa29f19a882ee85', 'nonce': 12930, 'hash': '0008de98fb8e797a16b1fec8f94456bdd98a33f6d65316efba8923be57054737'},\n",
       "  {'index': 83, 'transactions': [{'sender_address': 'Alice', 'recipient_address': 'Bob', 'value': 10, 'data': 'Hello Bob!'}], 'author': '1', 'timestamp': 1695723986.6159692, 'previous_hash': '0008de98fb8e797a16b1fec8f94456bdd98a33f6d65316efba8923be57054737', 'nonce': 11325, 'hash': '0007e362dee854dedeaaaad7d21993b8ab234f86265a5d4f7705b123548da21c'},\n",
       "  {'index': 84, 'transactions': [{'sender_address': 'Alice', 'recipient_address': 'Bob', 'value': 10, 'data': 'Hello Bob!'}], 'author': '1', 'timestamp': 1695723987.664839, 'previous_hash': '0007e362dee854dedeaaaad7d21993b8ab234f86265a5d4f7705b123548da21c', 'nonce': 9311, 'hash': '0009c88001a47f163ba3bc0445b9cc22fbbbf85fe5fb9a9c576c687a7c8a12c7'},\n",
       "  {'index': 85, 'transactions': [{'sender_address': 'Alice', 'recipient_address': 'Bob', 'value': 10, 'data': 'Hello Bob!'}], 'author': '1', 'timestamp': 1695723988.7291975, 'previous_hash': '0009c88001a47f163ba3bc0445b9cc22fbbbf85fe5fb9a9c576c687a7c8a12c7', 'nonce': 5735, 'hash': '000ac4c430e760517e2b88b0ad88ddfe8e79f18eefca7250d7415d06893995d9'},\n",
       "  {'index': 86, 'transactions': [{'sender_address': 'Alice', 'recipient_address': 'Bob', 'value': 10, 'data': 'Hello Bob!'}], 'author': '2', 'timestamp': 1695723990.035235, 'previous_hash': '000ac4c430e760517e2b88b0ad88ddfe8e79f18eefca7250d7415d06893995d9', 'nonce': 4716, 'hash': '0009ceaee90c64d7d010cd5bdef9e47b09800986ebaf9684982b1d6122940035'},\n",
       "  {'index': 87, 'transactions': [{'sender_address': 'Alice', 'recipient_address': 'Bob', 'value': 10, 'data': 'Hello Bob!'}], 'author': '2', 'timestamp': 1695723991.1101792, 'previous_hash': '0009ceaee90c64d7d010cd5bdef9e47b09800986ebaf9684982b1d6122940035', 'nonce': 5504, 'hash': '00089fe10015d0a6aafeb1f0e45f08d90966766fa6afa4b10136c06a2fe32ffa'},\n",
       "  {'index': 88, 'transactions': [{'sender_address': 'Alice', 'recipient_address': 'Bob', 'value': 10, 'data': 'Hello Bob!'}], 'author': '2', 'timestamp': 1695723992.1667213, 'previous_hash': '00089fe10015d0a6aafeb1f0e45f08d90966766fa6afa4b10136c06a2fe32ffa', 'nonce': 12613, 'hash': '000af3a4a49481dfdecac9116f7b15b4c5a84ef42e702244ff8a74173aa8df04'},\n",
       "  {'index': 89, 'transactions': [{'sender_address': 'Alice', 'recipient_address': 'Bob', 'value': 10, 'data': 'Hello Bob!'}], 'author': '2', 'timestamp': 1695723993.238229, 'previous_hash': '000af3a4a49481dfdecac9116f7b15b4c5a84ef42e702244ff8a74173aa8df04', 'nonce': 9580, 'hash': '0002fcaf66b2250598612ca6ae586a94291447f2ab6bf7a9bbf185701c9848b6'},\n",
       "  {'index': 90, 'transactions': [{'sender_address': 'Alice', 'recipient_address': 'Bob', 'value': 10, 'data': 'Hello Bob!'}], 'author': '2', 'timestamp': 1695723994.3166823, 'previous_hash': '0002fcaf66b2250598612ca6ae586a94291447f2ab6bf7a9bbf185701c9848b6', 'nonce': 5515, 'hash': '0001720d3d9e95348049dca1343de71e330c131e3838c8cb8380da8e06b3b0da'},\n",
       "  {'index': 91, 'transactions': [{'sender_address': 'Alice', 'recipient_address': 'Bob', 'value': 10, 'data': 'Hello Bob!'}], 'author': '4', 'timestamp': 1695723995.5203662, 'previous_hash': '0001720d3d9e95348049dca1343de71e330c131e3838c8cb8380da8e06b3b0da', 'nonce': 11645, 'hash': '000085f99708a510765f12d6155913c757ae98695d8205e841da519a1f9a332c'},\n",
       "  {'index': 92, 'transactions': [{'sender_address': 'Alice', 'recipient_address': 'Bob', 'value': 10, 'data': 'Hello Bob!'}], 'author': '3', 'timestamp': 1695723996.657193, 'previous_hash': '000085f99708a510765f12d6155913c757ae98695d8205e841da519a1f9a332c', 'nonce': 11523, 'hash': '0005d48ebcfe6b17b9d98d20d4bba2f3301437d16b106641a3294b1489decb11'},\n",
       "  {'index': 93, 'transactions': [{'sender_address': 'Alice', 'recipient_address': 'Bob', 'value': 10, 'data': 'Hello Bob!'}], 'author': '2', 'timestamp': 1695723997.6989806, 'previous_hash': '0005d48ebcfe6b17b9d98d20d4bba2f3301437d16b106641a3294b1489decb11', 'nonce': 6476, 'hash': '000b5efbe202f92229f57df9110cdccc84032685c75996478b5fa25f754812fb'},\n",
       "  {'index': 94, 'transactions': [{'sender_address': 'Alice', 'recipient_address': 'Bob', 'value': 10, 'data': 'Hello Bob!'}], 'author': '3', 'timestamp': 1695723998.8547263, 'previous_hash': '000b5efbe202f92229f57df9110cdccc84032685c75996478b5fa25f754812fb', 'nonce': 2536, 'hash': '0008247eb9420879930f6d9f2f433f7b22bc29d77d9dde5d661aa9d64ff5d0df'},\n",
       "  {'index': 95, 'transactions': [{'sender_address': 'Alice', 'recipient_address': 'Bob', 'value': 10, 'data': 'Hello Bob!'}], 'author': '2', 'timestamp': 1695723999.9017625, 'previous_hash': '0008247eb9420879930f6d9f2f433f7b22bc29d77d9dde5d661aa9d64ff5d0df', 'nonce': 3959, 'hash': '00074df15cd773a435389289d689bc1b047285d3c7088e2156493a08d8f3b84f'},\n",
       "  {'index': 96, 'transactions': [{'sender_address': 'Alice', 'recipient_address': 'Bob', 'value': 10, 'data': 'Hello Bob!'}], 'author': '3', 'timestamp': 1695724001.1133091, 'previous_hash': '00074df15cd773a435389289d689bc1b047285d3c7088e2156493a08d8f3b84f', 'nonce': 6985, 'hash': '0005ba7e02477cc175e23c40817524678b9aa445bec7bd710dc5c4891f2659ab'},\n",
       "  {'index': 97, 'transactions': [{'sender_address': 'Alice', 'recipient_address': 'Bob', 'value': 10, 'data': 'Hello Bob!'}], 'author': '5', 'timestamp': 1695724002.216581, 'previous_hash': '0005ba7e02477cc175e23c40817524678b9aa445bec7bd710dc5c4891f2659ab', 'nonce': 3524, 'hash': '0005ad38d6b6550c384a8262f6ca78742efd3702e8b4a05f982960d363107e5b'},\n",
       "  {'index': 98, 'transactions': [{'sender_address': 'Alice', 'recipient_address': 'Bob', 'value': 10, 'data': 'Hello Bob!'}], 'author': '4', 'timestamp': 1695724003.3587005, 'previous_hash': '0005ad38d6b6550c384a8262f6ca78742efd3702e8b4a05f982960d363107e5b', 'nonce': 9267, 'hash': '00069d9c79ed022e9d053713861aa88ecca059f2f9fd94c907f06bbe2d9a2387'},\n",
       "  {'index': 99, 'transactions': [{'sender_address': 'Alice', 'recipient_address': 'Bob', 'value': 10, 'data': 'Hello Bob!'}], 'author': '2', 'timestamp': 1695724004.6106694, 'previous_hash': '00069d9c79ed022e9d053713861aa88ecca059f2f9fd94c907f06bbe2d9a2387', 'nonce': 11819, 'hash': '0004f9408a57fc401c4f630ec0e41b084b7c0d133ae9d961e6c9c8b0ec3ba4c5'},\n",
       "  {'index': 100, 'transactions': [{'sender_address': 'Alice', 'recipient_address': 'Bob', 'value': 10, 'data': 'Hello Bob!'}], 'author': '5', 'timestamp': 1695724005.6531336, 'previous_hash': '0004f9408a57fc401c4f630ec0e41b084b7c0d133ae9d961e6c9c8b0ec3ba4c5', 'nonce': 4897, 'hash': '000a0ebeead0d49819be69948a3cfa66c66ea6609cdc62f642b7322a82a4d40d'}],\n",
       " 'current_mainnet_peer_name': '5',\n",
       " 'peers': ['1', '2', '3', '4', '5']}"
      ]
     },
     "execution_count": 23,
     "metadata": {},
     "output_type": "execute_result"
    }
   ],
   "source": [
    "MainNet.get_chain()"
   ]
  },
  {
   "cell_type": "markdown",
   "id": "CQjLvLRz1zRu",
   "metadata": {
    "id": "CQjLvLRz1zRu"
   },
   "source": [
    "peer3 - 'author': '3' - 26\n",
    "Перезапускал несколько раз, иногда другой пир имел максимальное значение. Поэтому при N >> 100 по ЗБЧ должно быть примерно одинаково у всех"
   ]
  },
  {
   "cell_type": "markdown",
   "id": "e1ef8e6b",
   "metadata": {
    "id": "e1ef8e6b"
   },
   "source": [
    "### Task5. Suppose all blocks have the same timestamp as the genesis block. Mine 5 blocks with transactions from task1 - use the peer with the name 'Satoshi'. Use the template below to redefine the updated mine() function with fixed time.\n",
    "\n",
    "### Find the hash of the block after the block from the task2."
   ]
  },
  {
   "cell_type": "markdown",
   "id": "6j2SZSZV1ymP",
   "metadata": {
    "id": "6j2SZSZV1ymP"
   },
   "source": []
  },
  {
   "cell_type": "code",
   "execution_count": 24,
   "id": "37a3d0ec",
   "metadata": {
    "id": "37a3d0ec"
   },
   "outputs": [],
   "source": [
    "from blockchain import BlockchainPeer, BlockchainMainnet\n",
    "import time\n",
    "from typing import List, Dict, Set, Optional\n",
    "from hashlib import sha256\n",
    "from copy import deepcopy\n",
    "\n",
    "class FixedTimeBlockchainPeer(BlockchainPeer):\n",
    "    # difficulty of our PoW algorithm\n",
    "    difficulty = 3\n",
    "\n",
    "    def __init__(self, peer_name: str):\n",
    "        self.peer_name: str = peer_name\n",
    "        self.unconfirmed_transactions: List[Transaction] = [] # mempool\n",
    "        self.chain: List[Block] = None\n",
    "        self.__init_blockchain()\n",
    "\n",
    "    def create_genesis_block(self) -> None:\n",
    "        \"\"\"\n",
    "        A function to generate genesis block and appends it to\n",
    "        the chain. The block has index 0, previous_hash as 0, and\n",
    "        a valid hash.\n",
    "        \"\"\"\n",
    "        genesis_block = Block(\n",
    "            index=0, transactions=[],\n",
    "            author='Satoshi', timestamp=0,\n",
    "            nonce=0, previous_hash=\"0\",\n",
    "        )\n",
    "        genesis_block.hash = self.proof_of_work(genesis_block)\n",
    "        self.chain = []\n",
    "        self.chain.append(genesis_block)\n",
    "        #logging.info(f\"{self.peer_name} | Created genesis block {genesis_block.to_json()}\")\n",
    "\n",
    "    @property\n",
    "    def last_block(self):\n",
    "        return self.chain[-1]\n",
    "\n",
    "    def __add_block(self, block: Block, proof: str):\n",
    "        \"\"\"\n",
    "        A function that adds the block to the chain after verification.\n",
    "        Verification includes:\n",
    "        * Checking if the proof is valid.\n",
    "        * The previous_hash referred in the block and the hash of latest block\n",
    "          in the chain match.\n",
    "\n",
    "        Args:\n",
    "            block (Block): block to be added\n",
    "            proof (str): proof of work result\n",
    "        \"\"\"\n",
    "        #logging.info(f\"{self.peer_name} | Adding block {block.to_json()}\")\n",
    "\n",
    "        previous_hash = self.last_block.hash\n",
    "\n",
    "        if previous_hash != block.previous_hash:\n",
    "            #logging.error(f\"{self.peer_name} | Previous hash {previous_hash} != {block.previous_hash}\")\n",
    "            raise Exception(\"Invalid block\")\n",
    "\n",
    "        if not BlockchainPeer.is_valid_proof(block, proof):\n",
    "            #logging.error(f\"{self.peer_name} | Invalid proof {proof}\")\n",
    "            raise Exception(\"Invalid proof\")\n",
    "\n",
    "        block.hash = proof\n",
    "        self.chain.append(block)\n",
    "        #logging.info(f\"{self.peer_name} | Added block {block}\")\n",
    "\n",
    "    @staticmethod\n",
    "    def proof_of_work(block: Block) -> str:\n",
    "        \"\"\"\n",
    "        Function that tries different values of nonce to get a hash\n",
    "        that satisfies our difficulty criteria.\n",
    "\n",
    "        Args:\n",
    "            block (Block): block to be mined\n",
    "\n",
    "        Returns:\n",
    "            str: hash of the mined block\n",
    "        \"\"\"\n",
    "        block.nonce = 0\n",
    "        computed_hash = block.compute_hash()\n",
    "        while not computed_hash.startswith('0' * BlockchainPeer.difficulty):\n",
    "            block.nonce += 1\n",
    "            computed_hash = block.compute_hash()\n",
    "        return computed_hash\n",
    "\n",
    "    def add_new_transaction(self, transaction: Transaction):\n",
    "        self.unconfirmed_transactions.append(transaction)\n",
    "        #logging.info(f\"{self.peer_name} | Added transaction {transaction.to_json()}\")\n",
    "\n",
    "    def __init_blockchain(self):\n",
    "        #logging.info(f\"{self.peer_name} | Initializing blockchain\")\n",
    "        self.chain: List[Block] = []\n",
    "        self.create_genesis_block()\n",
    "\n",
    "    def _get_chain(self) -> Dict:\n",
    "        \"\"\"\n",
    "        A function that returns the chain and its length.\n",
    "\n",
    "        Returns:\n",
    "            Dict: {\n",
    "                'length': int - length of the chain,\n",
    "                'chain': List[Block] - list of blocks in the chain\n",
    "                'current_mainnet_peer_name': str - name of the current mainnet peer\n",
    "                'peers': List[str] - list of peers names\n",
    "            }\n",
    "        \"\"\"\n",
    "        chain_data = []\n",
    "        for block in self.chain:\n",
    "            chain_data.append(block)\n",
    "\n",
    "        return {\n",
    "            \"length\": len(chain_data),\n",
    "            \"chain\": chain_data,\n",
    "        }\n",
    "\n",
    "    def mine(self):\n",
    "        \"\"\"\n",
    "        This function serves as an interface to add the pending\n",
    "        transactions to the blockchain by adding them to the block\n",
    "        and figuring out Proof Of Work.\n",
    "        \"\"\"\n",
    "        #logging.info(f\"{self.peer_name} | Start mining\")\n",
    "\n",
    "        #if not self.unconfirmed_transactions:\n",
    "         #   logging.info(f\"{self.peer_name} | No transactions to mine\")\n",
    "         #   return\n",
    "\n",
    "        last_block: Block = self.last_block\n",
    "        new_block = Block(\n",
    "            index=last_block.index + 1,\n",
    "            transactions=self.unconfirmed_transactions,\n",
    "            author=self.peer_name,\n",
    "            timestamp=0,\n",
    "            previous_hash=last_block.hash,\n",
    "            nonce=0,\n",
    "        )\n",
    "        proof = self.proof_of_work(new_block)\n",
    "        self.__add_block(new_block, proof)\n",
    "        self.unconfirmed_transactions = []\n",
    "        self._announce()\n",
    "    @classmethod\n",
    "    def is_valid_proof(cls, block: Block, block_hash: str) -> bool:\n",
    "        \"\"\"\n",
    "        Check if block_hash is valid hash of block and satisfies\n",
    "        the difficulty criteria.\n",
    "\n",
    "        Args:\n",
    "            block (Block): block to be verified\n",
    "            block_hash (str): hash of the block to be verified\n",
    "\n",
    "        Returns:\n",
    "            bool: True if block_hash is valid, False otherwise\n",
    "        \"\"\"\n",
    "        return (block_hash.startswith('0' * BlockchainPeer.difficulty) and\n",
    "                block_hash == block.compute_hash())\n",
    "\n",
    "    @classmethod\n",
    "    def check_chain_validity(cls, chain: List[Block]) -> bool:\n",
    "        result = True\n",
    "        previous_hash = \"0\"\n",
    "\n",
    "        try:\n",
    "            chain_copy = deepcopy(chain)\n",
    "        except TypeError: # some attr is a couroutine\n",
    "            return False\n",
    "\n",
    "        for block in chain_copy:\n",
    "            block_hash = block.hash\n",
    "            # remove the hash field to recompute the hash again\n",
    "            # using `compute_hash` method.\n",
    "            delattr(block, \"hash\")\n",
    "\n",
    "            if not cls.is_valid_proof(block, block_hash):\n",
    "                #logging.error(f\"Invalid proof {block_hash} for block {block.index} | valid proof {block.compute_hash()}\")\n",
    "                result = False\n",
    "                break\n",
    "\n",
    "            if previous_hash != block.previous_hash:\n",
    "                #logging.error(f\"Invalid previous hash {block.previous_hash} != {previous_hash}\")\n",
    "                result = False\n",
    "                break\n",
    "\n",
    "            block.hash, previous_hash = block_hash, block_hash\n",
    "\n",
    "        return result"
   ]
  },
  {
   "cell_type": "code",
   "execution_count": 25,
   "id": "b7404dfd",
   "metadata": {
    "id": "b7404dfd"
   },
   "outputs": [],
   "source": [
    "peers = [FixedTimeBlockchainPeer('Satoshi')]\n",
    "mainnet = BlockchainMainnet(peers)"
   ]
  },
  {
   "cell_type": "code",
   "execution_count": 26,
   "id": "871c9579",
   "metadata": {
    "id": "871c9579"
   },
   "outputs": [],
   "source": [
    "for i in range(5):\n",
    "  for peer in peers:\n",
    "    peer.add_new_transaction(transaction1)\n",
    "    peer.add_new_transaction(transaction2)\n",
    "  mainnet.run_mining()\n"
   ]
  },
  {
   "cell_type": "code",
   "execution_count": 27,
   "id": "nNkhKEPB3om7",
   "metadata": {
    "colab": {
     "base_uri": "https://localhost:8080/"
    },
    "id": "nNkhKEPB3om7",
    "outputId": "e0dff0ff-6792-420f-946a-ab31eb240b21"
   },
   "outputs": [
    {
     "data": {
      "text/plain": [
       "{'length': 6,\n",
       " 'chain': [{'index': 0, 'transactions': [], 'author': 'Satoshi', 'timestamp': 0, 'previous_hash': '0', 'nonce': 7099, 'hash': '000162ecd764ac73c5367af8c9fa659bbf2a2e57684c0657d219327de59bcf70'},\n",
       "  {'index': 1, 'transactions': [{'sender_address': 'Alice', 'recipient_address': 'Bob', 'value': 10, 'data': 'Hello Bob!'}, {'sender_address': 'Bob', 'recipient_address': 'Alice', 'value': 5, 'data': 'Hello Alice!'}], 'author': 'Satoshi', 'timestamp': 0, 'previous_hash': '000162ecd764ac73c5367af8c9fa659bbf2a2e57684c0657d219327de59bcf70', 'nonce': 698, 'hash': '00082515d5ffc84f2f8426fe56db666a1ad2adf807cdee15758dbcd2eb59b458'},\n",
       "  {'index': 2, 'transactions': [{'sender_address': 'Alice', 'recipient_address': 'Bob', 'value': 10, 'data': 'Hello Bob!'}, {'sender_address': 'Bob', 'recipient_address': 'Alice', 'value': 5, 'data': 'Hello Alice!'}], 'author': 'Satoshi', 'timestamp': 0, 'previous_hash': '00082515d5ffc84f2f8426fe56db666a1ad2adf807cdee15758dbcd2eb59b458', 'nonce': 3180, 'hash': '0006f50ecfc1401ec851608600536b0ff3d5081c1832c4277aadf2a5bc3d7edb'},\n",
       "  {'index': 3, 'transactions': [{'sender_address': 'Alice', 'recipient_address': 'Bob', 'value': 10, 'data': 'Hello Bob!'}, {'sender_address': 'Bob', 'recipient_address': 'Alice', 'value': 5, 'data': 'Hello Alice!'}], 'author': 'Satoshi', 'timestamp': 0, 'previous_hash': '0006f50ecfc1401ec851608600536b0ff3d5081c1832c4277aadf2a5bc3d7edb', 'nonce': 508, 'hash': '000e69bd96b65c00653b4c59a5ece2f187578928460675c8317e8f91c74f8243'},\n",
       "  {'index': 4, 'transactions': [{'sender_address': 'Alice', 'recipient_address': 'Bob', 'value': 10, 'data': 'Hello Bob!'}, {'sender_address': 'Bob', 'recipient_address': 'Alice', 'value': 5, 'data': 'Hello Alice!'}], 'author': 'Satoshi', 'timestamp': 0, 'previous_hash': '000e69bd96b65c00653b4c59a5ece2f187578928460675c8317e8f91c74f8243', 'nonce': 2924, 'hash': '000f53dd44c6dd00a575e3f43b1a675812851a0df5d518555b026532f2772a32'},\n",
       "  {'index': 5, 'transactions': [{'sender_address': 'Alice', 'recipient_address': 'Bob', 'value': 10, 'data': 'Hello Bob!'}, {'sender_address': 'Bob', 'recipient_address': 'Alice', 'value': 5, 'data': 'Hello Alice!'}], 'author': 'Satoshi', 'timestamp': 0, 'previous_hash': '000f53dd44c6dd00a575e3f43b1a675812851a0df5d518555b026532f2772a32', 'nonce': 5613, 'hash': '0007d9fe9511d0226a5637655a6bf2110d12f2f5bfea888826c1aa5205196354'}],\n",
       " 'current_mainnet_peer_name': 'Satoshi',\n",
       " 'peers': ['Satoshi']}"
      ]
     },
     "execution_count": 27,
     "metadata": {},
     "output_type": "execute_result"
    }
   ],
   "source": [
    "mainnet.get_chain()"
   ]
  }
 ],
 "metadata": {
  "colab": {
   "provenance": []
  },
  "kernelspec": {
   "display_name": "Python 3 (ipykernel)",
   "language": "python",
   "name": "python3"
  },
  "language_info": {
   "codemirror_mode": {
    "name": "ipython",
    "version": 3
   },
   "file_extension": ".py",
   "mimetype": "text/x-python",
   "name": "python",
   "nbconvert_exporter": "python",
   "pygments_lexer": "ipython3",
   "version": "3.11.5"
  }
 },
 "nbformat": 4,
 "nbformat_minor": 5
}
