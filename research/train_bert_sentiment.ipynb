{
 "cells": [
  {
   "cell_type": "code",
   "execution_count": 1,
   "metadata": {},
   "outputs": [],
   "source": [
    "import pickle\n",
    "import pandas as pd\n",
    "import numpy as np\n",
    "from tqdm.notebook import tqdm"
   ]
  },
  {
   "cell_type": "code",
   "execution_count": 2,
   "metadata": {},
   "outputs": [],
   "source": [
    "from sklearn.metrics import mean_squared_error, r2_score, mean_squared_error, mean_absolute_error,  accuracy_score, precision_score, recall_score, f1_score\n",
    "\n",
    "def groubpy_func_class_metrics(df, pred_column):\n",
    "    count = df.shape[0]\n",
    "    dist = {}\n",
    "    #print(df)\n",
    "\n",
    "    out = pd.DataFrame(index = [0])\n",
    "\n",
    "    out['count'] = count\n",
    "\n",
    "    for i in range(1, 6):\n",
    "        out['dist_' + str(i)] = df[df['label'] == i].shape[0]\n",
    "    \n",
    "    accuracy_metric = accuracy_score(df['label'], df[pred_column])\n",
    "\n",
    "    out['accuracy'] = accuracy_metric\n",
    "\n",
    "    out['precision_micro'] = precision_score(df['label'], df[pred_column], average='weighted', zero_division = np.nan)\n",
    "    out['recall_micro'] = recall_score(df['label'], df[pred_column], average='weighted', zero_division = np.nan)\n",
    "    out['f1_score_micro'] = f1_score(df['label'], df[pred_column],  average='weighted', zero_division = np.nan)\n",
    "\n",
    "\n",
    "\n",
    "    #print(out)\n",
    "    return out\n",
    "\n",
    "def id_to_name(id, df_informal_names):\n",
    "    id_tmp = int(id)\n",
    "    if id == -1:\n",
    "        return -1\n",
    "    else:\n",
    "        try:\n",
    "            return df_informal_names.loc[id,:]['EMITENT_FULL_NAME']\n",
    "        except:\n",
    "            return id"
   ]
  },
  {
   "cell_type": "code",
   "execution_count": 3,
   "metadata": {},
   "outputs": [],
   "source": [
    "issuers = pd.read_csv('../../../data/issuers - issuers.csv', index_col = 1).drop('ID человека', axis= 1)"
   ]
  },
  {
   "cell_type": "code",
   "execution_count": 4,
   "metadata": {},
   "outputs": [],
   "source": [
    "with open('../../../data/messages_many_2/messages_many.pkl', 'rb') as file:\n",
    "\n",
    "    mes_many = pickle.load(file)"
   ]
  },
  {
   "cell_type": "code",
   "execution_count": 5,
   "metadata": {},
   "outputs": [],
   "source": [
    "mentions = pd.read_csv('../../../data/sentiment_data_3/mentions.csv', index_col = 0)\n",
    "mentions = mentions[mentions['issuerid'] > 0]\n",
    "mentions = mentions.rename(columns={'messageid': 'MessageID'})"
   ]
  },
  {
   "cell_type": "code",
   "execution_count": 6,
   "metadata": {},
   "outputs": [],
   "source": [
    "sentiment = pd.read_csv('../../../data/sentiment_data_3/sentiment.csv', index_col = 0)\n",
    "#sentiment = sentiment[sentiment['issuerid'] > 0]\n",
    "sentiment = sentiment[sentiment['SentimentScore'] != 0]"
   ]
  },
  {
   "cell_type": "code",
   "execution_count": 7,
   "metadata": {},
   "outputs": [],
   "source": [
    "tmp = sentiment.copy()\n",
    "tmp['issuerid'] = sentiment['issuerid'].astype('str')\n",
    "tmp = tmp.groupby(['ChannelID', 'MessageID']).apply(lambda x: list(zip(x['issuerid'].to_list(), x['SentimentScore'].to_list()))).reset_index()\n",
    "mes_many_issuers_sentiment  = mes_many.merge(tmp, on = ['ChannelID', 'MessageID'], how ='right')\n",
    "mes_many_issuers_sentiment = mes_many_issuers_sentiment.dropna()\n",
    "mes_many_issuers_sentiment = mes_many_issuers_sentiment.rename(columns={0: 'sentiment'})"
   ]
  },
  {
   "cell_type": "code",
   "execution_count": 8,
   "metadata": {},
   "outputs": [
    {
     "data": {
      "text/html": [
       "<div>\n",
       "<style scoped>\n",
       "    .dataframe tbody tr th:only-of-type {\n",
       "        vertical-align: middle;\n",
       "    }\n",
       "\n",
       "    .dataframe tbody tr th {\n",
       "        vertical-align: top;\n",
       "    }\n",
       "\n",
       "    .dataframe thead th {\n",
       "        text-align: right;\n",
       "    }\n",
       "</style>\n",
       "<table border=\"1\" class=\"dataframe\">\n",
       "  <thead>\n",
       "    <tr style=\"text-align: right;\">\n",
       "      <th></th>\n",
       "      <th>MessageID</th>\n",
       "      <th>ChannelID</th>\n",
       "      <th>DateAdded</th>\n",
       "      <th>DatePosted</th>\n",
       "      <th>MessageText</th>\n",
       "      <th>IsForward</th>\n",
       "      <th>sentiment</th>\n",
       "    </tr>\n",
       "  </thead>\n",
       "  <tbody>\n",
       "    <tr>\n",
       "      <th>0</th>\n",
       "      <td>103</td>\n",
       "      <td>1001029560</td>\n",
       "      <td>2021-02-06 00:52:00</td>\n",
       "      <td>2016-01-14 07:15:26</td>\n",
       "      <td>http://bcs-express.ru/novosti-i-analitika/prog...</td>\n",
       "      <td>False</td>\n",
       "      <td>[(-1, 3)]</td>\n",
       "    </tr>\n",
       "    <tr>\n",
       "      <th>1</th>\n",
       "      <td>513</td>\n",
       "      <td>1001029560</td>\n",
       "      <td>2021-02-06 00:52:00</td>\n",
       "      <td>2016-06-09 09:47:40</td>\n",
       "      <td>http://bcs-express.ru/novosti-i-analitika/divi...</td>\n",
       "      <td>False</td>\n",
       "      <td>[(-1, 3)]</td>\n",
       "    </tr>\n",
       "    <tr>\n",
       "      <th>2</th>\n",
       "      <td>6495</td>\n",
       "      <td>1001029560</td>\n",
       "      <td>2021-02-06 00:52:00</td>\n",
       "      <td>2020-09-24 09:46:38</td>\n",
       "      <td>Группа Mail.ru планирует привлечь $600 млн для...</td>\n",
       "      <td>False</td>\n",
       "      <td>[(-1, 3)]</td>\n",
       "    </tr>\n",
       "    <tr>\n",
       "      <th>3</th>\n",
       "      <td>7869</td>\n",
       "      <td>1001029560</td>\n",
       "      <td>2021-08-11 02:02:52</td>\n",
       "      <td>2021-08-10 15:58:19</td>\n",
       "      <td>Рыночная стоимость Сбербанка превысила $100 мл...</td>\n",
       "      <td>False</td>\n",
       "      <td>[(-1, 3)]</td>\n",
       "    </tr>\n",
       "    <tr>\n",
       "      <th>4</th>\n",
       "      <td>12838</td>\n",
       "      <td>1001029560</td>\n",
       "      <td>2023-01-23 20:37:25</td>\n",
       "      <td>2023-01-23 15:02:06</td>\n",
       "      <td>​​🎉 Конкурс — Норильский никель после отчетнос...</td>\n",
       "      <td>False</td>\n",
       "      <td>[(53, 3)]</td>\n",
       "    </tr>\n",
       "    <tr>\n",
       "      <th>...</th>\n",
       "      <td>...</td>\n",
       "      <td>...</td>\n",
       "      <td>...</td>\n",
       "      <td>...</td>\n",
       "      <td>...</td>\n",
       "      <td>...</td>\n",
       "      <td>...</td>\n",
       "    </tr>\n",
       "    <tr>\n",
       "      <th>7450</th>\n",
       "      <td>1627</td>\n",
       "      <td>1565800335</td>\n",
       "      <td>2023-06-16 13:23:06</td>\n",
       "      <td>2023-06-16 07:30:00</td>\n",
       "      <td>​🔎 АФК Система (AFKS) - вот кто может оказатьс...</td>\n",
       "      <td>False</td>\n",
       "      <td>[(204, 3)]</td>\n",
       "    </tr>\n",
       "    <tr>\n",
       "      <th>7451</th>\n",
       "      <td>1632</td>\n",
       "      <td>1565800335</td>\n",
       "      <td>2023-06-19 13:25:14</td>\n",
       "      <td>2023-06-19 07:30:15</td>\n",
       "      <td>​​💎 Алроса (ALRS) - актуализация взгляда на фо...</td>\n",
       "      <td>False</td>\n",
       "      <td>[(4, 5), (127, 4)]</td>\n",
       "    </tr>\n",
       "    <tr>\n",
       "      <th>7452</th>\n",
       "      <td>1641</td>\n",
       "      <td>1565800335</td>\n",
       "      <td>2023-06-22 13:24:38</td>\n",
       "      <td>2023-06-22 08:32:09</td>\n",
       "      <td>\"​🔥 Новатэк (NVTK) - новые данные с ПМЭФ и про...</td>\n",
       "      <td>False</td>\n",
       "      <td>[(115, 2)]</td>\n",
       "    </tr>\n",
       "    <tr>\n",
       "      <th>7453</th>\n",
       "      <td>1664</td>\n",
       "      <td>1565800335</td>\n",
       "      <td>2023-07-03 19:32:23</td>\n",
       "      <td>2023-07-03 15:24:56</td>\n",
       "      <td>⚡ Идеи, которые еще не потеряли актуальность  ...</td>\n",
       "      <td>False</td>\n",
       "      <td>[(12, 4), (4, 4), (111, 4), (53, 4), (58, 4)]</td>\n",
       "    </tr>\n",
       "    <tr>\n",
       "      <th>7454</th>\n",
       "      <td>1667</td>\n",
       "      <td>1565800335</td>\n",
       "      <td>2023-07-04 13:32:47</td>\n",
       "      <td>2023-07-04 08:00:52</td>\n",
       "      <td>​​⚒ Норникель (GMKN) - обзор операционных пока...</td>\n",
       "      <td>False</td>\n",
       "      <td>[(53, 3)]</td>\n",
       "    </tr>\n",
       "  </tbody>\n",
       "</table>\n",
       "<p>6643 rows × 7 columns</p>\n",
       "</div>"
      ],
      "text/plain": [
       "      MessageID   ChannelID           DateAdded          DatePosted  \\\n",
       "0           103  1001029560 2021-02-06 00:52:00 2016-01-14 07:15:26   \n",
       "1           513  1001029560 2021-02-06 00:52:00 2016-06-09 09:47:40   \n",
       "2          6495  1001029560 2021-02-06 00:52:00 2020-09-24 09:46:38   \n",
       "3          7869  1001029560 2021-08-11 02:02:52 2021-08-10 15:58:19   \n",
       "4         12838  1001029560 2023-01-23 20:37:25 2023-01-23 15:02:06   \n",
       "...         ...         ...                 ...                 ...   \n",
       "7450       1627  1565800335 2023-06-16 13:23:06 2023-06-16 07:30:00   \n",
       "7451       1632  1565800335 2023-06-19 13:25:14 2023-06-19 07:30:15   \n",
       "7452       1641  1565800335 2023-06-22 13:24:38 2023-06-22 08:32:09   \n",
       "7453       1664  1565800335 2023-07-03 19:32:23 2023-07-03 15:24:56   \n",
       "7454       1667  1565800335 2023-07-04 13:32:47 2023-07-04 08:00:52   \n",
       "\n",
       "                                            MessageText IsForward  \\\n",
       "0     http://bcs-express.ru/novosti-i-analitika/prog...     False   \n",
       "1     http://bcs-express.ru/novosti-i-analitika/divi...     False   \n",
       "2     Группа Mail.ru планирует привлечь $600 млн для...     False   \n",
       "3     Рыночная стоимость Сбербанка превысила $100 мл...     False   \n",
       "4     ​​🎉 Конкурс — Норильский никель после отчетнос...     False   \n",
       "...                                                 ...       ...   \n",
       "7450  ​🔎 АФК Система (AFKS) - вот кто может оказатьс...     False   \n",
       "7451  ​​💎 Алроса (ALRS) - актуализация взгляда на фо...     False   \n",
       "7452  \"​🔥 Новатэк (NVTK) - новые данные с ПМЭФ и про...     False   \n",
       "7453  ⚡ Идеи, которые еще не потеряли актуальность  ...     False   \n",
       "7454  ​​⚒ Норникель (GMKN) - обзор операционных пока...     False   \n",
       "\n",
       "                                          sentiment  \n",
       "0                                         [(-1, 3)]  \n",
       "1                                         [(-1, 3)]  \n",
       "2                                         [(-1, 3)]  \n",
       "3                                         [(-1, 3)]  \n",
       "4                                         [(53, 3)]  \n",
       "...                                             ...  \n",
       "7450                                     [(204, 3)]  \n",
       "7451                             [(4, 5), (127, 4)]  \n",
       "7452                                     [(115, 2)]  \n",
       "7453  [(12, 4), (4, 4), (111, 4), (53, 4), (58, 4)]  \n",
       "7454                                      [(53, 3)]  \n",
       "\n",
       "[6643 rows x 7 columns]"
      ]
     },
     "execution_count": 8,
     "metadata": {},
     "output_type": "execute_result"
    }
   ],
   "source": [
    "mes_many_issuers_sentiment"
   ]
  },
  {
   "cell_type": "code",
   "execution_count": 9,
   "metadata": {},
   "outputs": [],
   "source": [
    "mes_many_issuers_sentiment['label'] = mes_many_issuers_sentiment['sentiment'].apply(lambda x : x[0][1]) -1"
   ]
  },
  {
   "cell_type": "code",
   "execution_count": 10,
   "metadata": {},
   "outputs": [],
   "source": [
    "mes_many_issuers_sentiment = mes_many_issuers_sentiment[mes_many_issuers_sentiment['sentiment'].str.len() == 1].copy()"
   ]
  },
  {
   "cell_type": "code",
   "execution_count": 11,
   "metadata": {},
   "outputs": [],
   "source": [
    "mes_many_issuers_sentiment['name'] = mes_many_issuers_sentiment['sentiment'].apply(lambda x : x[0][0]).astype(int).map(lambda x: id_to_name(x, issuers))"
   ]
  },
  {
   "cell_type": "code",
   "execution_count": 12,
   "metadata": {},
   "outputs": [],
   "source": [
    "from sklearn.model_selection import train_test_split\n",
    "\n",
    "train_df, test_df = train_test_split(mes_many_issuers_sentiment[['MessageText', 'label', 'name']], test_size=0.2, random_state = 42, stratify=mes_many_issuers_sentiment['label'])"
   ]
  },
  {
   "cell_type": "code",
   "execution_count": 13,
   "metadata": {},
   "outputs": [
    {
     "data": {
      "text/plain": [
       "<Axes: ylabel='Frequency'>"
      ]
     },
     "execution_count": 13,
     "metadata": {},
     "output_type": "execute_result"
    },
    {
     "data": {
      "image/png": "[encoded data removed]",
      "text/plain": [
       "<Figure size 640x480 with 1 Axes>"
      ]
     },
     "metadata": {},
     "output_type": "display_data"
    }
   ],
   "source": [
    "train_df['label'].plot.hist()\n",
    "test_df['label'].plot.hist()"
   ]
  },
  {
   "cell_type": "code",
   "execution_count": 14,
   "metadata": {},
   "outputs": [
    {
     "data": {
      "text/plain": [
       "label\n",
       "2    1.000000\n",
       "3    0.804120\n",
       "1    0.234457\n",
       "4    0.142322\n",
       "0    0.016479\n",
       "Name: count, dtype: float64"
      ]
     },
     "execution_count": 14,
     "metadata": {},
     "output_type": "execute_result"
    }
   ],
   "source": [
    "mes_many_issuers_sentiment['label'].value_counts(normalize = False, sort =  False)/ \\\n",
    "    mes_many_issuers_sentiment['label'].value_counts(normalize = False, sort =  False).max()"
   ]
  },
  {
   "cell_type": "code",
   "execution_count": 15,
   "metadata": {},
   "outputs": [],
   "source": [
    "weights = (1/(mes_many_issuers_sentiment['label'].value_counts(normalize = False, sort =  False)/ \\\n",
    "    mes_many_issuers_sentiment['label'].value_counts(normalize = False, sort =  False).max())).to_dict()"
   ]
  },
  {
   "cell_type": "code",
   "execution_count": 16,
   "metadata": {},
   "outputs": [],
   "source": [
    "weights[0] = 10"
   ]
  },
  {
   "cell_type": "code",
   "execution_count": 17,
   "metadata": {},
   "outputs": [
    {
     "data": {
      "text/plain": [
       "{2: 1.0,\n",
       " 3: 1.2435957149510946,\n",
       " 1: 4.26517571884984,\n",
       " 4: 7.026315789473685,\n",
       " 0: 10}"
      ]
     },
     "execution_count": 17,
     "metadata": {},
     "output_type": "execute_result"
    }
   ],
   "source": [
    "weights"
   ]
  },
  {
   "cell_type": "code",
   "execution_count": 18,
   "metadata": {},
   "outputs": [],
   "source": [
    "from transformers import AutoModelForSequenceClassification, AutoTokenizer, TrainingArguments, Trainer, DataCollatorWithPadding, pipeline\n",
    "from datasets import Dataset\n",
    "import torch\n",
    "import torch.nn as nn"
   ]
  },
  {
   "cell_type": "code",
   "execution_count": 19,
   "metadata": {},
   "outputs": [
    {
     "data": {
      "text/plain": [
       "\"import importlib\\nimport funcs #import the module here, so that it can be reloaded.\\nimportlib.reload(funcs)\\n\\ndef create_tokenized_by_chuncs_from_df(df):\\n    res = []\\n    for index, row in df.iterrows():\\n        if len(tokenizer(row['MessageText'], truncation=True, max_length=512)['input_ids']) == 512:\\n            \\n            out = funcs.transform_single_text(row['MessageText'], tokenizer, 510, 260, 10, None)\\n\\n            for i in range(out[0].shape[0]):\\n                item = {}\\n\\n                item['MessageText'] = row['MessageText']\\n                item['input_ids'] = out[0][i]\\n                item['attention_mask'] = out[1][i]\\n                item['label'] = row['label']\\n                res += [item]\\n\\n        else:\\n            out = tokenizer(row['MessageText'], padding='max_length', truncation=True, max_length=512)\\n            item = {}\\n            item['MessageText'] = row['MessageText']\\n            item['input_ids'] = out['input_ids']\\n            item['attention_mask'] = out['attention_mask']\\n            item['label'] = row['label']\\n            res += [item]\\n                \\n\\n    return Dataset.from_list(res)\""
      ]
     },
     "execution_count": 19,
     "metadata": {},
     "output_type": "execute_result"
    }
   ],
   "source": [
    "\"\"\"import importlib\n",
    "import funcs #import the module here, so that it can be reloaded.\n",
    "importlib.reload(funcs)\n",
    "\n",
    "def create_tokenized_by_chuncs_from_df(df):\n",
    "    res = []\n",
    "    for index, row in df.iterrows():\n",
    "        if len(tokenizer(row['MessageText'], truncation=True, max_length=512)['input_ids']) == 512:\n",
    "            \n",
    "            out = funcs.transform_single_text(row['MessageText'], tokenizer, 510, 260, 10, None)\n",
    "\n",
    "            for i in range(out[0].shape[0]):\n",
    "                item = {}\n",
    "\n",
    "                item['MessageText'] = row['MessageText']\n",
    "                item['input_ids'] = out[0][i]\n",
    "                item['attention_mask'] = out[1][i]\n",
    "                item['label'] = row['label']\n",
    "                res += [item]\n",
    "\n",
    "        else:\n",
    "            out = tokenizer(row['MessageText'], padding='max_length', truncation=True, max_length=512)\n",
    "            item = {}\n",
    "            item['MessageText'] = row['MessageText']\n",
    "            item['input_ids'] = out['input_ids']\n",
    "            item['attention_mask'] = out['attention_mask']\n",
    "            item['label'] = row['label']\n",
    "            res += [item]\n",
    "                \n",
    "\n",
    "    return Dataset.from_list(res)\"\"\""
   ]
  },
  {
   "cell_type": "code",
   "execution_count": 20,
   "metadata": {},
   "outputs": [
    {
     "data": {
      "text/html": [
       "<div>\n",
       "<style scoped>\n",
       "    .dataframe tbody tr th:only-of-type {\n",
       "        vertical-align: middle;\n",
       "    }\n",
       "\n",
       "    .dataframe tbody tr th {\n",
       "        vertical-align: top;\n",
       "    }\n",
       "\n",
       "    .dataframe thead th {\n",
       "        text-align: right;\n",
       "    }\n",
       "</style>\n",
       "<table border=\"1\" class=\"dataframe\">\n",
       "  <thead>\n",
       "    <tr style=\"text-align: right;\">\n",
       "      <th></th>\n",
       "      <th>MessageText</th>\n",
       "      <th>label</th>\n",
       "      <th>name</th>\n",
       "    </tr>\n",
       "  </thead>\n",
       "  <tbody>\n",
       "    <tr>\n",
       "      <th>4294</th>\n",
       "      <td>\"🇷🇺#мясо #россия  объем экспорта мяса из Росси...</td>\n",
       "      <td>3</td>\n",
       "      <td>Публичное акционерное общество \"Группа Черкизово\"</td>\n",
       "    </tr>\n",
       "    <tr>\n",
       "      <th>523</th>\n",
       "      <td>​Positive Technologies стала кандидатом в инде...</td>\n",
       "      <td>3</td>\n",
       "      <td>КИВИ ПиЭлСи (QIWI PLC) (эмитент депозитарных р...</td>\n",
       "    </tr>\n",
       "    <tr>\n",
       "      <th>7216</th>\n",
       "      <td>Спасибо санкциям за прибыль. С каким отчетом в...</td>\n",
       "      <td>3</td>\n",
       "      <td>Публичная Компания с ограниченной ответственно...</td>\n",
       "    </tr>\n",
       "    <tr>\n",
       "      <th>5417</th>\n",
       "      <td>💥🇷🇺#CIAN #листинг  ЦИАН подал на регистрацию в...</td>\n",
       "      <td>3</td>\n",
       "      <td>Cian PLC (эмитент депозитарных расписок - The ...</td>\n",
       "    </tr>\n",
       "    <tr>\n",
       "      <th>5292</th>\n",
       "      <td>🇷🇺#YNDX #отчетность  Выручка платформы Yandex ...</td>\n",
       "      <td>3</td>\n",
       "      <td>Публичная Компания с ограниченной ответственно...</td>\n",
       "    </tr>\n",
       "    <tr>\n",
       "      <th>...</th>\n",
       "      <td>...</td>\n",
       "      <td>...</td>\n",
       "      <td>...</td>\n",
       "    </tr>\n",
       "    <tr>\n",
       "      <th>3010</th>\n",
       "      <td>\"??#GAZP #северныйпоток2 #турецкийпоток Nord S...</td>\n",
       "      <td>2</td>\n",
       "      <td>-1</td>\n",
       "    </tr>\n",
       "    <tr>\n",
       "      <th>1941</th>\n",
       "      <td>\"#WTCM #Раскрытия ?? Совет директоров ПАО \"\"ЦМ...</td>\n",
       "      <td>2</td>\n",
       "      <td>-1</td>\n",
       "    </tr>\n",
       "    <tr>\n",
       "      <th>2913</th>\n",
       "      <td>FEES - IRAO «ИНТЕР РАО» НЕ ОБСУЖДАЕТ ВЫКУП У Ф...</td>\n",
       "      <td>2</td>\n",
       "      <td>-1</td>\n",
       "    </tr>\n",
       "    <tr>\n",
       "      <th>1437</th>\n",
       "      <td>Акции Лукойла на хороших объемах закрылись в ч...</td>\n",
       "      <td>2</td>\n",
       "      <td>Публичное акционерное общество \"Нефтяная компа...</td>\n",
       "    </tr>\n",
       "    <tr>\n",
       "      <th>6969</th>\n",
       "      <td>🛒 Взгляд на компанию: «Магнит» объявил результ...</td>\n",
       "      <td>2</td>\n",
       "      <td>Публичное акционерное общество \"Магнит\"</td>\n",
       "    </tr>\n",
       "  </tbody>\n",
       "</table>\n",
       "<p>4693 rows × 3 columns</p>\n",
       "</div>"
      ],
      "text/plain": [
       "                                            MessageText  label  \\\n",
       "4294  \"🇷🇺#мясо #россия  объем экспорта мяса из Росси...      3   \n",
       "523   ​Positive Technologies стала кандидатом в инде...      3   \n",
       "7216  Спасибо санкциям за прибыль. С каким отчетом в...      3   \n",
       "5417  💥🇷🇺#CIAN #листинг  ЦИАН подал на регистрацию в...      3   \n",
       "5292  🇷🇺#YNDX #отчетность  Выручка платформы Yandex ...      3   \n",
       "...                                                 ...    ...   \n",
       "3010  \"??#GAZP #северныйпоток2 #турецкийпоток Nord S...      2   \n",
       "1941  \"#WTCM #Раскрытия ?? Совет директоров ПАО \"\"ЦМ...      2   \n",
       "2913  FEES - IRAO «ИНТЕР РАО» НЕ ОБСУЖДАЕТ ВЫКУП У Ф...      2   \n",
       "1437  Акции Лукойла на хороших объемах закрылись в ч...      2   \n",
       "6969  🛒 Взгляд на компанию: «Магнит» объявил результ...      2   \n",
       "\n",
       "                                                   name  \n",
       "4294  Публичное акционерное общество \"Группа Черкизово\"  \n",
       "523   КИВИ ПиЭлСи (QIWI PLC) (эмитент депозитарных р...  \n",
       "7216  Публичная Компания с ограниченной ответственно...  \n",
       "5417  Cian PLC (эмитент депозитарных расписок - The ...  \n",
       "5292  Публичная Компания с ограниченной ответственно...  \n",
       "...                                                 ...  \n",
       "3010                                                 -1  \n",
       "1941                                                 -1  \n",
       "2913                                                 -1  \n",
       "1437  Публичное акционерное общество \"Нефтяная компа...  \n",
       "6969            Публичное акционерное общество \"Магнит\"  \n",
       "\n",
       "[4693 rows x 3 columns]"
      ]
     },
     "execution_count": 20,
     "metadata": {},
     "output_type": "execute_result"
    }
   ],
   "source": [
    "train_df"
   ]
  },
  {
   "cell_type": "code",
   "execution_count": 21,
   "metadata": {},
   "outputs": [
    {
     "name": "stderr",
     "output_type": "stream",
     "text": [
      "/home/kir/miniconda3/envs/my/lib/python3.9/site-packages/pyarrow/pandas_compat.py:373: FutureWarning: is_sparse is deprecated and will be removed in a future version. Check `isinstance(dtype, pd.SparseDtype)` instead.\n",
      "  if _pandas_api.is_sparse(col):\n",
      "/home/kir/miniconda3/envs/my/lib/python3.9/site-packages/pyarrow/pandas_compat.py:373: FutureWarning: is_sparse is deprecated and will be removed in a future version. Check `isinstance(dtype, pd.SparseDtype)` instead.\n",
      "  if _pandas_api.is_sparse(col):\n"
     ]
    }
   ],
   "source": [
    "train_ds = Dataset.from_pandas(train_df[['MessageText', 'label']], split=\"train\", preserve_index=False)\n",
    "test_ds = Dataset.from_pandas(test_df[['MessageText', 'label']], split=\"test\", preserve_index=False)"
   ]
  },
  {
   "cell_type": "code",
   "execution_count": 22,
   "metadata": {},
   "outputs": [],
   "source": [
    "#model_name = 'ai-forever/ruBert-large'\n",
    "#model_name = 'DeepPavlov/rubert-base-cased'\n",
    "#model_name = 'cointegrated/rubert-tiny2'\n",
    "\n",
    "tokenizer_path = r'../../../1st semestr/rubert_my_v2_tokinizer'\n",
    "model_path = r'../../../1st semestr/rubert_my_v2'\n",
    "\n",
    "\n",
    "if 'model_name' in globals() :\n",
    "    tokenizer_path = model_name\n",
    "    model_path = model_name\n",
    "\n",
    "attention_probs_dropout_prob = 0.2\n",
    "hidden_dropout_prob = 0.2\n",
    "classifier_dropout = 0.2"
   ]
  },
  {
   "cell_type": "code",
   "execution_count": 23,
   "metadata": {},
   "outputs": [],
   "source": [
    "tokenizer = AutoTokenizer.from_pretrained(tokenizer_path)\n",
    "if model_path == 'cointegrated/rubert-tiny2':\n",
    "    tokenizer.model_max_length = 2048\n",
    "else:\n",
    "    tokenizer.model_max_length = 512"
   ]
  },
  {
   "cell_type": "code",
   "execution_count": 24,
   "metadata": {},
   "outputs": [],
   "source": [
    "def preprocess_function(examples):\n",
    "\n",
    "    return tokenizer(examples[\"MessageText\"], truncation=True, max_length=tokenizer.model_max_length)"
   ]
  },
  {
   "cell_type": "code",
   "execution_count": 25,
   "metadata": {},
   "outputs": [
    {
     "data": {
      "application/vnd.jupyter.widget-view+json": {
       "model_id": "f46a2c8ea66e4064bed5700effae874b",
       "version_major": 2,
       "version_minor": 0
      },
      "text/plain": [
       "Map:   0%|          | 0/4693 [00:00<?, ? examples/s]"
      ]
     },
     "metadata": {},
     "output_type": "display_data"
    },
    {
     "data": {
      "application/vnd.jupyter.widget-view+json": {
       "model_id": "78eb081d58094d36908e12fd2d194e67",
       "version_major": 2,
       "version_minor": 0
      },
      "text/plain": [
       "Map:   0%|          | 0/1174 [00:00<?, ? examples/s]"
      ]
     },
     "metadata": {},
     "output_type": "display_data"
    }
   ],
   "source": [
    "tokenized_train_ds = train_ds.map(preprocess_function, batched=True)\n",
    "tokenized_test_ds = test_ds.map(preprocess_function, batched=True)"
   ]
  },
  {
   "cell_type": "code",
   "execution_count": 26,
   "metadata": {},
   "outputs": [
    {
     "data": {
      "text/plain": [
       "Dataset({\n",
       "    features: ['MessageText', 'label', 'input_ids', 'token_type_ids', 'attention_mask'],\n",
       "    num_rows: 4693\n",
       "})"
      ]
     },
     "execution_count": 26,
     "metadata": {},
     "output_type": "execute_result"
    }
   ],
   "source": [
    "tokenized_train_ds"
   ]
  },
  {
   "cell_type": "code",
   "execution_count": 27,
   "metadata": {},
   "outputs": [],
   "source": [
    "data_collator = DataCollatorWithPadding(tokenizer=tokenizer)"
   ]
  },
  {
   "cell_type": "code",
   "execution_count": 28,
   "metadata": {},
   "outputs": [],
   "source": [
    "#tokenized_train_ds = create_tokenized_by_chuncs_from_df(train_df[['MessageText', 'label']])\n",
    "#tokenized_test_ds = create_tokenized_by_chuncs_from_df(test_df[['MessageText', 'label']])"
   ]
  },
  {
   "cell_type": "code",
   "execution_count": 29,
   "metadata": {},
   "outputs": [
    {
     "data": {
      "text/plain": [
       "Dataset({\n",
       "    features: ['MessageText', 'label', 'input_ids', 'token_type_ids', 'attention_mask'],\n",
       "    num_rows: 4693\n",
       "})"
      ]
     },
     "execution_count": 29,
     "metadata": {},
     "output_type": "execute_result"
    }
   ],
   "source": [
    "tokenized_train_ds"
   ]
  },
  {
   "cell_type": "code",
   "execution_count": 30,
   "metadata": {},
   "outputs": [],
   "source": [
    "id2label={0: 1, 1: 2, 2: 3, 3: 4, 4: 5}\n",
    "label2id = {1: 0, 2: 1, 3: 2, 4: 3, 5: 4}\n",
    "\n",
    "#id2label = {0: 0, 1: 1, 2: 2, 3: 3, 4: 4}"
   ]
  },
  {
   "cell_type": "code",
   "execution_count": 31,
   "metadata": {},
   "outputs": [
    {
     "name": "stderr",
     "output_type": "stream",
     "text": [
      "Some weights of BertForSequenceClassification were not initialized from the model checkpoint at ../../../1st semestr/rubert_my_v2 and are newly initialized: ['bert.pooler.dense.weight', 'classifier.bias', 'bert.pooler.dense.bias', 'classifier.weight']\n",
      "You should probably TRAIN this model on a down-stream task to be able to use it for predictions and inference.\n"
     ]
    }
   ],
   "source": [
    "model = AutoModelForSequenceClassification.from_pretrained(model_path, num_labels=5, id2label = id2label, label2id = id2label,\n",
    "                                                            attention_probs_dropout_prob=attention_probs_dropout_prob,\n",
    "                                                            hidden_dropout_prob=hidden_dropout_prob,\n",
    "                                                            classifier_dropout = classifier_dropout\n",
    "                                                            )"
   ]
  },
  {
   "cell_type": "code",
   "execution_count": 32,
   "metadata": {},
   "outputs": [
    {
     "name": "stderr",
     "output_type": "stream",
     "text": [
      "Some weights of BertForSequenceClassification were not initialized from the model checkpoint at ../../../1st semestr/rubert_my_v2 and are newly initialized: ['bert.pooler.dense.weight', 'classifier.bias', 'bert.pooler.dense.bias', 'classifier.weight']\n",
      "You should probably TRAIN this model on a down-stream task to be able to use it for predictions and inference.\n"
     ]
    }
   ],
   "source": [
    "from peft import LoraConfig, TaskType, get_peft_model\n",
    "\n",
    "model_tmp = AutoModelForSequenceClassification.from_pretrained(model_path, num_labels=5,# id2label = id2label, label2id = id2label,\n",
    "                                                            #attention_probs_dropout_prob=attention_probs_dropout_prob,\n",
    "                                                            #hidden_dropout_prob=hidden_dropout_prob,\n",
    "                                                            #classifier_dropout = classifier_dropout\n",
    "                                                            )\n",
    "\n",
    "\n",
    "\"\"\"modules = [model_lora.base_model.embeddings, model_lora.base_model.encoder.layer[:-]] \n",
    "for module in modules:\n",
    "    for param in module.parameters():\n",
    "        param.requires_grad = False\n",
    "\n",
    "for param in model_lora.bert.parameters():\n",
    "    param.requires_grad = False\n",
    "\n",
    "for param in model_lora.bert.encoder.layer[-1].parameters():\n",
    "    param.requires_grad = True\"\"\"\n",
    "\n",
    "lora_config = LoraConfig(\n",
    "    task_type=TaskType.SEQ_CLS, r=1, lora_alpha=1, lora_dropout=0.1\n",
    ")\n",
    "model_lora = get_peft_model(model_tmp, lora_config)"
   ]
  },
  {
   "cell_type": "code",
   "execution_count": 33,
   "metadata": {},
   "outputs": [
    {
     "data": {
      "text/plain": [
       "'modules = [model_lora.base_model.base_model.embeddings, model_lora.base_model.base_model.encoder.layer[:-2]] \\nfor module in modules:\\n    for param in module.parameters():\\n        param.requires_grad = False'"
      ]
     },
     "execution_count": 33,
     "metadata": {},
     "output_type": "execute_result"
    }
   ],
   "source": [
    "\"\"\"modules = [model_lora.base_model.base_model.embeddings, model_lora.base_model.base_model.encoder.layer[:-2]] \n",
    "for module in modules:\n",
    "    for param in module.parameters():\n",
    "        param.requires_grad = False\"\"\""
   ]
  },
  {
   "cell_type": "code",
   "execution_count": 34,
   "metadata": {},
   "outputs": [
    {
     "name": "stdout",
     "output_type": "stream",
     "text": [
      "trainable params: 44,554 || all params: 179,340,298 || trainable%: 0.024843273094148646\n"
     ]
    }
   ],
   "source": [
    "model_lora.print_trainable_parameters()"
   ]
  },
  {
   "cell_type": "code",
   "execution_count": 35,
   "metadata": {},
   "outputs": [],
   "source": [
    "import evaluate\n",
    "\n",
    "accuracy = evaluate.load(\"accuracy\")"
   ]
  },
  {
   "cell_type": "code",
   "execution_count": 36,
   "metadata": {},
   "outputs": [],
   "source": [
    "def compute_metrics(eval_pred):\n",
    "    predictions, labels = eval_pred\n",
    "    predictions = np.argmax(predictions, axis=1)\n",
    "    return accuracy.compute(predictions=predictions, references=labels)"
   ]
  },
  {
   "cell_type": "code",
   "execution_count": 37,
   "metadata": {},
   "outputs": [],
   "source": [
    "weights_tensor = torch.tensor([weights[i] for i in range(0, 5)])"
   ]
  },
  {
   "cell_type": "code",
   "execution_count": 38,
   "metadata": {},
   "outputs": [],
   "source": [
    "class CustomTrainer(Trainer):\n",
    "    def compute_loss(self, model, inputs, return_outputs=False):\n",
    "        labels = inputs.pop(\"labels\")\n",
    "        # forward pass\n",
    "        outputs = model(**inputs)\n",
    "        logits = outputs.get(\"logits\")\n",
    "        # compute custom loss (suppose one has 3 labels with different weights)\n",
    "        loss_fct = nn.CrossEntropyLoss(weight=torch.tensor([weights[i] for i in range(5)], device=model.device))\n",
    "        loss = loss_fct(logits.view(-1, self.model.config.num_labels), labels.view(-1))\n",
    "        return (loss, outputs) if return_outputs else loss"
   ]
  },
  {
   "cell_type": "code",
   "execution_count": 39,
   "metadata": {},
   "outputs": [],
   "source": [
    "torch.backends.cuda.matmul.allow_tf32 = True"
   ]
  },
  {
   "cell_type": "code",
   "execution_count": 40,
   "metadata": {},
   "outputs": [],
   "source": [
    "torch.backends.cudnn.allow_tf32 = True"
   ]
  },
  {
   "cell_type": "code",
   "execution_count": 41,
   "metadata": {},
   "outputs": [],
   "source": [
    "modules = [model.base_model.embeddings, model.base_model.encoder.layer[:-4]] \n",
    "for module in modules:\n",
    "    for param in module.parameters():\n",
    "        param.requires_grad = False"
   ]
  },
  {
   "cell_type": "code",
   "execution_count": 42,
   "metadata": {},
   "outputs": [],
   "source": [
    "training_args_bert_base = TrainingArguments(\n",
    "    output_dir=\"test\",\n",
    "    learning_rate=1e-5,\n",
    "    per_device_train_batch_size=16,\n",
    "    per_device_eval_batch_size=20,\n",
    "    num_train_epochs=60,\n",
    "    weight_decay=0.01,\n",
    "    load_best_model_at_end=True,\n",
    "    save_strategy=\"steps\",\n",
    "    logging_strategy = 'steps',\n",
    "    evaluation_strategy = 'steps',\n",
    "    logging_steps = 100,\n",
    "    eval_steps = 100,\n",
    "    save_steps = 1000,\n",
    "    tf32=True,\n",
    "    #bf16=True,\n",
    "    group_by_length=True\n",
    ")"
   ]
  },
  {
   "cell_type": "code",
   "execution_count": 43,
   "metadata": {},
   "outputs": [],
   "source": [
    "training_args_bert_large = TrainingArguments(\n",
    "    output_dir=\"test\",\n",
    "    learning_rate=5e-5,\n",
    "    per_device_train_batch_size=14,\n",
    "    per_device_eval_batch_size=20,\n",
    "    num_train_epochs=5,\n",
    "    weight_decay=0.01,\n",
    "    load_best_model_at_end=True,\n",
    "    save_strategy=\"steps\",\n",
    "    logging_strategy = 'steps',\n",
    "    evaluation_strategy = 'steps',\n",
    "    logging_steps = 100,\n",
    "    eval_steps = 100,\n",
    "    save_steps = 100,\n",
    "    tf32=True,\n",
    "    #bf16=True,\n",
    "    group_by_length=True\n",
    ")"
   ]
  },
  {
   "cell_type": "code",
   "execution_count": 44,
   "metadata": {},
   "outputs": [],
   "source": [
    "trainer = CustomTrainer(\n",
    "    model=model,\n",
    "    args=training_args_bert_base,\n",
    "    train_dataset=tokenized_train_ds, \n",
    "    eval_dataset=tokenized_test_ds,\n",
    "    tokenizer=tokenizer,\n",
    "    data_collator=data_collator,\n",
    "    compute_metrics=compute_metrics,\n",
    ")"
   ]
  },
  {
   "cell_type": "code",
   "execution_count": 45,
   "metadata": {},
   "outputs": [
    {
     "data": {
      "application/vnd.jupyter.widget-view+json": {
       "model_id": "689ef9eef484475daddfeb583e20ee63",
       "version_major": 2,
       "version_minor": 0
      },
      "text/plain": [
       "  0%|          | 0/17640 [00:00<?, ?it/s]"
      ]
     },
     "metadata": {},
     "output_type": "display_data"
    },
    {
     "name": "stderr",
     "output_type": "stream",
     "text": [
      "You're using a BertTokenizerFast tokenizer. Please note that with a fast tokenizer, using the `__call__` method is faster than using a method to encode the text followed by a call to the `pad` method to get a padded encoding.\n"
     ]
    },
    {
     "name": "stdout",
     "output_type": "stream",
     "text": [
      "{'loss': 1.5346, 'learning_rate': 9.943310657596372e-06, 'epoch': 0.34}\n"
     ]
    },
    {
     "data": {
      "application/vnd.jupyter.widget-view+json": {
       "model_id": "3a81a463f4f444788ed150658e98bacc",
       "version_major": 2,
       "version_minor": 0
      },
      "text/plain": [
       "  0%|          | 0/59 [00:00<?, ?it/s]"
      ]
     },
     "metadata": {},
     "output_type": "display_data"
    },
    {
     "name": "stdout",
     "output_type": "stream",
     "text": [
      "{'eval_loss': 1.4314680099487305, 'eval_accuracy': 0.3126064735945486, 'eval_runtime': 10.6553, 'eval_samples_per_second': 110.18, 'eval_steps_per_second': 5.537, 'epoch': 0.34}\n",
      "{'loss': 1.3992, 'learning_rate': 9.886621315192746e-06, 'epoch': 0.68}\n"
     ]
    },
    {
     "data": {
      "application/vnd.jupyter.widget-view+json": {
       "model_id": "af00e0d3d26546ef82daca834c40d4c1",
       "version_major": 2,
       "version_minor": 0
      },
      "text/plain": [
       "  0%|          | 0/59 [00:00<?, ?it/s]"
      ]
     },
     "metadata": {},
     "output_type": "display_data"
    },
    {
     "name": "stdout",
     "output_type": "stream",
     "text": [
      "{'eval_loss': 1.3110967874526978, 'eval_accuracy': 0.49829642248722317, 'eval_runtime': 8.9183, 'eval_samples_per_second': 131.639, 'eval_steps_per_second': 6.616, 'epoch': 0.68}\n",
      "{'loss': 1.266, 'learning_rate': 9.829931972789115e-06, 'epoch': 1.02}\n"
     ]
    },
    {
     "data": {
      "application/vnd.jupyter.widget-view+json": {
       "model_id": "ac62ee09889441f18e9004b8f9abbb82",
       "version_major": 2,
       "version_minor": 0
      },
      "text/plain": [
       "  0%|          | 0/59 [00:00<?, ?it/s]"
      ]
     },
     "metadata": {},
     "output_type": "display_data"
    },
    {
     "name": "stdout",
     "output_type": "stream",
     "text": [
      "{'eval_loss': 1.1847734451293945, 'eval_accuracy': 0.5332197614991482, 'eval_runtime': 8.9353, 'eval_samples_per_second': 131.388, 'eval_steps_per_second': 6.603, 'epoch': 1.02}\n",
      "{'loss': 1.1624, 'learning_rate': 9.773242630385489e-06, 'epoch': 1.36}\n"
     ]
    },
    {
     "data": {
      "application/vnd.jupyter.widget-view+json": {
       "model_id": "58c30ef7b50b417dae238bca289e5d4f",
       "version_major": 2,
       "version_minor": 0
      },
      "text/plain": [
       "  0%|          | 0/59 [00:00<?, ?it/s]"
      ]
     },
     "metadata": {},
     "output_type": "display_data"
    },
    {
     "name": "stdout",
     "output_type": "stream",
     "text": [
      "{'eval_loss': 1.1233042478561401, 'eval_accuracy': 0.5289608177172062, 'eval_runtime': 8.9281, 'eval_samples_per_second': 131.496, 'eval_steps_per_second': 6.608, 'epoch': 1.36}\n",
      "{'loss': 1.0861, 'learning_rate': 9.71655328798186e-06, 'epoch': 1.7}\n"
     ]
    },
    {
     "data": {
      "application/vnd.jupyter.widget-view+json": {
       "model_id": "928b9e1acaaf408ca2a4cc738b03b9e8",
       "version_major": 2,
       "version_minor": 0
      },
      "text/plain": [
       "  0%|          | 0/59 [00:00<?, ?it/s]"
      ]
     },
     "metadata": {},
     "output_type": "display_data"
    },
    {
     "name": "stdout",
     "output_type": "stream",
     "text": [
      "{'eval_loss': 1.1091729402542114, 'eval_accuracy': 0.575809199318569, 'eval_runtime': 8.9544, 'eval_samples_per_second': 131.108, 'eval_steps_per_second': 6.589, 'epoch': 1.7}\n",
      "{'loss': 1.0815, 'learning_rate': 9.659863945578232e-06, 'epoch': 2.04}\n"
     ]
    },
    {
     "data": {
      "application/vnd.jupyter.widget-view+json": {
       "model_id": "4beba8992eda49eeafcbfc6dd5d63c64",
       "version_major": 2,
       "version_minor": 0
      },
      "text/plain": [
       "  0%|          | 0/59 [00:00<?, ?it/s]"
      ]
     },
     "metadata": {},
     "output_type": "display_data"
    },
    {
     "name": "stdout",
     "output_type": "stream",
     "text": [
      "{'eval_loss': 1.048382043838501, 'eval_accuracy': 0.551107325383305, 'eval_runtime': 8.9586, 'eval_samples_per_second': 131.047, 'eval_steps_per_second': 6.586, 'epoch': 2.04}\n",
      "{'loss': 0.9937, 'learning_rate': 9.603174603174605e-06, 'epoch': 2.38}\n"
     ]
    },
    {
     "data": {
      "application/vnd.jupyter.widget-view+json": {
       "model_id": "eedf80dff0e44a8fbde3ccd83f0c7a27",
       "version_major": 2,
       "version_minor": 0
      },
      "text/plain": [
       "  0%|          | 0/59 [00:00<?, ?it/s]"
      ]
     },
     "metadata": {},
     "output_type": "display_data"
    },
    {
     "name": "stdout",
     "output_type": "stream",
     "text": [
      "{'eval_loss': 1.017128825187683, 'eval_accuracy': 0.5706984667802385, 'eval_runtime': 8.9865, 'eval_samples_per_second': 130.641, 'eval_steps_per_second': 6.565, 'epoch': 2.38}\n",
      "{'loss': 0.9684, 'learning_rate': 9.546485260770976e-06, 'epoch': 2.72}\n"
     ]
    },
    {
     "data": {
      "application/vnd.jupyter.widget-view+json": {
       "model_id": "f9b05dc15e754cb5be117c742d8b35a3",
       "version_major": 2,
       "version_minor": 0
      },
      "text/plain": [
       "  0%|          | 0/59 [00:00<?, ?it/s]"
      ]
     },
     "metadata": {},
     "output_type": "display_data"
    },
    {
     "name": "stdout",
     "output_type": "stream",
     "text": [
      "{'eval_loss': 1.0571621656417847, 'eval_accuracy': 0.620954003407155, 'eval_runtime': 8.9914, 'eval_samples_per_second': 130.568, 'eval_steps_per_second': 6.562, 'epoch': 2.72}\n",
      "{'loss': 1.0037, 'learning_rate': 9.489795918367348e-06, 'epoch': 3.06}\n"
     ]
    },
    {
     "data": {
      "application/vnd.jupyter.widget-view+json": {
       "model_id": "5f6e725747f5446caff310cf4ea56fa2",
       "version_major": 2,
       "version_minor": 0
      },
      "text/plain": [
       "  0%|          | 0/59 [00:00<?, ?it/s]"
      ]
     },
     "metadata": {},
     "output_type": "display_data"
    },
    {
     "name": "stdout",
     "output_type": "stream",
     "text": [
      "{'eval_loss': 1.0256303548812866, 'eval_accuracy': 0.6039182282793867, 'eval_runtime': 8.7658, 'eval_samples_per_second': 133.93, 'eval_steps_per_second': 6.731, 'epoch': 3.06}\n",
      "{'loss': 0.9254, 'learning_rate': 9.43310657596372e-06, 'epoch': 3.4}\n"
     ]
    },
    {
     "data": {
      "application/vnd.jupyter.widget-view+json": {
       "model_id": "4865d6e8541142278e3d1916ed7c3e78",
       "version_major": 2,
       "version_minor": 0
      },
      "text/plain": [
       "  0%|          | 0/59 [00:00<?, ?it/s]"
      ]
     },
     "metadata": {},
     "output_type": "display_data"
    },
    {
     "name": "stdout",
     "output_type": "stream",
     "text": [
      "{'eval_loss': 1.0119701623916626, 'eval_accuracy': 0.6081771720613288, 'eval_runtime': 8.7771, 'eval_samples_per_second': 133.757, 'eval_steps_per_second': 6.722, 'epoch': 3.4}\n",
      "{'loss': 0.9112, 'learning_rate': 9.376417233560091e-06, 'epoch': 3.74}\n"
     ]
    },
    {
     "data": {
      "application/vnd.jupyter.widget-view+json": {
       "model_id": "438d0ae9081644a99030fc5dee0f2140",
       "version_major": 2,
       "version_minor": 0
      },
      "text/plain": [
       "  0%|          | 0/59 [00:00<?, ?it/s]"
      ]
     },
     "metadata": {},
     "output_type": "display_data"
    },
    {
     "name": "stdout",
     "output_type": "stream",
     "text": [
      "{'eval_loss': 1.0917686223983765, 'eval_accuracy': 0.5971039182282794, 'eval_runtime': 8.7849, 'eval_samples_per_second': 133.638, 'eval_steps_per_second': 6.716, 'epoch': 3.74}\n",
      "{'loss': 0.8615, 'learning_rate': 9.319727891156464e-06, 'epoch': 4.08}\n"
     ]
    },
    {
     "data": {
      "application/vnd.jupyter.widget-view+json": {
       "model_id": "e324651e17fe4e84b3cf3ddbd65b6d2a",
       "version_major": 2,
       "version_minor": 0
      },
      "text/plain": [
       "  0%|          | 0/59 [00:00<?, ?it/s]"
      ]
     },
     "metadata": {},
     "output_type": "display_data"
    },
    {
     "name": "stdout",
     "output_type": "stream",
     "text": [
      "{'eval_loss': 1.0847151279449463, 'eval_accuracy': 0.5936967632027257, 'eval_runtime': 8.8, 'eval_samples_per_second': 133.41, 'eval_steps_per_second': 6.705, 'epoch': 4.08}\n",
      "{'loss': 0.8985, 'learning_rate': 9.263038548752836e-06, 'epoch': 4.42}\n"
     ]
    },
    {
     "data": {
      "application/vnd.jupyter.widget-view+json": {
       "model_id": "e01fe46046424db6941c653c1e0dd528",
       "version_major": 2,
       "version_minor": 0
      },
      "text/plain": [
       "  0%|          | 0/59 [00:00<?, ?it/s]"
      ]
     },
     "metadata": {},
     "output_type": "display_data"
    },
    {
     "name": "stdout",
     "output_type": "stream",
     "text": [
      "{'eval_loss': 1.0045748949050903, 'eval_accuracy': 0.6533219761499148, 'eval_runtime': 8.8004, 'eval_samples_per_second': 133.403, 'eval_steps_per_second': 6.704, 'epoch': 4.42}\n",
      "{'loss': 0.8819, 'learning_rate': 9.206349206349207e-06, 'epoch': 4.76}\n"
     ]
    },
    {
     "data": {
      "application/vnd.jupyter.widget-view+json": {
       "model_id": "fba153f5701b4b0a8aa868dd94ff516d",
       "version_major": 2,
       "version_minor": 0
      },
      "text/plain": [
       "  0%|          | 0/59 [00:00<?, ?it/s]"
      ]
     },
     "metadata": {},
     "output_type": "display_data"
    },
    {
     "name": "stdout",
     "output_type": "stream",
     "text": [
      "{'eval_loss': 0.9921475648880005, 'eval_accuracy': 0.6235093696763203, 'eval_runtime': 8.81, 'eval_samples_per_second': 133.257, 'eval_steps_per_second': 6.697, 'epoch': 4.76}\n",
      "{'loss': 0.8772, 'learning_rate': 9.149659863945579e-06, 'epoch': 5.1}\n"
     ]
    },
    {
     "data": {
      "application/vnd.jupyter.widget-view+json": {
       "model_id": "e10f4c2abead42e4a48ae4e5b77650f8",
       "version_major": 2,
       "version_minor": 0
      },
      "text/plain": [
       "  0%|          | 0/59 [00:00<?, ?it/s]"
      ]
     },
     "metadata": {},
     "output_type": "display_data"
    },
    {
     "name": "stdout",
     "output_type": "stream",
     "text": [
      "{'eval_loss': 1.0328305959701538, 'eval_accuracy': 0.6090289608177172, 'eval_runtime': 8.8093, 'eval_samples_per_second': 133.268, 'eval_steps_per_second': 6.697, 'epoch': 5.1}\n",
      "{'loss': 0.8539, 'learning_rate': 9.09297052154195e-06, 'epoch': 5.44}\n"
     ]
    },
    {
     "data": {
      "application/vnd.jupyter.widget-view+json": {
       "model_id": "d15eef32f90949b697a94bfec9b42e5f",
       "version_major": 2,
       "version_minor": 0
      },
      "text/plain": [
       "  0%|          | 0/59 [00:00<?, ?it/s]"
      ]
     },
     "metadata": {},
     "output_type": "display_data"
    },
    {
     "name": "stdout",
     "output_type": "stream",
     "text": [
      "{'eval_loss': 1.0614787340164185, 'eval_accuracy': 0.6354344122657581, 'eval_runtime': 8.8179, 'eval_samples_per_second': 133.138, 'eval_steps_per_second': 6.691, 'epoch': 5.44}\n",
      "{'loss': 0.8226, 'learning_rate': 9.036281179138324e-06, 'epoch': 5.78}\n"
     ]
    },
    {
     "data": {
      "application/vnd.jupyter.widget-view+json": {
       "model_id": "0883b52bb2bb43958d181532fdae4479",
       "version_major": 2,
       "version_minor": 0
      },
      "text/plain": [
       "  0%|          | 0/59 [00:00<?, ?it/s]"
      ]
     },
     "metadata": {},
     "output_type": "display_data"
    },
    {
     "name": "stdout",
     "output_type": "stream",
     "text": [
      "{'eval_loss': 0.9935582280158997, 'eval_accuracy': 0.6388415672913118, 'eval_runtime': 8.8196, 'eval_samples_per_second': 133.113, 'eval_steps_per_second': 6.69, 'epoch': 5.78}\n",
      "{'loss': 0.7885, 'learning_rate': 8.979591836734695e-06, 'epoch': 6.12}\n"
     ]
    },
    {
     "data": {
      "application/vnd.jupyter.widget-view+json": {
       "model_id": "b03e4d72f99041dab4ca2ed67905db02",
       "version_major": 2,
       "version_minor": 0
      },
      "text/plain": [
       "  0%|          | 0/59 [00:00<?, ?it/s]"
      ]
     },
     "metadata": {},
     "output_type": "display_data"
    },
    {
     "name": "stdout",
     "output_type": "stream",
     "text": [
      "{'eval_loss': 1.0020171403884888, 'eval_accuracy': 0.6550255536626917, 'eval_runtime': 8.8204, 'eval_samples_per_second': 133.1, 'eval_steps_per_second': 6.689, 'epoch': 6.12}\n",
      "{'loss': 0.8437, 'learning_rate': 8.922902494331067e-06, 'epoch': 6.46}\n"
     ]
    },
    {
     "data": {
      "application/vnd.jupyter.widget-view+json": {
       "model_id": "828c41895cb24d64be916a96e15abdf7",
       "version_major": 2,
       "version_minor": 0
      },
      "text/plain": [
       "  0%|          | 0/59 [00:00<?, ?it/s]"
      ]
     },
     "metadata": {},
     "output_type": "display_data"
    },
    {
     "name": "stdout",
     "output_type": "stream",
     "text": [
      "{'eval_loss': 1.060813307762146, 'eval_accuracy': 0.6294718909710392, 'eval_runtime': 8.8297, 'eval_samples_per_second': 132.96, 'eval_steps_per_second': 6.682, 'epoch': 6.46}\n",
      "{'loss': 0.7977, 'learning_rate': 8.866213151927438e-06, 'epoch': 6.8}\n"
     ]
    },
    {
     "data": {
      "application/vnd.jupyter.widget-view+json": {
       "model_id": "6729dd1628bd45169fc967bbb0309cde",
       "version_major": 2,
       "version_minor": 0
      },
      "text/plain": [
       "  0%|          | 0/59 [00:00<?, ?it/s]"
      ]
     },
     "metadata": {},
     "output_type": "display_data"
    },
    {
     "name": "stdout",
     "output_type": "stream",
     "text": [
      "{'eval_loss': 1.0358147621154785, 'eval_accuracy': 0.6218057921635435, 'eval_runtime': 8.8281, 'eval_samples_per_second': 132.985, 'eval_steps_per_second': 6.683, 'epoch': 6.8}\n",
      "{'loss': 0.7568, 'learning_rate': 8.80952380952381e-06, 'epoch': 7.14}\n"
     ]
    },
    {
     "data": {
      "application/vnd.jupyter.widget-view+json": {
       "model_id": "9b310d9b02dc49828341df69c77a1d85",
       "version_major": 2,
       "version_minor": 0
      },
      "text/plain": [
       "  0%|          | 0/59 [00:00<?, ?it/s]"
      ]
     },
     "metadata": {},
     "output_type": "display_data"
    },
    {
     "name": "stdout",
     "output_type": "stream",
     "text": [
      "{'eval_loss': 1.0209137201309204, 'eval_accuracy': 0.6695059625212947, 'eval_runtime': 8.8274, 'eval_samples_per_second': 132.995, 'eval_steps_per_second': 6.684, 'epoch': 7.14}\n",
      "{'loss': 0.7802, 'learning_rate': 8.752834467120183e-06, 'epoch': 7.48}\n"
     ]
    },
    {
     "data": {
      "application/vnd.jupyter.widget-view+json": {
       "model_id": "716552c0194c438889dc2a9b6f92c74c",
       "version_major": 2,
       "version_minor": 0
      },
      "text/plain": [
       "  0%|          | 0/59 [00:00<?, ?it/s]"
      ]
     },
     "metadata": {},
     "output_type": "display_data"
    },
    {
     "name": "stdout",
     "output_type": "stream",
     "text": [
      "{'eval_loss': 1.096174716949463, 'eval_accuracy': 0.6490630323679727, 'eval_runtime': 8.8287, 'eval_samples_per_second': 132.975, 'eval_steps_per_second': 6.683, 'epoch': 7.48}\n",
      "{'loss': 0.7444, 'learning_rate': 8.696145124716555e-06, 'epoch': 7.82}\n"
     ]
    },
    {
     "data": {
      "application/vnd.jupyter.widget-view+json": {
       "model_id": "74b626de90174dedb813c9bb850227f7",
       "version_major": 2,
       "version_minor": 0
      },
      "text/plain": [
       "  0%|          | 0/59 [00:00<?, ?it/s]"
      ]
     },
     "metadata": {},
     "output_type": "display_data"
    },
    {
     "name": "stdout",
     "output_type": "stream",
     "text": [
      "{'eval_loss': 0.9887562394142151, 'eval_accuracy': 0.6379897785349233, 'eval_runtime': 8.8462, 'eval_samples_per_second': 132.713, 'eval_steps_per_second': 6.67, 'epoch': 7.82}\n",
      "{'loss': 0.7592, 'learning_rate': 8.639455782312926e-06, 'epoch': 8.16}\n"
     ]
    },
    {
     "data": {
      "application/vnd.jupyter.widget-view+json": {
       "model_id": "5077fcce3c024206b5183c9abe303bb5",
       "version_major": 2,
       "version_minor": 0
      },
      "text/plain": [
       "  0%|          | 0/59 [00:00<?, ?it/s]"
      ]
     },
     "metadata": {},
     "output_type": "display_data"
    },
    {
     "name": "stdout",
     "output_type": "stream",
     "text": [
      "{'eval_loss': 1.0205034017562866, 'eval_accuracy': 0.6575809199318569, 'eval_runtime': 8.83, 'eval_samples_per_second': 132.956, 'eval_steps_per_second': 6.682, 'epoch': 8.16}\n",
      "{'loss': 0.702, 'learning_rate': 8.582766439909298e-06, 'epoch': 8.5}\n"
     ]
    },
    {
     "data": {
      "application/vnd.jupyter.widget-view+json": {
       "model_id": "8ae68c71f18e4b43a6e69719ea83c7ba",
       "version_major": 2,
       "version_minor": 0
      },
      "text/plain": [
       "  0%|          | 0/59 [00:00<?, ?it/s]"
      ]
     },
     "metadata": {},
     "output_type": "display_data"
    },
    {
     "name": "stdout",
     "output_type": "stream",
     "text": [
      "{'eval_loss': 1.075798749923706, 'eval_accuracy': 0.6712095400340715, 'eval_runtime': 8.8336, 'eval_samples_per_second': 132.901, 'eval_steps_per_second': 6.679, 'epoch': 8.5}\n",
      "{'loss': 0.7579, 'learning_rate': 8.52607709750567e-06, 'epoch': 8.84}\n"
     ]
    },
    {
     "data": {
      "application/vnd.jupyter.widget-view+json": {
       "model_id": "85eda4919f704f7b8e5f3a07d385579d",
       "version_major": 2,
       "version_minor": 0
      },
      "text/plain": [
       "  0%|          | 0/59 [00:00<?, ?it/s]"
      ]
     },
     "metadata": {},
     "output_type": "display_data"
    },
    {
     "name": "stdout",
     "output_type": "stream",
     "text": [
      "{'eval_loss': 1.0194871425628662, 'eval_accuracy': 0.6422487223168655, 'eval_runtime': 8.8387, 'eval_samples_per_second': 132.825, 'eval_steps_per_second': 6.675, 'epoch': 8.84}\n",
      "{'loss': 0.7356, 'learning_rate': 8.469387755102042e-06, 'epoch': 9.18}\n"
     ]
    },
    {
     "data": {
      "application/vnd.jupyter.widget-view+json": {
       "model_id": "89b4531c35354ba4a4a981ba9a569a67",
       "version_major": 2,
       "version_minor": 0
      },
      "text/plain": [
       "  0%|          | 0/59 [00:00<?, ?it/s]"
      ]
     },
     "metadata": {},
     "output_type": "display_data"
    },
    {
     "name": "stdout",
     "output_type": "stream",
     "text": [
      "{'eval_loss': 1.0187689065933228, 'eval_accuracy': 0.6473594548551959, 'eval_runtime': 8.8383, 'eval_samples_per_second': 132.831, 'eval_steps_per_second': 6.675, 'epoch': 9.18}\n",
      "{'loss': 0.6921, 'learning_rate': 8.412698412698414e-06, 'epoch': 9.52}\n"
     ]
    },
    {
     "data": {
      "application/vnd.jupyter.widget-view+json": {
       "model_id": "b31dbeb663d348deb4265e8b95a550d9",
       "version_major": 2,
       "version_minor": 0
      },
      "text/plain": [
       "  0%|          | 0/59 [00:00<?, ?it/s]"
      ]
     },
     "metadata": {},
     "output_type": "display_data"
    },
    {
     "name": "stdout",
     "output_type": "stream",
     "text": [
      "{'eval_loss': 1.038492202758789, 'eval_accuracy': 0.682282793867121, 'eval_runtime': 8.8486, 'eval_samples_per_second': 132.677, 'eval_steps_per_second': 6.668, 'epoch': 9.52}\n",
      "{'loss': 0.6874, 'learning_rate': 8.356009070294785e-06, 'epoch': 9.86}\n"
     ]
    },
    {
     "data": {
      "application/vnd.jupyter.widget-view+json": {
       "model_id": "8cf7052f149b4af1866bea2afc68724c",
       "version_major": 2,
       "version_minor": 0
      },
      "text/plain": [
       "  0%|          | 0/59 [00:00<?, ?it/s]"
      ]
     },
     "metadata": {},
     "output_type": "display_data"
    },
    {
     "name": "stdout",
     "output_type": "stream",
     "text": [
      "{'eval_loss': 1.0533573627471924, 'eval_accuracy': 0.6669505962521295, 'eval_runtime': 8.8311, 'eval_samples_per_second': 132.94, 'eval_steps_per_second': 6.681, 'epoch': 9.86}\n",
      "{'loss': 0.674, 'learning_rate': 8.299319727891157e-06, 'epoch': 10.2}\n"
     ]
    },
    {
     "data": {
      "application/vnd.jupyter.widget-view+json": {
       "model_id": "18b35850f8624fbe9e6fc05bd101bbaf",
       "version_major": 2,
       "version_minor": 0
      },
      "text/plain": [
       "  0%|          | 0/59 [00:00<?, ?it/s]"
      ]
     },
     "metadata": {},
     "output_type": "display_data"
    },
    {
     "name": "stdout",
     "output_type": "stream",
     "text": [
      "{'eval_loss': 1.0547511577606201, 'eval_accuracy': 0.666098807495741, 'eval_runtime': 8.8297, 'eval_samples_per_second': 132.961, 'eval_steps_per_second': 6.682, 'epoch': 10.2}\n",
      "{'loss': 0.7172, 'learning_rate': 8.242630385487529e-06, 'epoch': 10.54}\n"
     ]
    },
    {
     "data": {
      "application/vnd.jupyter.widget-view+json": {
       "model_id": "a3edb52cf1824b5fb404a5fb1b1f98fa",
       "version_major": 2,
       "version_minor": 0
      },
      "text/plain": [
       "  0%|          | 0/59 [00:00<?, ?it/s]"
      ]
     },
     "metadata": {},
     "output_type": "display_data"
    },
    {
     "name": "stdout",
     "output_type": "stream",
     "text": [
      "{'eval_loss': 1.0600348711013794, 'eval_accuracy': 0.6541737649063032, 'eval_runtime': 8.8238, 'eval_samples_per_second': 133.05, 'eval_steps_per_second': 6.686, 'epoch': 10.54}\n",
      "{'loss': 0.653, 'learning_rate': 8.1859410430839e-06, 'epoch': 10.88}\n"
     ]
    },
    {
     "data": {
      "application/vnd.jupyter.widget-view+json": {
       "model_id": "c7069367507c4ccfb4e659280cf6cb29",
       "version_major": 2,
       "version_minor": 0
      },
      "text/plain": [
       "  0%|          | 0/59 [00:00<?, ?it/s]"
      ]
     },
     "metadata": {},
     "output_type": "display_data"
    },
    {
     "name": "stdout",
     "output_type": "stream",
     "text": [
      "{'eval_loss': 1.0502926111221313, 'eval_accuracy': 0.6643952299829642, 'eval_runtime': 8.8383, 'eval_samples_per_second': 132.831, 'eval_steps_per_second': 6.675, 'epoch': 10.88}\n",
      "{'loss': 0.6185, 'learning_rate': 8.129251700680273e-06, 'epoch': 11.22}\n"
     ]
    },
    {
     "data": {
      "application/vnd.jupyter.widget-view+json": {
       "model_id": "2d6f26a2f29142228122ceebc27f2dc7",
       "version_major": 2,
       "version_minor": 0
      },
      "text/plain": [
       "  0%|          | 0/59 [00:00<?, ?it/s]"
      ]
     },
     "metadata": {},
     "output_type": "display_data"
    },
    {
     "name": "stdout",
     "output_type": "stream",
     "text": [
      "{'eval_loss': 1.0738365650177002, 'eval_accuracy': 0.6729131175468483, 'eval_runtime': 8.8354, 'eval_samples_per_second': 132.874, 'eval_steps_per_second': 6.678, 'epoch': 11.22}\n",
      "{'loss': 0.6496, 'learning_rate': 8.072562358276645e-06, 'epoch': 11.56}\n"
     ]
    },
    {
     "data": {
      "application/vnd.jupyter.widget-view+json": {
       "model_id": "c986b320826a41f1a8f7f6f4aed5a732",
       "version_major": 2,
       "version_minor": 0
      },
      "text/plain": [
       "  0%|          | 0/59 [00:00<?, ?it/s]"
      ]
     },
     "metadata": {},
     "output_type": "display_data"
    },
    {
     "name": "stdout",
     "output_type": "stream",
     "text": [
      "{'eval_loss': 1.0694676637649536, 'eval_accuracy': 0.6524701873935264, 'eval_runtime': 8.8281, 'eval_samples_per_second': 132.984, 'eval_steps_per_second': 6.683, 'epoch': 11.56}\n",
      "{'loss': 0.6561, 'learning_rate': 8.015873015873016e-06, 'epoch': 11.9}\n"
     ]
    },
    {
     "data": {
      "application/vnd.jupyter.widget-view+json": {
       "model_id": "6ed4c1cd4c874417a7bc06c726cbdc75",
       "version_major": 2,
       "version_minor": 0
      },
      "text/plain": [
       "  0%|          | 0/59 [00:00<?, ?it/s]"
      ]
     },
     "metadata": {},
     "output_type": "display_data"
    },
    {
     "name": "stdout",
     "output_type": "stream",
     "text": [
      "{'eval_loss': 1.0727437734603882, 'eval_accuracy': 0.6345826235093697, 'eval_runtime': 8.8345, 'eval_samples_per_second': 132.888, 'eval_steps_per_second': 6.678, 'epoch': 11.9}\n",
      "{'loss': 0.6098, 'learning_rate': 7.959183673469388e-06, 'epoch': 12.24}\n"
     ]
    },
    {
     "data": {
      "application/vnd.jupyter.widget-view+json": {
       "model_id": "4e9b0e56736d445abb79f222087b7d3f",
       "version_major": 2,
       "version_minor": 0
      },
      "text/plain": [
       "  0%|          | 0/59 [00:00<?, ?it/s]"
      ]
     },
     "metadata": {},
     "output_type": "display_data"
    },
    {
     "name": "stdout",
     "output_type": "stream",
     "text": [
      "{'eval_loss': 1.138829231262207, 'eval_accuracy': 0.676320272572402, 'eval_runtime': 8.8343, 'eval_samples_per_second': 132.891, 'eval_steps_per_second': 6.679, 'epoch': 12.24}\n",
      "{'loss': 0.6173, 'learning_rate': 7.90249433106576e-06, 'epoch': 12.59}\n"
     ]
    },
    {
     "data": {
      "application/vnd.jupyter.widget-view+json": {
       "model_id": "21d114149a154759a1082f48b72224db",
       "version_major": 2,
       "version_minor": 0
      },
      "text/plain": [
       "  0%|          | 0/59 [00:00<?, ?it/s]"
      ]
     },
     "metadata": {},
     "output_type": "display_data"
    },
    {
     "name": "stdout",
     "output_type": "stream",
     "text": [
      "{'eval_loss': 1.1170361042022705, 'eval_accuracy': 0.6609880749574105, 'eval_runtime': 8.8327, 'eval_samples_per_second': 132.915, 'eval_steps_per_second': 6.68, 'epoch': 12.59}\n",
      "{'loss': 0.6688, 'learning_rate': 7.845804988662133e-06, 'epoch': 12.93}\n"
     ]
    },
    {
     "data": {
      "application/vnd.jupyter.widget-view+json": {
       "model_id": "dc2b450470004ef7a483b06788b50425",
       "version_major": 2,
       "version_minor": 0
      },
      "text/plain": [
       "  0%|          | 0/59 [00:00<?, ?it/s]"
      ]
     },
     "metadata": {},
     "output_type": "display_data"
    },
    {
     "name": "stdout",
     "output_type": "stream",
     "text": [
      "{'eval_loss': 1.1168928146362305, 'eval_accuracy': 0.6575809199318569, 'eval_runtime': 8.8444, 'eval_samples_per_second': 132.739, 'eval_steps_per_second': 6.671, 'epoch': 12.93}\n",
      "{'loss': 0.572, 'learning_rate': 7.789115646258504e-06, 'epoch': 13.27}\n"
     ]
    },
    {
     "data": {
      "application/vnd.jupyter.widget-view+json": {
       "model_id": "7e471ce6e9e14d2682405f30d5ae937e",
       "version_major": 2,
       "version_minor": 0
      },
      "text/plain": [
       "  0%|          | 0/59 [00:00<?, ?it/s]"
      ]
     },
     "metadata": {},
     "output_type": "display_data"
    },
    {
     "name": "stdout",
     "output_type": "stream",
     "text": [
      "{'eval_loss': 1.1718096733093262, 'eval_accuracy': 0.6626916524701874, 'eval_runtime': 8.8239, 'eval_samples_per_second': 133.048, 'eval_steps_per_second': 6.686, 'epoch': 13.27}\n",
      "{'loss': 0.5825, 'learning_rate': 7.732426303854876e-06, 'epoch': 13.61}\n"
     ]
    },
    {
     "data": {
      "application/vnd.jupyter.widget-view+json": {
       "model_id": "3a2012b1e7d049e1af23acfeec5fedec",
       "version_major": 2,
       "version_minor": 0
      },
      "text/plain": [
       "  0%|          | 0/59 [00:00<?, ?it/s]"
      ]
     },
     "metadata": {},
     "output_type": "display_data"
    },
    {
     "name": "stdout",
     "output_type": "stream",
     "text": [
      "{'eval_loss': 1.2249290943145752, 'eval_accuracy': 0.6490630323679727, 'eval_runtime': 8.8209, 'eval_samples_per_second': 133.093, 'eval_steps_per_second': 6.689, 'epoch': 13.61}\n",
      "{'loss': 0.6435, 'learning_rate': 7.675736961451247e-06, 'epoch': 13.95}\n"
     ]
    },
    {
     "data": {
      "application/vnd.jupyter.widget-view+json": {
       "model_id": "af3108d5a1474a659306d8dd066b808e",
       "version_major": 2,
       "version_minor": 0
      },
      "text/plain": [
       "  0%|          | 0/59 [00:00<?, ?it/s]"
      ]
     },
     "metadata": {},
     "output_type": "display_data"
    },
    {
     "name": "stdout",
     "output_type": "stream",
     "text": [
      "{'eval_loss': 1.0703922510147095, 'eval_accuracy': 0.6499148211243612, 'eval_runtime': 8.8252, 'eval_samples_per_second': 133.028, 'eval_steps_per_second': 6.685, 'epoch': 13.95}\n",
      "{'loss': 0.6097, 'learning_rate': 7.61904761904762e-06, 'epoch': 14.29}\n"
     ]
    },
    {
     "data": {
      "application/vnd.jupyter.widget-view+json": {
       "model_id": "f905493e45bb4a1fb06dfa917a46294d",
       "version_major": 2,
       "version_minor": 0
      },
      "text/plain": [
       "  0%|          | 0/59 [00:00<?, ?it/s]"
      ]
     },
     "metadata": {},
     "output_type": "display_data"
    },
    {
     "name": "stdout",
     "output_type": "stream",
     "text": [
      "{'eval_loss': 1.1793307065963745, 'eval_accuracy': 0.6712095400340715, 'eval_runtime': 8.8213, 'eval_samples_per_second': 133.087, 'eval_steps_per_second': 6.688, 'epoch': 14.29}\n",
      "{'loss': 0.5874, 'learning_rate': 7.562358276643992e-06, 'epoch': 14.63}\n"
     ]
    },
    {
     "data": {
      "application/vnd.jupyter.widget-view+json": {
       "model_id": "d6f34b9cbd2f41528a03d0c652457470",
       "version_major": 2,
       "version_minor": 0
      },
      "text/plain": [
       "  0%|          | 0/59 [00:00<?, ?it/s]"
      ]
     },
     "metadata": {},
     "output_type": "display_data"
    },
    {
     "name": "stdout",
     "output_type": "stream",
     "text": [
      "{'eval_loss': 1.1491822004318237, 'eval_accuracy': 0.6737649063032368, 'eval_runtime': 8.84, 'eval_samples_per_second': 132.806, 'eval_steps_per_second': 6.674, 'epoch': 14.63}\n",
      "{'loss': 0.5656, 'learning_rate': 7.5056689342403635e-06, 'epoch': 14.97}\n"
     ]
    },
    {
     "data": {
      "application/vnd.jupyter.widget-view+json": {
       "model_id": "71f6fef30369484da279c67344652f0a",
       "version_major": 2,
       "version_minor": 0
      },
      "text/plain": [
       "  0%|          | 0/59 [00:00<?, ?it/s]"
      ]
     },
     "metadata": {},
     "output_type": "display_data"
    },
    {
     "name": "stdout",
     "output_type": "stream",
     "text": [
      "{'eval_loss': 1.1649465560913086, 'eval_accuracy': 0.6678023850085179, 'eval_runtime': 8.8298, 'eval_samples_per_second': 132.958, 'eval_steps_per_second': 6.682, 'epoch': 14.97}\n",
      "{'loss': 0.522, 'learning_rate': 7.448979591836736e-06, 'epoch': 15.31}\n"
     ]
    },
    {
     "data": {
      "application/vnd.jupyter.widget-view+json": {
       "model_id": "dad9a08a659b44bdb6824830fdb01b0c",
       "version_major": 2,
       "version_minor": 0
      },
      "text/plain": [
       "  0%|          | 0/59 [00:00<?, ?it/s]"
      ]
     },
     "metadata": {},
     "output_type": "display_data"
    },
    {
     "name": "stdout",
     "output_type": "stream",
     "text": [
      "{'eval_loss': 1.1964969635009766, 'eval_accuracy': 0.6737649063032368, 'eval_runtime': 8.8325, 'eval_samples_per_second': 132.918, 'eval_steps_per_second': 6.68, 'epoch': 15.31}\n",
      "{'loss': 0.6109, 'learning_rate': 7.3922902494331075e-06, 'epoch': 15.65}\n"
     ]
    },
    {
     "data": {
      "application/vnd.jupyter.widget-view+json": {
       "model_id": "bc331deb8c3142618a98523db53c99d3",
       "version_major": 2,
       "version_minor": 0
      },
      "text/plain": [
       "  0%|          | 0/59 [00:00<?, ?it/s]"
      ]
     },
     "metadata": {},
     "output_type": "display_data"
    },
    {
     "name": "stdout",
     "output_type": "stream",
     "text": [
      "{'eval_loss': 1.1135687828063965, 'eval_accuracy': 0.6754684838160137, 'eval_runtime': 8.8253, 'eval_samples_per_second': 133.026, 'eval_steps_per_second': 6.685, 'epoch': 15.65}\n",
      "{'loss': 0.5134, 'learning_rate': 7.335600907029479e-06, 'epoch': 15.99}\n"
     ]
    },
    {
     "data": {
      "application/vnd.jupyter.widget-view+json": {
       "model_id": "8782f5d80d194aa9b492c55e905f7a15",
       "version_major": 2,
       "version_minor": 0
      },
      "text/plain": [
       "  0%|          | 0/59 [00:00<?, ?it/s]"
      ]
     },
     "metadata": {},
     "output_type": "display_data"
    },
    {
     "name": "stdout",
     "output_type": "stream",
     "text": [
      "{'eval_loss': 1.2759764194488525, 'eval_accuracy': 0.6814310051107325, 'eval_runtime': 8.8325, 'eval_samples_per_second': 132.918, 'eval_steps_per_second': 6.68, 'epoch': 15.99}\n",
      "{'loss': 0.5212, 'learning_rate': 7.278911564625851e-06, 'epoch': 16.33}\n"
     ]
    },
    {
     "data": {
      "application/vnd.jupyter.widget-view+json": {
       "model_id": "3e0ad42b3a3e469c8cb3ed426e679c37",
       "version_major": 2,
       "version_minor": 0
      },
      "text/plain": [
       "  0%|          | 0/59 [00:00<?, ?it/s]"
      ]
     },
     "metadata": {},
     "output_type": "display_data"
    },
    {
     "name": "stdout",
     "output_type": "stream",
     "text": [
      "{'eval_loss': 1.22675359249115, 'eval_accuracy': 0.6499148211243612, 'eval_runtime': 8.8257, 'eval_samples_per_second': 133.021, 'eval_steps_per_second': 6.685, 'epoch': 16.33}\n",
      "{'loss': 0.5072, 'learning_rate': 7.222222222222223e-06, 'epoch': 16.67}\n"
     ]
    },
    {
     "data": {
      "application/vnd.jupyter.widget-view+json": {
       "model_id": "1787935e19e746438e1ba63845da6c27",
       "version_major": 2,
       "version_minor": 0
      },
      "text/plain": [
       "  0%|          | 0/59 [00:00<?, ?it/s]"
      ]
     },
     "metadata": {},
     "output_type": "display_data"
    },
    {
     "name": "stdout",
     "output_type": "stream",
     "text": [
      "{'eval_loss': 1.2252718210220337, 'eval_accuracy': 0.6490630323679727, 'eval_runtime': 8.8472, 'eval_samples_per_second': 132.697, 'eval_steps_per_second': 6.669, 'epoch': 16.67}\n",
      "{'loss': 0.519, 'learning_rate': 7.165532879818595e-06, 'epoch': 17.01}\n"
     ]
    },
    {
     "data": {
      "application/vnd.jupyter.widget-view+json": {
       "model_id": "c5f98ac2c2054d7aa7e1f33e87eba808",
       "version_major": 2,
       "version_minor": 0
      },
      "text/plain": [
       "  0%|          | 0/59 [00:00<?, ?it/s]"
      ]
     },
     "metadata": {},
     "output_type": "display_data"
    },
    {
     "name": "stdout",
     "output_type": "stream",
     "text": [
      "{'eval_loss': 1.2422103881835938, 'eval_accuracy': 0.6856899488926746, 'eval_runtime': 8.8266, 'eval_samples_per_second': 133.006, 'eval_steps_per_second': 6.684, 'epoch': 17.01}\n",
      "{'loss': 0.5273, 'learning_rate': 7.108843537414967e-06, 'epoch': 17.35}\n"
     ]
    },
    {
     "data": {
      "application/vnd.jupyter.widget-view+json": {
       "model_id": "a75844f80d664c8799b19455c5493e34",
       "version_major": 2,
       "version_minor": 0
      },
      "text/plain": [
       "  0%|          | 0/59 [00:00<?, ?it/s]"
      ]
     },
     "metadata": {},
     "output_type": "display_data"
    },
    {
     "name": "stdout",
     "output_type": "stream",
     "text": [
      "{'eval_loss': 1.3340474367141724, 'eval_accuracy': 0.6780238500851788, 'eval_runtime': 8.8259, 'eval_samples_per_second': 133.017, 'eval_steps_per_second': 6.685, 'epoch': 17.35}\n",
      "{'loss': 0.5199, 'learning_rate': 7.052154195011338e-06, 'epoch': 17.69}\n"
     ]
    },
    {
     "data": {
      "application/vnd.jupyter.widget-view+json": {
       "model_id": "c1b7351bcb074dddbd8538aeb9002cf7",
       "version_major": 2,
       "version_minor": 0
      },
      "text/plain": [
       "  0%|          | 0/59 [00:00<?, ?it/s]"
      ]
     },
     "metadata": {},
     "output_type": "display_data"
    },
    {
     "name": "stdout",
     "output_type": "stream",
     "text": [
      "{'eval_loss': 1.191733956336975, 'eval_accuracy': 0.6729131175468483, 'eval_runtime': 8.8144, 'eval_samples_per_second': 133.191, 'eval_steps_per_second': 6.694, 'epoch': 17.69}\n",
      "{'loss': 0.5185, 'learning_rate': 6.995464852607711e-06, 'epoch': 18.03}\n"
     ]
    },
    {
     "data": {
      "application/vnd.jupyter.widget-view+json": {
       "model_id": "9ea8281657fc4bd0aa2757ded070c126",
       "version_major": 2,
       "version_minor": 0
      },
      "text/plain": [
       "  0%|          | 0/59 [00:00<?, ?it/s]"
      ]
     },
     "metadata": {},
     "output_type": "display_data"
    },
    {
     "name": "stdout",
     "output_type": "stream",
     "text": [
      "{'eval_loss': 1.2197577953338623, 'eval_accuracy': 0.6899488926746167, 'eval_runtime': 8.8207, 'eval_samples_per_second': 133.096, 'eval_steps_per_second': 6.689, 'epoch': 18.03}\n",
      "{'loss': 0.4715, 'learning_rate': 6.938775510204082e-06, 'epoch': 18.37}\n"
     ]
    },
    {
     "data": {
      "application/vnd.jupyter.widget-view+json": {
       "model_id": "f4fef94d69e14d318d656091da2c9146",
       "version_major": 2,
       "version_minor": 0
      },
      "text/plain": [
       "  0%|          | 0/59 [00:00<?, ?it/s]"
      ]
     },
     "metadata": {},
     "output_type": "display_data"
    },
    {
     "name": "stdout",
     "output_type": "stream",
     "text": [
      "{'eval_loss': 1.2063604593276978, 'eval_accuracy': 0.6908006814310051, 'eval_runtime': 8.8222, 'eval_samples_per_second': 133.074, 'eval_steps_per_second': 6.688, 'epoch': 18.37}\n",
      "{'loss': 0.4902, 'learning_rate': 6.882086167800454e-06, 'epoch': 18.71}\n"
     ]
    },
    {
     "data": {
      "application/vnd.jupyter.widget-view+json": {
       "model_id": "adcb8beca3884fc494d0423eae34b4ca",
       "version_major": 2,
       "version_minor": 0
      },
      "text/plain": [
       "  0%|          | 0/59 [00:00<?, ?it/s]"
      ]
     },
     "metadata": {},
     "output_type": "display_data"
    },
    {
     "name": "stdout",
     "output_type": "stream",
     "text": [
      "{'eval_loss': 1.2589163780212402, 'eval_accuracy': 0.6746166950596252, 'eval_runtime': 8.8227, 'eval_samples_per_second': 133.065, 'eval_steps_per_second': 6.687, 'epoch': 18.71}\n",
      "{'loss': 0.4654, 'learning_rate': 6.825396825396826e-06, 'epoch': 19.05}\n"
     ]
    },
    {
     "data": {
      "application/vnd.jupyter.widget-view+json": {
       "model_id": "879257a15d4f4bdeaad415e567ad917e",
       "version_major": 2,
       "version_minor": 0
      },
      "text/plain": [
       "  0%|          | 0/59 [00:00<?, ?it/s]"
      ]
     },
     "metadata": {},
     "output_type": "display_data"
    },
    {
     "name": "stdout",
     "output_type": "stream",
     "text": [
      "{'eval_loss': 1.257718563079834, 'eval_accuracy': 0.6882453151618398, 'eval_runtime': 8.8301, 'eval_samples_per_second': 132.954, 'eval_steps_per_second': 6.682, 'epoch': 19.05}\n",
      "{'loss': 0.4779, 'learning_rate': 6.768707482993198e-06, 'epoch': 19.39}\n"
     ]
    },
    {
     "data": {
      "application/vnd.jupyter.widget-view+json": {
       "model_id": "5ab08d8297084816bea0556f69ed687e",
       "version_major": 2,
       "version_minor": 0
      },
      "text/plain": [
       "  0%|          | 0/59 [00:00<?, ?it/s]"
      ]
     },
     "metadata": {},
     "output_type": "display_data"
    },
    {
     "name": "stdout",
     "output_type": "stream",
     "text": [
      "{'eval_loss': 1.287451982498169, 'eval_accuracy': 0.686541737649063, 'eval_runtime': 8.8381, 'eval_samples_per_second': 132.834, 'eval_steps_per_second': 6.676, 'epoch': 19.39}\n",
      "{'loss': 0.4924, 'learning_rate': 6.71201814058957e-06, 'epoch': 19.73}\n"
     ]
    },
    {
     "data": {
      "application/vnd.jupyter.widget-view+json": {
       "model_id": "efcd1da66c3a47be80df47211cdead5a",
       "version_major": 2,
       "version_minor": 0
      },
      "text/plain": [
       "  0%|          | 0/59 [00:00<?, ?it/s]"
      ]
     },
     "metadata": {},
     "output_type": "display_data"
    },
    {
     "name": "stdout",
     "output_type": "stream",
     "text": [
      "{'eval_loss': 1.383704423904419, 'eval_accuracy': 0.6916524701873935, 'eval_runtime': 8.8149, 'eval_samples_per_second': 133.184, 'eval_steps_per_second': 6.693, 'epoch': 19.73}\n",
      "{'loss': 0.4646, 'learning_rate': 6.655328798185942e-06, 'epoch': 20.07}\n"
     ]
    },
    {
     "data": {
      "application/vnd.jupyter.widget-view+json": {
       "model_id": "dc2a49267e9c48c2becd0f8a77c02a46",
       "version_major": 2,
       "version_minor": 0
      },
      "text/plain": [
       "  0%|          | 0/59 [00:00<?, ?it/s]"
      ]
     },
     "metadata": {},
     "output_type": "display_data"
    },
    {
     "name": "stdout",
     "output_type": "stream",
     "text": [
      "{'eval_loss': 1.336690902709961, 'eval_accuracy': 0.6873935264054515, 'eval_runtime': 8.8268, 'eval_samples_per_second': 133.005, 'eval_steps_per_second': 6.684, 'epoch': 20.07}\n",
      "{'loss': 0.5135, 'learning_rate': 6.598639455782313e-06, 'epoch': 20.41}\n"
     ]
    },
    {
     "data": {
      "application/vnd.jupyter.widget-view+json": {
       "model_id": "04c32621e679484e95fd594bf0c380fb",
       "version_major": 2,
       "version_minor": 0
      },
      "text/plain": [
       "  0%|          | 0/59 [00:00<?, ?it/s]"
      ]
     },
     "metadata": {},
     "output_type": "display_data"
    },
    {
     "name": "stdout",
     "output_type": "stream",
     "text": [
      "{'eval_loss': 1.3152596950531006, 'eval_accuracy': 0.6814310051107325, 'eval_runtime': 8.8417, 'eval_samples_per_second': 132.78, 'eval_steps_per_second': 6.673, 'epoch': 20.41}\n",
      "{'loss': 0.4402, 'learning_rate': 6.5419501133786855e-06, 'epoch': 20.75}\n"
     ]
    },
    {
     "data": {
      "application/vnd.jupyter.widget-view+json": {
       "model_id": "99f94f3eac4c45dc978f8f78e8a65a97",
       "version_major": 2,
       "version_minor": 0
      },
      "text/plain": [
       "  0%|          | 0/59 [00:00<?, ?it/s]"
      ]
     },
     "metadata": {},
     "output_type": "display_data"
    },
    {
     "name": "stdout",
     "output_type": "stream",
     "text": [
      "{'eval_loss': 1.4087826013565063, 'eval_accuracy': 0.6873935264054515, 'eval_runtime': 8.8205, 'eval_samples_per_second': 133.099, 'eval_steps_per_second': 6.689, 'epoch': 20.75}\n",
      "{'loss': 0.4815, 'learning_rate': 6.485260770975057e-06, 'epoch': 21.09}\n"
     ]
    },
    {
     "data": {
      "application/vnd.jupyter.widget-view+json": {
       "model_id": "5b2bb04f14c444d290abd58879991a72",
       "version_major": 2,
       "version_minor": 0
      },
      "text/plain": [
       "  0%|          | 0/59 [00:00<?, ?it/s]"
      ]
     },
     "metadata": {},
     "output_type": "display_data"
    },
    {
     "name": "stdout",
     "output_type": "stream",
     "text": [
      "{'eval_loss': 1.3393762111663818, 'eval_accuracy': 0.6695059625212947, 'eval_runtime': 8.8105, 'eval_samples_per_second': 133.25, 'eval_steps_per_second': 6.697, 'epoch': 21.09}\n",
      "{'loss': 0.4162, 'learning_rate': 6.4285714285714295e-06, 'epoch': 21.43}\n"
     ]
    },
    {
     "data": {
      "application/vnd.jupyter.widget-view+json": {
       "model_id": "64ba61266dd14c91878463e61edcd35e",
       "version_major": 2,
       "version_minor": 0
      },
      "text/plain": [
       "  0%|          | 0/59 [00:00<?, ?it/s]"
      ]
     },
     "metadata": {},
     "output_type": "display_data"
    },
    {
     "name": "stdout",
     "output_type": "stream",
     "text": [
      "{'eval_loss': 1.3700883388519287, 'eval_accuracy': 0.6831345826235093, 'eval_runtime': 8.8247, 'eval_samples_per_second': 133.036, 'eval_steps_per_second': 6.686, 'epoch': 21.43}\n",
      "{'loss': 0.4699, 'learning_rate': 6.371882086167801e-06, 'epoch': 21.77}\n"
     ]
    },
    {
     "data": {
      "application/vnd.jupyter.widget-view+json": {
       "model_id": "58e9c341d1ff47708c91513064130205",
       "version_major": 2,
       "version_minor": 0
      },
      "text/plain": [
       "  0%|          | 0/59 [00:00<?, ?it/s]"
      ]
     },
     "metadata": {},
     "output_type": "display_data"
    },
    {
     "name": "stdout",
     "output_type": "stream",
     "text": [
      "{'eval_loss': 1.4109667539596558, 'eval_accuracy': 0.6950596252129472, 'eval_runtime': 8.8212, 'eval_samples_per_second': 133.088, 'eval_steps_per_second': 6.688, 'epoch': 21.77}\n",
      "{'loss': 0.4481, 'learning_rate': 6.3151927437641725e-06, 'epoch': 22.11}\n"
     ]
    },
    {
     "data": {
      "application/vnd.jupyter.widget-view+json": {
       "model_id": "78fbf7cf245e477f951e4262b079a5ce",
       "version_major": 2,
       "version_minor": 0
      },
      "text/plain": [
       "  0%|          | 0/59 [00:00<?, ?it/s]"
      ]
     },
     "metadata": {},
     "output_type": "display_data"
    },
    {
     "name": "stdout",
     "output_type": "stream",
     "text": [
      "{'eval_loss': 1.3544659614562988, 'eval_accuracy': 0.692504258943782, 'eval_runtime': 8.8162, 'eval_samples_per_second': 133.164, 'eval_steps_per_second': 6.692, 'epoch': 22.11}\n",
      "{'loss': 0.4322, 'learning_rate': 6.258503401360545e-06, 'epoch': 22.45}\n"
     ]
    },
    {
     "data": {
      "application/vnd.jupyter.widget-view+json": {
       "model_id": "53e44b21e40d4e6296ecd300a90244da",
       "version_major": 2,
       "version_minor": 0
      },
      "text/plain": [
       "  0%|          | 0/59 [00:00<?, ?it/s]"
      ]
     },
     "metadata": {},
     "output_type": "display_data"
    },
    {
     "name": "stdout",
     "output_type": "stream",
     "text": [
      "{'eval_loss': 1.3694959878921509, 'eval_accuracy': 0.6652470187393527, 'eval_runtime': 8.8164, 'eval_samples_per_second': 133.161, 'eval_steps_per_second': 6.692, 'epoch': 22.45}\n",
      "{'loss': 0.4331, 'learning_rate': 6.2018140589569164e-06, 'epoch': 22.79}\n"
     ]
    },
    {
     "data": {
      "application/vnd.jupyter.widget-view+json": {
       "model_id": "49feb60493fe42549b63c4f66616bff5",
       "version_major": 2,
       "version_minor": 0
      },
      "text/plain": [
       "  0%|          | 0/59 [00:00<?, ?it/s]"
      ]
     },
     "metadata": {},
     "output_type": "display_data"
    },
    {
     "name": "stdout",
     "output_type": "stream",
     "text": [
      "{'eval_loss': 1.3352566957473755, 'eval_accuracy': 0.686541737649063, 'eval_runtime': 8.8239, 'eval_samples_per_second': 133.048, 'eval_steps_per_second': 6.686, 'epoch': 22.79}\n",
      "{'loss': 0.3836, 'learning_rate': 6.145124716553289e-06, 'epoch': 23.13}\n"
     ]
    },
    {
     "data": {
      "application/vnd.jupyter.widget-view+json": {
       "model_id": "b10e28d6771f41f9b20961ccfb11c11f",
       "version_major": 2,
       "version_minor": 0
      },
      "text/plain": [
       "  0%|          | 0/59 [00:00<?, ?it/s]"
      ]
     },
     "metadata": {},
     "output_type": "display_data"
    },
    {
     "name": "stdout",
     "output_type": "stream",
     "text": [
      "{'eval_loss': 1.4675613641738892, 'eval_accuracy': 0.6771720613287905, 'eval_runtime': 8.8345, 'eval_samples_per_second': 132.888, 'eval_steps_per_second': 6.678, 'epoch': 23.13}\n",
      "{'loss': 0.4293, 'learning_rate': 6.08843537414966e-06, 'epoch': 23.47}\n"
     ]
    },
    {
     "data": {
      "application/vnd.jupyter.widget-view+json": {
       "model_id": "9fd89ece1aa042dc8ae16424fe8ce962",
       "version_major": 2,
       "version_minor": 0
      },
      "text/plain": [
       "  0%|          | 0/59 [00:00<?, ?it/s]"
      ]
     },
     "metadata": {},
     "output_type": "display_data"
    },
    {
     "name": "stdout",
     "output_type": "stream",
     "text": [
      "{'eval_loss': 1.3540465831756592, 'eval_accuracy': 0.6882453151618398, 'eval_runtime': 8.82, 'eval_samples_per_second': 133.106, 'eval_steps_per_second': 6.689, 'epoch': 23.47}\n",
      "{'loss': 0.3895, 'learning_rate': 6.031746031746032e-06, 'epoch': 23.81}\n"
     ]
    },
    {
     "data": {
      "application/vnd.jupyter.widget-view+json": {
       "model_id": "a69682cc64ab42fcad0bf7f1e96e8ffd",
       "version_major": 2,
       "version_minor": 0
      },
      "text/plain": [
       "  0%|          | 0/59 [00:00<?, ?it/s]"
      ]
     },
     "metadata": {},
     "output_type": "display_data"
    },
    {
     "name": "stdout",
     "output_type": "stream",
     "text": [
      "{'eval_loss': 1.410010814666748, 'eval_accuracy': 0.6899488926746167, 'eval_runtime': 8.8195, 'eval_samples_per_second': 133.115, 'eval_steps_per_second': 6.69, 'epoch': 23.81}\n",
      "{'loss': 0.4055, 'learning_rate': 5.975056689342404e-06, 'epoch': 24.15}\n"
     ]
    },
    {
     "data": {
      "application/vnd.jupyter.widget-view+json": {
       "model_id": "f7b2d4e1dc314ca484a6bab2113f3e60",
       "version_major": 2,
       "version_minor": 0
      },
      "text/plain": [
       "  0%|          | 0/59 [00:00<?, ?it/s]"
      ]
     },
     "metadata": {},
     "output_type": "display_data"
    },
    {
     "name": "stdout",
     "output_type": "stream",
     "text": [
      "{'eval_loss': 1.3454612493515015, 'eval_accuracy': 0.6797274275979557, 'eval_runtime': 8.8238, 'eval_samples_per_second': 133.05, 'eval_steps_per_second': 6.686, 'epoch': 24.15}\n",
      "{'loss': 0.4088, 'learning_rate': 5.918367346938776e-06, 'epoch': 24.49}\n"
     ]
    },
    {
     "data": {
      "application/vnd.jupyter.widget-view+json": {
       "model_id": "94a380ebaec64dabb3af63c8ccdbc431",
       "version_major": 2,
       "version_minor": 0
      },
      "text/plain": [
       "  0%|          | 0/59 [00:00<?, ?it/s]"
      ]
     },
     "metadata": {},
     "output_type": "display_data"
    },
    {
     "name": "stdout",
     "output_type": "stream",
     "text": [
      "{'eval_loss': 1.6108345985412598, 'eval_accuracy': 0.6839863713798978, 'eval_runtime': 8.8297, 'eval_samples_per_second': 132.96, 'eval_steps_per_second': 6.682, 'epoch': 24.49}\n",
      "{'loss': 0.4171, 'learning_rate': 5.861678004535147e-06, 'epoch': 24.83}\n"
     ]
    },
    {
     "data": {
      "application/vnd.jupyter.widget-view+json": {
       "model_id": "9c216f73d37d472c836ce8d8f6e5eedd",
       "version_major": 2,
       "version_minor": 0
      },
      "text/plain": [
       "  0%|          | 0/59 [00:00<?, ?it/s]"
      ]
     },
     "metadata": {},
     "output_type": "display_data"
    },
    {
     "name": "stdout",
     "output_type": "stream",
     "text": [
      "{'eval_loss': 1.3693534135818481, 'eval_accuracy': 0.6788756388415673, 'eval_runtime': 8.8291, 'eval_samples_per_second': 132.97, 'eval_steps_per_second': 6.682, 'epoch': 24.83}\n",
      "{'loss': 0.3802, 'learning_rate': 5.80498866213152e-06, 'epoch': 25.17}\n"
     ]
    },
    {
     "data": {
      "application/vnd.jupyter.widget-view+json": {
       "model_id": "a286de38dac44c11a0f1461ce10aac2c",
       "version_major": 2,
       "version_minor": 0
      },
      "text/plain": [
       "  0%|          | 0/59 [00:00<?, ?it/s]"
      ]
     },
     "metadata": {},
     "output_type": "display_data"
    },
    {
     "name": "stdout",
     "output_type": "stream",
     "text": [
      "{'eval_loss': 1.3565360307693481, 'eval_accuracy': 0.6797274275979557, 'eval_runtime': 8.8268, 'eval_samples_per_second': 133.004, 'eval_steps_per_second': 6.684, 'epoch': 25.17}\n",
      "{'loss': 0.3507, 'learning_rate': 5.748299319727891e-06, 'epoch': 25.51}\n"
     ]
    },
    {
     "data": {
      "application/vnd.jupyter.widget-view+json": {
       "model_id": "f625145d551b4de39c4f7295d139e2f7",
       "version_major": 2,
       "version_minor": 0
      },
      "text/plain": [
       "  0%|          | 0/59 [00:00<?, ?it/s]"
      ]
     },
     "metadata": {},
     "output_type": "display_data"
    },
    {
     "name": "stdout",
     "output_type": "stream",
     "text": [
      "{'eval_loss': 1.6516450643539429, 'eval_accuracy': 0.7001703577512777, 'eval_runtime': 8.8287, 'eval_samples_per_second': 132.975, 'eval_steps_per_second': 6.683, 'epoch': 25.51}\n",
      "{'loss': 0.4246, 'learning_rate': 5.691609977324264e-06, 'epoch': 25.85}\n"
     ]
    },
    {
     "data": {
      "application/vnd.jupyter.widget-view+json": {
       "model_id": "a84f249606134b659b0dbe40386d90b1",
       "version_major": 2,
       "version_minor": 0
      },
      "text/plain": [
       "  0%|          | 0/59 [00:00<?, ?it/s]"
      ]
     },
     "metadata": {},
     "output_type": "display_data"
    },
    {
     "name": "stdout",
     "output_type": "stream",
     "text": [
      "{'eval_loss': 1.4757719039916992, 'eval_accuracy': 0.6788756388415673, 'eval_runtime': 8.8361, 'eval_samples_per_second': 132.864, 'eval_steps_per_second': 6.677, 'epoch': 25.85}\n",
      "{'loss': 0.378, 'learning_rate': 5.634920634920635e-06, 'epoch': 26.19}\n"
     ]
    },
    {
     "data": {
      "application/vnd.jupyter.widget-view+json": {
       "model_id": "5e65a4a3692348cea7c83b5c728a82e2",
       "version_major": 2,
       "version_minor": 0
      },
      "text/plain": [
       "  0%|          | 0/59 [00:00<?, ?it/s]"
      ]
     },
     "metadata": {},
     "output_type": "display_data"
    },
    {
     "name": "stdout",
     "output_type": "stream",
     "text": [
      "{'eval_loss': 1.3675695657730103, 'eval_accuracy': 0.6797274275979557, 'eval_runtime': 8.8122, 'eval_samples_per_second': 133.224, 'eval_steps_per_second': 6.695, 'epoch': 26.19}\n",
      "{'loss': 0.3725, 'learning_rate': 5.578231292517007e-06, 'epoch': 26.53}\n"
     ]
    },
    {
     "data": {
      "application/vnd.jupyter.widget-view+json": {
       "model_id": "033dbda36d664c55be8757b0a77ec56a",
       "version_major": 2,
       "version_minor": 0
      },
      "text/plain": [
       "  0%|          | 0/59 [00:00<?, ?it/s]"
      ]
     },
     "metadata": {},
     "output_type": "display_data"
    },
    {
     "name": "stdout",
     "output_type": "stream",
     "text": [
      "{'eval_loss': 1.441341519355774, 'eval_accuracy': 0.6797274275979557, 'eval_runtime': 8.8134, 'eval_samples_per_second': 133.206, 'eval_steps_per_second': 6.694, 'epoch': 26.53}\n",
      "{'loss': 0.3824, 'learning_rate': 5.521541950113379e-06, 'epoch': 26.87}\n"
     ]
    },
    {
     "data": {
      "application/vnd.jupyter.widget-view+json": {
       "model_id": "b4323a4bacc34725b8fb3369107f2a2d",
       "version_major": 2,
       "version_minor": 0
      },
      "text/plain": [
       "  0%|          | 0/59 [00:00<?, ?it/s]"
      ]
     },
     "metadata": {},
     "output_type": "display_data"
    },
    {
     "name": "stdout",
     "output_type": "stream",
     "text": [
      "{'eval_loss': 1.5458824634552002, 'eval_accuracy': 0.682282793867121, 'eval_runtime': 8.8119, 'eval_samples_per_second': 133.228, 'eval_steps_per_second': 6.695, 'epoch': 26.87}\n",
      "{'loss': 0.3646, 'learning_rate': 5.464852607709751e-06, 'epoch': 27.21}\n"
     ]
    },
    {
     "data": {
      "application/vnd.jupyter.widget-view+json": {
       "model_id": "7b178e2d5f3b4dc890515d14541d2284",
       "version_major": 2,
       "version_minor": 0
      },
      "text/plain": [
       "  0%|          | 0/59 [00:00<?, ?it/s]"
      ]
     },
     "metadata": {},
     "output_type": "display_data"
    },
    {
     "name": "stdout",
     "output_type": "stream",
     "text": [
      "{'eval_loss': 1.495922327041626, 'eval_accuracy': 0.6908006814310051, 'eval_runtime': 8.8233, 'eval_samples_per_second': 133.057, 'eval_steps_per_second': 6.687, 'epoch': 27.21}\n",
      "{'loss': 0.3228, 'learning_rate': 5.408163265306123e-06, 'epoch': 27.55}\n"
     ]
    },
    {
     "data": {
      "application/vnd.jupyter.widget-view+json": {
       "model_id": "c1a41e217664431daf4e4abb7e0b2c68",
       "version_major": 2,
       "version_minor": 0
      },
      "text/plain": [
       "  0%|          | 0/59 [00:00<?, ?it/s]"
      ]
     },
     "metadata": {},
     "output_type": "display_data"
    },
    {
     "name": "stdout",
     "output_type": "stream",
     "text": [
      "{'eval_loss': 1.5156478881835938, 'eval_accuracy': 0.682282793867121, 'eval_runtime': 9.1758, 'eval_samples_per_second': 127.946, 'eval_steps_per_second': 6.43, 'epoch': 27.55}\n",
      "{'loss': 0.3605, 'learning_rate': 5.3514739229024945e-06, 'epoch': 27.89}\n"
     ]
    },
    {
     "data": {
      "application/vnd.jupyter.widget-view+json": {
       "model_id": "faf761aaaa64439095ecdffac9d674c2",
       "version_major": 2,
       "version_minor": 0
      },
      "text/plain": [
       "  0%|          | 0/59 [00:00<?, ?it/s]"
      ]
     },
     "metadata": {},
     "output_type": "display_data"
    },
    {
     "name": "stdout",
     "output_type": "stream",
     "text": [
      "{'eval_loss': 1.4825165271759033, 'eval_accuracy': 0.6839863713798978, 'eval_runtime': 10.6427, 'eval_samples_per_second': 110.31, 'eval_steps_per_second': 5.544, 'epoch': 27.89}\n",
      "{'loss': 0.3399, 'learning_rate': 5.294784580498866e-06, 'epoch': 28.23}\n"
     ]
    },
    {
     "data": {
      "application/vnd.jupyter.widget-view+json": {
       "model_id": "fbb0093499f94c44b6f37cef59a452ea",
       "version_major": 2,
       "version_minor": 0
      },
      "text/plain": [
       "  0%|          | 0/59 [00:00<?, ?it/s]"
      ]
     },
     "metadata": {},
     "output_type": "display_data"
    },
    {
     "name": "stdout",
     "output_type": "stream",
     "text": [
      "{'eval_loss': 1.619376540184021, 'eval_accuracy': 0.686541737649063, 'eval_runtime': 10.5742, 'eval_samples_per_second': 111.025, 'eval_steps_per_second': 5.58, 'epoch': 28.23}\n",
      "{'loss': 0.3444, 'learning_rate': 5.2380952380952384e-06, 'epoch': 28.57}\n"
     ]
    },
    {
     "data": {
      "application/vnd.jupyter.widget-view+json": {
       "model_id": "9d6b922f5ccb4c078f2a8d10a40192d9",
       "version_major": 2,
       "version_minor": 0
      },
      "text/plain": [
       "  0%|          | 0/59 [00:00<?, ?it/s]"
      ]
     },
     "metadata": {},
     "output_type": "display_data"
    },
    {
     "name": "stdout",
     "output_type": "stream",
     "text": [
      "{'eval_loss': 1.52968168258667, 'eval_accuracy': 0.6942078364565588, 'eval_runtime': 10.6115, 'eval_samples_per_second': 110.634, 'eval_steps_per_second': 5.56, 'epoch': 28.57}\n",
      "{'loss': 0.3323, 'learning_rate': 5.18140589569161e-06, 'epoch': 28.91}\n"
     ]
    },
    {
     "data": {
      "application/vnd.jupyter.widget-view+json": {
       "model_id": "99a8a701387245f9802c4693ca07f1c8",
       "version_major": 2,
       "version_minor": 0
      },
      "text/plain": [
       "  0%|          | 0/59 [00:00<?, ?it/s]"
      ]
     },
     "metadata": {},
     "output_type": "display_data"
    },
    {
     "name": "stdout",
     "output_type": "stream",
     "text": [
      "{'eval_loss': 1.5516412258148193, 'eval_accuracy': 0.6908006814310051, 'eval_runtime': 10.6159, 'eval_samples_per_second': 110.589, 'eval_steps_per_second': 5.558, 'epoch': 28.91}\n",
      "{'loss': 0.3092, 'learning_rate': 5.124716553287983e-06, 'epoch': 29.25}\n"
     ]
    },
    {
     "data": {
      "application/vnd.jupyter.widget-view+json": {
       "model_id": "303c72cd4b124667ac46162ace29b6df",
       "version_major": 2,
       "version_minor": 0
      },
      "text/plain": [
       "  0%|          | 0/59 [00:00<?, ?it/s]"
      ]
     },
     "metadata": {},
     "output_type": "display_data"
    },
    {
     "name": "stdout",
     "output_type": "stream",
     "text": [
      "{'eval_loss': 1.4653805494308472, 'eval_accuracy': 0.6780238500851788, 'eval_runtime': 8.8121, 'eval_samples_per_second': 133.225, 'eval_steps_per_second': 6.695, 'epoch': 29.25}\n",
      "{'loss': 0.3288, 'learning_rate': 5.068027210884354e-06, 'epoch': 29.59}\n"
     ]
    },
    {
     "data": {
      "application/vnd.jupyter.widget-view+json": {
       "model_id": "c296b71c04274dd5b628592ab08ae56c",
       "version_major": 2,
       "version_minor": 0
      },
      "text/plain": [
       "  0%|          | 0/59 [00:00<?, ?it/s]"
      ]
     },
     "metadata": {},
     "output_type": "display_data"
    },
    {
     "name": "stdout",
     "output_type": "stream",
     "text": [
      "{'eval_loss': 1.5791741609573364, 'eval_accuracy': 0.6848381601362862, 'eval_runtime': 8.8202, 'eval_samples_per_second': 133.103, 'eval_steps_per_second': 6.689, 'epoch': 29.59}\n",
      "{'loss': 0.3616, 'learning_rate': 5.0113378684807254e-06, 'epoch': 29.93}\n"
     ]
    },
    {
     "data": {
      "application/vnd.jupyter.widget-view+json": {
       "model_id": "2fcc84fc5a7a491b83eb66576e02ad29",
       "version_major": 2,
       "version_minor": 0
      },
      "text/plain": [
       "  0%|          | 0/59 [00:00<?, ?it/s]"
      ]
     },
     "metadata": {},
     "output_type": "display_data"
    },
    {
     "name": "stdout",
     "output_type": "stream",
     "text": [
      "{'eval_loss': 1.729241967201233, 'eval_accuracy': 0.696763202725724, 'eval_runtime': 8.8323, 'eval_samples_per_second': 132.921, 'eval_steps_per_second': 6.68, 'epoch': 29.93}\n",
      "{'loss': 0.3515, 'learning_rate': 4.954648526077098e-06, 'epoch': 30.27}\n"
     ]
    },
    {
     "data": {
      "application/vnd.jupyter.widget-view+json": {
       "model_id": "e380954b60a940649955c4701dc99efd",
       "version_major": 2,
       "version_minor": 0
      },
      "text/plain": [
       "  0%|          | 0/59 [00:00<?, ?it/s]"
      ]
     },
     "metadata": {},
     "output_type": "display_data"
    },
    {
     "name": "stdout",
     "output_type": "stream",
     "text": [
      "{'eval_loss': 1.539000153541565, 'eval_accuracy': 0.6831345826235093, 'eval_runtime': 8.8266, 'eval_samples_per_second': 133.007, 'eval_steps_per_second': 6.684, 'epoch': 30.27}\n",
      "{'loss': 0.3323, 'learning_rate': 4.897959183673469e-06, 'epoch': 30.61}\n"
     ]
    },
    {
     "data": {
      "application/vnd.jupyter.widget-view+json": {
       "model_id": "1a49a4c6c686403f93c7f7ed17eb1c58",
       "version_major": 2,
       "version_minor": 0
      },
      "text/plain": [
       "  0%|          | 0/59 [00:00<?, ?it/s]"
      ]
     },
     "metadata": {},
     "output_type": "display_data"
    },
    {
     "name": "stdout",
     "output_type": "stream",
     "text": [
      "{'eval_loss': 1.642195224761963, 'eval_accuracy': 0.6873935264054515, 'eval_runtime': 8.8253, 'eval_samples_per_second': 133.027, 'eval_steps_per_second': 6.685, 'epoch': 30.61}\n",
      "{'loss': 0.301, 'learning_rate': 4.841269841269842e-06, 'epoch': 30.95}\n"
     ]
    },
    {
     "data": {
      "application/vnd.jupyter.widget-view+json": {
       "model_id": "efdfbc7026d84b549af3c519bd4cb727",
       "version_major": 2,
       "version_minor": 0
      },
      "text/plain": [
       "  0%|          | 0/59 [00:00<?, ?it/s]"
      ]
     },
     "metadata": {},
     "output_type": "display_data"
    },
    {
     "name": "stdout",
     "output_type": "stream",
     "text": [
      "{'eval_loss': 1.5960193872451782, 'eval_accuracy': 0.6797274275979557, 'eval_runtime': 8.8323, 'eval_samples_per_second': 132.921, 'eval_steps_per_second': 6.68, 'epoch': 30.95}\n",
      "{'loss': 0.349, 'learning_rate': 4.784580498866213e-06, 'epoch': 31.29}\n"
     ]
    },
    {
     "data": {
      "application/vnd.jupyter.widget-view+json": {
       "model_id": "abf12649bb81460f80c5072fd6b6fbd0",
       "version_major": 2,
       "version_minor": 0
      },
      "text/plain": [
       "  0%|          | 0/59 [00:00<?, ?it/s]"
      ]
     },
     "metadata": {},
     "output_type": "display_data"
    },
    {
     "name": "stdout",
     "output_type": "stream",
     "text": [
      "{'eval_loss': 1.6375746726989746, 'eval_accuracy': 0.6848381601362862, 'eval_runtime': 8.8309, 'eval_samples_per_second': 132.943, 'eval_steps_per_second': 6.681, 'epoch': 31.29}\n",
      "{'loss': 0.3127, 'learning_rate': 4.727891156462586e-06, 'epoch': 31.63}\n"
     ]
    },
    {
     "data": {
      "application/vnd.jupyter.widget-view+json": {
       "model_id": "de2c477f79a54e11b358577da4657aa7",
       "version_major": 2,
       "version_minor": 0
      },
      "text/plain": [
       "  0%|          | 0/59 [00:00<?, ?it/s]"
      ]
     },
     "metadata": {},
     "output_type": "display_data"
    },
    {
     "name": "stdout",
     "output_type": "stream",
     "text": [
      "{'eval_loss': 1.6060731410980225, 'eval_accuracy': 0.6788756388415673, 'eval_runtime': 9.147, 'eval_samples_per_second': 128.348, 'eval_steps_per_second': 6.45, 'epoch': 31.63}\n",
      "{'loss': 0.2909, 'learning_rate': 4.671201814058957e-06, 'epoch': 31.97}\n"
     ]
    },
    {
     "data": {
      "application/vnd.jupyter.widget-view+json": {
       "model_id": "b94f1d3db6674ea681ce0981558029e3",
       "version_major": 2,
       "version_minor": 0
      },
      "text/plain": [
       "  0%|          | 0/59 [00:00<?, ?it/s]"
      ]
     },
     "metadata": {},
     "output_type": "display_data"
    },
    {
     "name": "stdout",
     "output_type": "stream",
     "text": [
      "{'eval_loss': 1.6282877922058105, 'eval_accuracy': 0.6882453151618398, 'eval_runtime': 8.8293, 'eval_samples_per_second': 132.966, 'eval_steps_per_second': 6.682, 'epoch': 31.97}\n",
      "{'loss': 0.2853, 'learning_rate': 4.614512471655329e-06, 'epoch': 32.31}\n"
     ]
    },
    {
     "data": {
      "application/vnd.jupyter.widget-view+json": {
       "model_id": "df227969b76947cd9c070141acd2b668",
       "version_major": 2,
       "version_minor": 0
      },
      "text/plain": [
       "  0%|          | 0/59 [00:00<?, ?it/s]"
      ]
     },
     "metadata": {},
     "output_type": "display_data"
    },
    {
     "name": "stdout",
     "output_type": "stream",
     "text": [
      "{'eval_loss': 1.6347196102142334, 'eval_accuracy': 0.6950596252129472, 'eval_runtime': 8.825, 'eval_samples_per_second': 133.031, 'eval_steps_per_second': 6.686, 'epoch': 32.31}\n",
      "{'loss': 0.2946, 'learning_rate': 4.557823129251701e-06, 'epoch': 32.65}\n"
     ]
    },
    {
     "data": {
      "application/vnd.jupyter.widget-view+json": {
       "model_id": "8550ed15542c44eb9fcc2e9e5c58a471",
       "version_major": 2,
       "version_minor": 0
      },
      "text/plain": [
       "  0%|          | 0/59 [00:00<?, ?it/s]"
      ]
     },
     "metadata": {},
     "output_type": "display_data"
    },
    {
     "name": "stdout",
     "output_type": "stream",
     "text": [
      "{'eval_loss': 1.645103096961975, 'eval_accuracy': 0.6839863713798978, 'eval_runtime': 9.3085, 'eval_samples_per_second': 126.121, 'eval_steps_per_second': 6.338, 'epoch': 32.65}\n",
      "{'loss': 0.3014, 'learning_rate': 4.5011337868480735e-06, 'epoch': 32.99}\n"
     ]
    },
    {
     "data": {
      "application/vnd.jupyter.widget-view+json": {
       "model_id": "0399c4b99e5f42b7b88f097171142d91",
       "version_major": 2,
       "version_minor": 0
      },
      "text/plain": [
       "  0%|          | 0/59 [00:00<?, ?it/s]"
      ]
     },
     "metadata": {},
     "output_type": "display_data"
    },
    {
     "name": "stdout",
     "output_type": "stream",
     "text": [
      "{'eval_loss': 1.6506232023239136, 'eval_accuracy': 0.692504258943782, 'eval_runtime': 9.1713, 'eval_samples_per_second': 128.007, 'eval_steps_per_second': 6.433, 'epoch': 32.99}\n",
      "{'loss': 0.312, 'learning_rate': 4.444444444444444e-06, 'epoch': 33.33}\n"
     ]
    },
    {
     "data": {
      "application/vnd.jupyter.widget-view+json": {
       "model_id": "72837544c52b4efab349c62a6bf314e6",
       "version_major": 2,
       "version_minor": 0
      },
      "text/plain": [
       "  0%|          | 0/59 [00:00<?, ?it/s]"
      ]
     },
     "metadata": {},
     "output_type": "display_data"
    },
    {
     "name": "stdout",
     "output_type": "stream",
     "text": [
      "{'eval_loss': 1.6019103527069092, 'eval_accuracy': 0.6839863713798978, 'eval_runtime': 9.098, 'eval_samples_per_second': 129.039, 'eval_steps_per_second': 6.485, 'epoch': 33.33}\n",
      "{'loss': 0.2928, 'learning_rate': 4.3877551020408165e-06, 'epoch': 33.67}\n"
     ]
    },
    {
     "data": {
      "application/vnd.jupyter.widget-view+json": {
       "model_id": "185abe6bacbf4dc28af6a97f9d771604",
       "version_major": 2,
       "version_minor": 0
      },
      "text/plain": [
       "  0%|          | 0/59 [00:00<?, ?it/s]"
      ]
     },
     "metadata": {},
     "output_type": "display_data"
    },
    {
     "name": "stdout",
     "output_type": "stream",
     "text": [
      "{'eval_loss': 1.7864079475402832, 'eval_accuracy': 0.6890971039182283, 'eval_runtime': 8.8398, 'eval_samples_per_second': 132.809, 'eval_steps_per_second': 6.674, 'epoch': 33.67}\n",
      "{'loss': 0.2887, 'learning_rate': 4.331065759637189e-06, 'epoch': 34.01}\n"
     ]
    },
    {
     "data": {
      "application/vnd.jupyter.widget-view+json": {
       "model_id": "00cdd09b47ab4164be34ac93864437a2",
       "version_major": 2,
       "version_minor": 0
      },
      "text/plain": [
       "  0%|          | 0/59 [00:00<?, ?it/s]"
      ]
     },
     "metadata": {},
     "output_type": "display_data"
    },
    {
     "name": "stdout",
     "output_type": "stream",
     "text": [
      "{'eval_loss': 1.6525912284851074, 'eval_accuracy': 0.682282793867121, 'eval_runtime': 8.8263, 'eval_samples_per_second': 133.011, 'eval_steps_per_second': 6.685, 'epoch': 34.01}\n",
      "{'loss': 0.2588, 'learning_rate': 4.2743764172335604e-06, 'epoch': 34.35}\n"
     ]
    },
    {
     "data": {
      "application/vnd.jupyter.widget-view+json": {
       "model_id": "a2083914eb0a4302849871865ee4309f",
       "version_major": 2,
       "version_minor": 0
      },
      "text/plain": [
       "  0%|          | 0/59 [00:00<?, ?it/s]"
      ]
     },
     "metadata": {},
     "output_type": "display_data"
    },
    {
     "name": "stdout",
     "output_type": "stream",
     "text": [
      "{'eval_loss': 1.6449925899505615, 'eval_accuracy': 0.6916524701873935, 'eval_runtime': 8.8226, 'eval_samples_per_second': 133.068, 'eval_steps_per_second': 6.687, 'epoch': 34.35}\n",
      "{'loss': 0.2528, 'learning_rate': 4.217687074829933e-06, 'epoch': 34.69}\n"
     ]
    },
    {
     "data": {
      "application/vnd.jupyter.widget-view+json": {
       "model_id": "274ebcd93a224b98a530498da74fedde",
       "version_major": 2,
       "version_minor": 0
      },
      "text/plain": [
       "  0%|          | 0/59 [00:00<?, ?it/s]"
      ]
     },
     "metadata": {},
     "output_type": "display_data"
    },
    {
     "name": "stdout",
     "output_type": "stream",
     "text": [
      "{'eval_loss': 1.7785371541976929, 'eval_accuracy': 0.6899488926746167, 'eval_runtime': 8.8495, 'eval_samples_per_second': 132.663, 'eval_steps_per_second': 6.667, 'epoch': 34.69}\n",
      "{'loss': 0.2657, 'learning_rate': 4.160997732426304e-06, 'epoch': 35.03}\n"
     ]
    },
    {
     "data": {
      "application/vnd.jupyter.widget-view+json": {
       "model_id": "1fa5e2d495514837b1e11037c7fa539f",
       "version_major": 2,
       "version_minor": 0
      },
      "text/plain": [
       "  0%|          | 0/59 [00:00<?, ?it/s]"
      ]
     },
     "metadata": {},
     "output_type": "display_data"
    },
    {
     "name": "stdout",
     "output_type": "stream",
     "text": [
      "{'eval_loss': 1.8773852586746216, 'eval_accuracy': 0.6916524701873935, 'eval_runtime': 8.8345, 'eval_samples_per_second': 132.888, 'eval_steps_per_second': 6.678, 'epoch': 35.03}\n",
      "{'loss': 0.2724, 'learning_rate': 4.104308390022676e-06, 'epoch': 35.37}\n"
     ]
    },
    {
     "data": {
      "application/vnd.jupyter.widget-view+json": {
       "model_id": "1478b452bb1146199b5c2976ded39395",
       "version_major": 2,
       "version_minor": 0
      },
      "text/plain": [
       "  0%|          | 0/59 [00:00<?, ?it/s]"
      ]
     },
     "metadata": {},
     "output_type": "display_data"
    },
    {
     "name": "stdout",
     "output_type": "stream",
     "text": [
      "{'eval_loss': 1.7263232469558716, 'eval_accuracy': 0.6950596252129472, 'eval_runtime': 8.8306, 'eval_samples_per_second': 132.946, 'eval_steps_per_second': 6.681, 'epoch': 35.37}\n",
      "{'loss': 0.3069, 'learning_rate': 4.047619047619048e-06, 'epoch': 35.71}\n"
     ]
    },
    {
     "data": {
      "application/vnd.jupyter.widget-view+json": {
       "model_id": "f93c30d4b4f940cfa1fb9d167392e83c",
       "version_major": 2,
       "version_minor": 0
      },
      "text/plain": [
       "  0%|          | 0/59 [00:00<?, ?it/s]"
      ]
     },
     "metadata": {},
     "output_type": "display_data"
    },
    {
     "name": "stdout",
     "output_type": "stream",
     "text": [
      "{'eval_loss': 1.7375373840332031, 'eval_accuracy': 0.6873935264054515, 'eval_runtime': 8.8295, 'eval_samples_per_second': 132.964, 'eval_steps_per_second': 6.682, 'epoch': 35.71}\n",
      "{'loss': 0.2323, 'learning_rate': 3.99092970521542e-06, 'epoch': 36.05}\n"
     ]
    },
    {
     "data": {
      "application/vnd.jupyter.widget-view+json": {
       "model_id": "0f3451e2f887477e95570e1f11681f89",
       "version_major": 2,
       "version_minor": 0
      },
      "text/plain": [
       "  0%|          | 0/59 [00:00<?, ?it/s]"
      ]
     },
     "metadata": {},
     "output_type": "display_data"
    },
    {
     "name": "stdout",
     "output_type": "stream",
     "text": [
      "{'eval_loss': 1.8145283460617065, 'eval_accuracy': 0.6942078364565588, 'eval_runtime': 8.826, 'eval_samples_per_second': 133.016, 'eval_steps_per_second': 6.685, 'epoch': 36.05}\n",
      "{'loss': 0.2777, 'learning_rate': 3.934240362811791e-06, 'epoch': 36.39}\n"
     ]
    },
    {
     "data": {
      "application/vnd.jupyter.widget-view+json": {
       "model_id": "3414cbeadec9404eb580f1416d433ed0",
       "version_major": 2,
       "version_minor": 0
      },
      "text/plain": [
       "  0%|          | 0/59 [00:00<?, ?it/s]"
      ]
     },
     "metadata": {},
     "output_type": "display_data"
    },
    {
     "name": "stdout",
     "output_type": "stream",
     "text": [
      "{'eval_loss': 1.7846297025680542, 'eval_accuracy': 0.6873935264054515, 'eval_runtime': 8.8213, 'eval_samples_per_second': 133.087, 'eval_steps_per_second': 6.688, 'epoch': 36.39}\n",
      "{'loss': 0.303, 'learning_rate': 3.877551020408164e-06, 'epoch': 36.73}\n"
     ]
    },
    {
     "data": {
      "application/vnd.jupyter.widget-view+json": {
       "model_id": "ef0e071a0a4b46449e488467c54906de",
       "version_major": 2,
       "version_minor": 0
      },
      "text/plain": [
       "  0%|          | 0/59 [00:00<?, ?it/s]"
      ]
     },
     "metadata": {},
     "output_type": "display_data"
    },
    {
     "name": "stdout",
     "output_type": "stream",
     "text": [
      "{'eval_loss': 1.7898809909820557, 'eval_accuracy': 0.6899488926746167, 'eval_runtime': 8.8153, 'eval_samples_per_second': 133.178, 'eval_steps_per_second': 6.693, 'epoch': 36.73}\n",
      "{'loss': 0.233, 'learning_rate': 3.820861678004535e-06, 'epoch': 37.07}\n"
     ]
    },
    {
     "data": {
      "application/vnd.jupyter.widget-view+json": {
       "model_id": "f6b14082766f403c82f9e93fdbe4c6a1",
       "version_major": 2,
       "version_minor": 0
      },
      "text/plain": [
       "  0%|          | 0/59 [00:00<?, ?it/s]"
      ]
     },
     "metadata": {},
     "output_type": "display_data"
    },
    {
     "name": "stdout",
     "output_type": "stream",
     "text": [
      "{'eval_loss': 1.8816221952438354, 'eval_accuracy': 0.6890971039182283, 'eval_runtime': 8.9231, 'eval_samples_per_second': 131.568, 'eval_steps_per_second': 6.612, 'epoch': 37.07}\n",
      "{'loss': 0.2651, 'learning_rate': 3.7641723356009076e-06, 'epoch': 37.41}\n"
     ]
    },
    {
     "data": {
      "application/vnd.jupyter.widget-view+json": {
       "model_id": "d4617b9776b7422fbcd12e6fdb81cdc0",
       "version_major": 2,
       "version_minor": 0
      },
      "text/plain": [
       "  0%|          | 0/59 [00:00<?, ?it/s]"
      ]
     },
     "metadata": {},
     "output_type": "display_data"
    },
    {
     "name": "stdout",
     "output_type": "stream",
     "text": [
      "{'eval_loss': 1.8029980659484863, 'eval_accuracy': 0.6831345826235093, 'eval_runtime': 8.8458, 'eval_samples_per_second': 132.718, 'eval_steps_per_second': 6.67, 'epoch': 37.41}\n",
      "{'loss': 0.2349, 'learning_rate': 3.7074829931972796e-06, 'epoch': 37.76}\n"
     ]
    },
    {
     "data": {
      "application/vnd.jupyter.widget-view+json": {
       "model_id": "31c04ae7244b4772a8d8f1b5aa3f77c5",
       "version_major": 2,
       "version_minor": 0
      },
      "text/plain": [
       "  0%|          | 0/59 [00:00<?, ?it/s]"
      ]
     },
     "metadata": {},
     "output_type": "display_data"
    },
    {
     "name": "stdout",
     "output_type": "stream",
     "text": [
      "{'eval_loss': 1.84761381149292, 'eval_accuracy': 0.6848381601362862, 'eval_runtime': 9.035, 'eval_samples_per_second': 129.939, 'eval_steps_per_second': 6.53, 'epoch': 37.76}\n",
      "{'loss': 0.2444, 'learning_rate': 3.6507936507936507e-06, 'epoch': 38.1}\n"
     ]
    },
    {
     "data": {
      "application/vnd.jupyter.widget-view+json": {
       "model_id": "fd63f15239884d5c8819c5324c7c16d5",
       "version_major": 2,
       "version_minor": 0
      },
      "text/plain": [
       "  0%|          | 0/59 [00:00<?, ?it/s]"
      ]
     },
     "metadata": {},
     "output_type": "display_data"
    },
    {
     "name": "stdout",
     "output_type": "stream",
     "text": [
      "{'eval_loss': 1.8195586204528809, 'eval_accuracy': 0.6942078364565588, 'eval_runtime': 8.821, 'eval_samples_per_second': 133.092, 'eval_steps_per_second': 6.689, 'epoch': 38.1}\n",
      "{'loss': 0.2422, 'learning_rate': 3.594104308390023e-06, 'epoch': 38.44}\n"
     ]
    },
    {
     "data": {
      "application/vnd.jupyter.widget-view+json": {
       "model_id": "4cab86d287f440dfa888134edf69b2a1",
       "version_major": 2,
       "version_minor": 0
      },
      "text/plain": [
       "  0%|          | 0/59 [00:00<?, ?it/s]"
      ]
     },
     "metadata": {},
     "output_type": "display_data"
    },
    {
     "name": "stdout",
     "output_type": "stream",
     "text": [
      "{'eval_loss': 1.8688453435897827, 'eval_accuracy': 0.6839863713798978, 'eval_runtime': 8.9075, 'eval_samples_per_second': 131.798, 'eval_steps_per_second': 6.624, 'epoch': 38.44}\n",
      "{'loss': 0.2452, 'learning_rate': 3.537414965986395e-06, 'epoch': 38.78}\n"
     ]
    },
    {
     "data": {
      "application/vnd.jupyter.widget-view+json": {
       "model_id": "77e7d65e213f46c08893147eebe82cb2",
       "version_major": 2,
       "version_minor": 0
      },
      "text/plain": [
       "  0%|          | 0/59 [00:00<?, ?it/s]"
      ]
     },
     "metadata": {},
     "output_type": "display_data"
    },
    {
     "name": "stdout",
     "output_type": "stream",
     "text": [
      "{'eval_loss': 1.7751070261001587, 'eval_accuracy': 0.6899488926746167, 'eval_runtime': 8.0268, 'eval_samples_per_second': 146.26, 'eval_steps_per_second': 7.35, 'epoch': 38.78}\n",
      "{'loss': 0.2259, 'learning_rate': 3.480725623582767e-06, 'epoch': 39.12}\n"
     ]
    },
    {
     "data": {
      "application/vnd.jupyter.widget-view+json": {
       "model_id": "3b8bdd5b46e640ffa88b858bad7e7980",
       "version_major": 2,
       "version_minor": 0
      },
      "text/plain": [
       "  0%|          | 0/59 [00:00<?, ?it/s]"
      ]
     },
     "metadata": {},
     "output_type": "display_data"
    },
    {
     "name": "stdout",
     "output_type": "stream",
     "text": [
      "{'eval_loss': 1.9115121364593506, 'eval_accuracy': 0.6959114139693356, 'eval_runtime': 7.7798, 'eval_samples_per_second': 150.904, 'eval_steps_per_second': 7.584, 'epoch': 39.12}\n",
      "{'loss': 0.2855, 'learning_rate': 3.4240362811791385e-06, 'epoch': 39.46}\n"
     ]
    },
    {
     "data": {
      "application/vnd.jupyter.widget-view+json": {
       "model_id": "e24f0c77cd604201bf622e92ebdc43b8",
       "version_major": 2,
       "version_minor": 0
      },
      "text/plain": [
       "  0%|          | 0/59 [00:00<?, ?it/s]"
      ]
     },
     "metadata": {},
     "output_type": "display_data"
    },
    {
     "name": "stdout",
     "output_type": "stream",
     "text": [
      "{'eval_loss': 1.8439326286315918, 'eval_accuracy': 0.6890971039182283, 'eval_runtime': 7.7785, 'eval_samples_per_second': 150.928, 'eval_steps_per_second': 7.585, 'epoch': 39.46}\n",
      "{'loss': 0.2245, 'learning_rate': 3.3673469387755105e-06, 'epoch': 39.8}\n"
     ]
    },
    {
     "data": {
      "application/vnd.jupyter.widget-view+json": {
       "model_id": "9bc3390685714fc68f37064a3f8ab55a",
       "version_major": 2,
       "version_minor": 0
      },
      "text/plain": [
       "  0%|          | 0/59 [00:00<?, ?it/s]"
      ]
     },
     "metadata": {},
     "output_type": "display_data"
    },
    {
     "name": "stdout",
     "output_type": "stream",
     "text": [
      "{'eval_loss': 1.8690778017044067, 'eval_accuracy': 0.6882453151618398, 'eval_runtime': 7.7791, 'eval_samples_per_second': 150.917, 'eval_steps_per_second': 7.584, 'epoch': 39.8}\n",
      "{'loss': 0.2262, 'learning_rate': 3.3106575963718824e-06, 'epoch': 40.14}\n"
     ]
    },
    {
     "data": {
      "application/vnd.jupyter.widget-view+json": {
       "model_id": "a7ec49ba1a084ac4bfc7b756eb453cf8",
       "version_major": 2,
       "version_minor": 0
      },
      "text/plain": [
       "  0%|          | 0/59 [00:00<?, ?it/s]"
      ]
     },
     "metadata": {},
     "output_type": "display_data"
    },
    {
     "name": "stdout",
     "output_type": "stream",
     "text": [
      "{'eval_loss': 1.9039793014526367, 'eval_accuracy': 0.6899488926746167, 'eval_runtime': 7.7869, 'eval_samples_per_second': 150.767, 'eval_steps_per_second': 7.577, 'epoch': 40.14}\n",
      "{'loss': 0.2216, 'learning_rate': 3.2539682539682544e-06, 'epoch': 40.48}\n"
     ]
    },
    {
     "data": {
      "application/vnd.jupyter.widget-view+json": {
       "model_id": "9d8f47cface5453f9f610f43ae92c431",
       "version_major": 2,
       "version_minor": 0
      },
      "text/plain": [
       "  0%|          | 0/59 [00:00<?, ?it/s]"
      ]
     },
     "metadata": {},
     "output_type": "display_data"
    },
    {
     "name": "stdout",
     "output_type": "stream",
     "text": [
      "{'eval_loss': 1.889170527458191, 'eval_accuracy': 0.6882453151618398, 'eval_runtime': 7.7818, 'eval_samples_per_second': 150.864, 'eval_steps_per_second': 7.582, 'epoch': 40.48}\n",
      "{'loss': 0.2373, 'learning_rate': 3.1972789115646264e-06, 'epoch': 40.82}\n"
     ]
    },
    {
     "data": {
      "application/vnd.jupyter.widget-view+json": {
       "model_id": "83c8df0852074bf088f0b634b0208a4b",
       "version_major": 2,
       "version_minor": 0
      },
      "text/plain": [
       "  0%|          | 0/59 [00:00<?, ?it/s]"
      ]
     },
     "metadata": {},
     "output_type": "display_data"
    },
    {
     "name": "stdout",
     "output_type": "stream",
     "text": [
      "{'eval_loss': 1.9769617319107056, 'eval_accuracy': 0.6890971039182283, 'eval_runtime': 7.782, 'eval_samples_per_second': 150.86, 'eval_steps_per_second': 7.582, 'epoch': 40.82}\n",
      "{'loss': 0.2336, 'learning_rate': 3.140589569160998e-06, 'epoch': 41.16}\n"
     ]
    },
    {
     "data": {
      "application/vnd.jupyter.widget-view+json": {
       "model_id": "5effd56346dc4a90839da5720a10702c",
       "version_major": 2,
       "version_minor": 0
      },
      "text/plain": [
       "  0%|          | 0/59 [00:00<?, ?it/s]"
      ]
     },
     "metadata": {},
     "output_type": "display_data"
    },
    {
     "name": "stdout",
     "output_type": "stream",
     "text": [
      "{'eval_loss': 1.8897802829742432, 'eval_accuracy': 0.6831345826235093, 'eval_runtime': 7.7794, 'eval_samples_per_second': 150.911, 'eval_steps_per_second': 7.584, 'epoch': 41.16}\n",
      "{'loss': 0.2527, 'learning_rate': 3.08390022675737e-06, 'epoch': 41.5}\n"
     ]
    },
    {
     "data": {
      "application/vnd.jupyter.widget-view+json": {
       "model_id": "1d88ad3b3bba4ef08abe81c68528b79a",
       "version_major": 2,
       "version_minor": 0
      },
      "text/plain": [
       "  0%|          | 0/59 [00:00<?, ?it/s]"
      ]
     },
     "metadata": {},
     "output_type": "display_data"
    },
    {
     "name": "stdout",
     "output_type": "stream",
     "text": [
      "{'eval_loss': 1.8878791332244873, 'eval_accuracy': 0.682282793867121, 'eval_runtime': 7.7843, 'eval_samples_per_second': 150.816, 'eval_steps_per_second': 7.579, 'epoch': 41.5}\n",
      "{'loss': 0.1999, 'learning_rate': 3.027210884353742e-06, 'epoch': 41.84}\n"
     ]
    },
    {
     "data": {
      "application/vnd.jupyter.widget-view+json": {
       "model_id": "02832b34708242e0828257e1da9ed558",
       "version_major": 2,
       "version_minor": 0
      },
      "text/plain": [
       "  0%|          | 0/59 [00:00<?, ?it/s]"
      ]
     },
     "metadata": {},
     "output_type": "display_data"
    },
    {
     "name": "stdout",
     "output_type": "stream",
     "text": [
      "{'eval_loss': 2.0132381916046143, 'eval_accuracy': 0.6873935264054515, 'eval_runtime': 7.7835, 'eval_samples_per_second': 150.832, 'eval_steps_per_second': 7.58, 'epoch': 41.84}\n",
      "{'loss': 0.2369, 'learning_rate': 2.9705215419501138e-06, 'epoch': 42.18}\n"
     ]
    },
    {
     "data": {
      "application/vnd.jupyter.widget-view+json": {
       "model_id": "db893ea2916e4762a8c5bdcf986372d1",
       "version_major": 2,
       "version_minor": 0
      },
      "text/plain": [
       "  0%|          | 0/59 [00:00<?, ?it/s]"
      ]
     },
     "metadata": {},
     "output_type": "display_data"
    },
    {
     "name": "stdout",
     "output_type": "stream",
     "text": [
      "{'eval_loss': 1.94161856174469, 'eval_accuracy': 0.6856899488926746, 'eval_runtime': 7.7832, 'eval_samples_per_second': 150.839, 'eval_steps_per_second': 7.58, 'epoch': 42.18}\n",
      "{'loss': 0.2189, 'learning_rate': 2.9138321995464857e-06, 'epoch': 42.52}\n"
     ]
    },
    {
     "data": {
      "application/vnd.jupyter.widget-view+json": {
       "model_id": "f12f25e768be4713a7d08780a852793b",
       "version_major": 2,
       "version_minor": 0
      },
      "text/plain": [
       "  0%|          | 0/59 [00:00<?, ?it/s]"
      ]
     },
     "metadata": {},
     "output_type": "display_data"
    },
    {
     "name": "stdout",
     "output_type": "stream",
     "text": [
      "{'eval_loss': 1.8862117528915405, 'eval_accuracy': 0.6839863713798978, 'eval_runtime': 7.7719, 'eval_samples_per_second': 151.058, 'eval_steps_per_second': 7.591, 'epoch': 42.52}\n",
      "{'loss': 0.2371, 'learning_rate': 2.8571428571428573e-06, 'epoch': 42.86}\n"
     ]
    },
    {
     "data": {
      "application/vnd.jupyter.widget-view+json": {
       "model_id": "984d9a08d8ac408f9a92c073e5723b2e",
       "version_major": 2,
       "version_minor": 0
      },
      "text/plain": [
       "  0%|          | 0/59 [00:00<?, ?it/s]"
      ]
     },
     "metadata": {},
     "output_type": "display_data"
    },
    {
     "name": "stdout",
     "output_type": "stream",
     "text": [
      "{'eval_loss': 1.877908706665039, 'eval_accuracy': 0.6873935264054515, 'eval_runtime': 7.7858, 'eval_samples_per_second': 150.788, 'eval_steps_per_second': 7.578, 'epoch': 42.86}\n",
      "{'loss': 0.2438, 'learning_rate': 2.8004535147392292e-06, 'epoch': 43.2}\n"
     ]
    },
    {
     "data": {
      "application/vnd.jupyter.widget-view+json": {
       "model_id": "4d81e10de8f5433e8afd0f2eea59105b",
       "version_major": 2,
       "version_minor": 0
      },
      "text/plain": [
       "  0%|          | 0/59 [00:00<?, ?it/s]"
      ]
     },
     "metadata": {},
     "output_type": "display_data"
    },
    {
     "name": "stdout",
     "output_type": "stream",
     "text": [
      "{'eval_loss': 2.0885162353515625, 'eval_accuracy': 0.6848381601362862, 'eval_runtime': 7.7977, 'eval_samples_per_second': 150.558, 'eval_steps_per_second': 7.566, 'epoch': 43.2}\n",
      "{'loss': 0.2086, 'learning_rate': 2.743764172335601e-06, 'epoch': 43.54}\n"
     ]
    },
    {
     "data": {
      "application/vnd.jupyter.widget-view+json": {
       "model_id": "3a6a917c93a847269fce4b5c9c9d2b6a",
       "version_major": 2,
       "version_minor": 0
      },
      "text/plain": [
       "  0%|          | 0/59 [00:00<?, ?it/s]"
      ]
     },
     "metadata": {},
     "output_type": "display_data"
    },
    {
     "name": "stdout",
     "output_type": "stream",
     "text": [
      "{'eval_loss': 1.9156184196472168, 'eval_accuracy': 0.6839863713798978, 'eval_runtime': 7.7759, 'eval_samples_per_second': 150.979, 'eval_steps_per_second': 7.588, 'epoch': 43.54}\n",
      "{'loss': 0.2258, 'learning_rate': 2.687074829931973e-06, 'epoch': 43.88}\n"
     ]
    },
    {
     "data": {
      "application/vnd.jupyter.widget-view+json": {
       "model_id": "eb2728ae75bf4009a9f9bb4a5c34a6d5",
       "version_major": 2,
       "version_minor": 0
      },
      "text/plain": [
       "  0%|          | 0/59 [00:00<?, ?it/s]"
      ]
     },
     "metadata": {},
     "output_type": "display_data"
    },
    {
     "name": "stdout",
     "output_type": "stream",
     "text": [
      "{'eval_loss': 1.9788874387741089, 'eval_accuracy': 0.6873935264054515, 'eval_runtime': 7.7925, 'eval_samples_per_second': 150.658, 'eval_steps_per_second': 7.571, 'epoch': 43.88}\n",
      "{'loss': 0.2029, 'learning_rate': 2.6303854875283447e-06, 'epoch': 44.22}\n"
     ]
    },
    {
     "data": {
      "application/vnd.jupyter.widget-view+json": {
       "model_id": "98493056876f4a2fa7b506914bd0aa58",
       "version_major": 2,
       "version_minor": 0
      },
      "text/plain": [
       "  0%|          | 0/59 [00:00<?, ?it/s]"
      ]
     },
     "metadata": {},
     "output_type": "display_data"
    },
    {
     "name": "stdout",
     "output_type": "stream",
     "text": [
      "{'eval_loss': 1.9873929023742676, 'eval_accuracy': 0.6848381601362862, 'eval_runtime': 7.7827, 'eval_samples_per_second': 150.847, 'eval_steps_per_second': 7.581, 'epoch': 44.22}\n",
      "{'loss': 0.214, 'learning_rate': 2.5736961451247166e-06, 'epoch': 44.56}\n"
     ]
    },
    {
     "data": {
      "application/vnd.jupyter.widget-view+json": {
       "model_id": "d59b669bcc7d4ce4b73a11033aa80741",
       "version_major": 2,
       "version_minor": 0
      },
      "text/plain": [
       "  0%|          | 0/59 [00:00<?, ?it/s]"
      ]
     },
     "metadata": {},
     "output_type": "display_data"
    },
    {
     "name": "stdout",
     "output_type": "stream",
     "text": [
      "{'eval_loss': 1.9822638034820557, 'eval_accuracy': 0.6839863713798978, 'eval_runtime': 7.7748, 'eval_samples_per_second': 151.001, 'eval_steps_per_second': 7.589, 'epoch': 44.56}\n",
      "{'loss': 0.2254, 'learning_rate': 2.5170068027210886e-06, 'epoch': 44.9}\n"
     ]
    },
    {
     "data": {
      "application/vnd.jupyter.widget-view+json": {
       "model_id": "6cfc0f6971764e618b9083b73cac3795",
       "version_major": 2,
       "version_minor": 0
      },
      "text/plain": [
       "  0%|          | 0/59 [00:00<?, ?it/s]"
      ]
     },
     "metadata": {},
     "output_type": "display_data"
    },
    {
     "name": "stdout",
     "output_type": "stream",
     "text": [
      "{'eval_loss': 2.0536692142486572, 'eval_accuracy': 0.6933560477001703, 'eval_runtime': 7.7747, 'eval_samples_per_second': 151.002, 'eval_steps_per_second': 7.589, 'epoch': 44.9}\n",
      "{'loss': 0.2299, 'learning_rate': 2.4603174603174605e-06, 'epoch': 45.24}\n"
     ]
    },
    {
     "data": {
      "application/vnd.jupyter.widget-view+json": {
       "model_id": "5938f0b2ea04448d810f38642d69140f",
       "version_major": 2,
       "version_minor": 0
      },
      "text/plain": [
       "  0%|          | 0/59 [00:00<?, ?it/s]"
      ]
     },
     "metadata": {},
     "output_type": "display_data"
    },
    {
     "name": "stdout",
     "output_type": "stream",
     "text": [
      "{'eval_loss': 2.0488948822021484, 'eval_accuracy': 0.686541737649063, 'eval_runtime': 7.7798, 'eval_samples_per_second': 150.904, 'eval_steps_per_second': 7.584, 'epoch': 45.24}\n",
      "{'loss': 0.2319, 'learning_rate': 2.4036281179138325e-06, 'epoch': 45.58}\n"
     ]
    },
    {
     "data": {
      "application/vnd.jupyter.widget-view+json": {
       "model_id": "422e7bef681e4c2c9795dde1646ffe6c",
       "version_major": 2,
       "version_minor": 0
      },
      "text/plain": [
       "  0%|          | 0/59 [00:00<?, ?it/s]"
      ]
     },
     "metadata": {},
     "output_type": "display_data"
    },
    {
     "name": "stdout",
     "output_type": "stream",
     "text": [
      "{'eval_loss': 1.870308518409729, 'eval_accuracy': 0.6890971039182283, 'eval_runtime': 7.7948, 'eval_samples_per_second': 150.614, 'eval_steps_per_second': 7.569, 'epoch': 45.58}\n",
      "{'loss': 0.2044, 'learning_rate': 2.3469387755102044e-06, 'epoch': 45.92}\n"
     ]
    },
    {
     "data": {
      "application/vnd.jupyter.widget-view+json": {
       "model_id": "290185afc5fe4a059b226e99cab6fe60",
       "version_major": 2,
       "version_minor": 0
      },
      "text/plain": [
       "  0%|          | 0/59 [00:00<?, ?it/s]"
      ]
     },
     "metadata": {},
     "output_type": "display_data"
    },
    {
     "name": "stdout",
     "output_type": "stream",
     "text": [
      "{'eval_loss': 2.0841166973114014, 'eval_accuracy': 0.6908006814310051, 'eval_runtime': 7.782, 'eval_samples_per_second': 150.861, 'eval_steps_per_second': 7.582, 'epoch': 45.92}\n",
      "{'loss': 0.2443, 'learning_rate': 2.290249433106576e-06, 'epoch': 46.26}\n"
     ]
    },
    {
     "data": {
      "application/vnd.jupyter.widget-view+json": {
       "model_id": "0100d517392d4997b39986c27d54cc1e",
       "version_major": 2,
       "version_minor": 0
      },
      "text/plain": [
       "  0%|          | 0/59 [00:00<?, ?it/s]"
      ]
     },
     "metadata": {},
     "output_type": "display_data"
    },
    {
     "name": "stdout",
     "output_type": "stream",
     "text": [
      "{'eval_loss': 2.0569798946380615, 'eval_accuracy': 0.6873935264054515, 'eval_runtime': 7.7802, 'eval_samples_per_second': 150.895, 'eval_steps_per_second': 7.583, 'epoch': 46.26}\n",
      "{'loss': 0.2014, 'learning_rate': 2.233560090702948e-06, 'epoch': 46.6}\n"
     ]
    },
    {
     "data": {
      "application/vnd.jupyter.widget-view+json": {
       "model_id": "b3be4325294d4e04b1bc45feb49699bf",
       "version_major": 2,
       "version_minor": 0
      },
      "text/plain": [
       "  0%|          | 0/59 [00:00<?, ?it/s]"
      ]
     },
     "metadata": {},
     "output_type": "display_data"
    },
    {
     "name": "stdout",
     "output_type": "stream",
     "text": [
      "{'eval_loss': 1.994799017906189, 'eval_accuracy': 0.6856899488926746, 'eval_runtime': 7.7869, 'eval_samples_per_second': 150.767, 'eval_steps_per_second': 7.577, 'epoch': 46.6}\n",
      "{'loss': 0.1977, 'learning_rate': 2.17687074829932e-06, 'epoch': 46.94}\n"
     ]
    },
    {
     "data": {
      "application/vnd.jupyter.widget-view+json": {
       "model_id": "162ceb292a0744e3b2e699daa9f6d04e",
       "version_major": 2,
       "version_minor": 0
      },
      "text/plain": [
       "  0%|          | 0/59 [00:00<?, ?it/s]"
      ]
     },
     "metadata": {},
     "output_type": "display_data"
    },
    {
     "name": "stdout",
     "output_type": "stream",
     "text": [
      "{'eval_loss': 2.0522165298461914, 'eval_accuracy': 0.6899488926746167, 'eval_runtime': 7.7993, 'eval_samples_per_second': 150.527, 'eval_steps_per_second': 7.565, 'epoch': 46.94}\n",
      "{'loss': 0.2014, 'learning_rate': 2.120181405895692e-06, 'epoch': 47.28}\n"
     ]
    },
    {
     "data": {
      "application/vnd.jupyter.widget-view+json": {
       "model_id": "10dff1e92f484cd9a048c337370ed6c1",
       "version_major": 2,
       "version_minor": 0
      },
      "text/plain": [
       "  0%|          | 0/59 [00:00<?, ?it/s]"
      ]
     },
     "metadata": {},
     "output_type": "display_data"
    },
    {
     "name": "stdout",
     "output_type": "stream",
     "text": [
      "{'eval_loss': 2.0412685871124268, 'eval_accuracy': 0.6890971039182283, 'eval_runtime': 7.7874, 'eval_samples_per_second': 150.756, 'eval_steps_per_second': 7.576, 'epoch': 47.28}\n",
      "{'loss': 0.2055, 'learning_rate': 2.0634920634920634e-06, 'epoch': 47.62}\n"
     ]
    },
    {
     "data": {
      "application/vnd.jupyter.widget-view+json": {
       "model_id": "7dca8e540eab409ba18a1bae2b6be110",
       "version_major": 2,
       "version_minor": 0
      },
      "text/plain": [
       "  0%|          | 0/59 [00:00<?, ?it/s]"
      ]
     },
     "metadata": {},
     "output_type": "display_data"
    },
    {
     "name": "stdout",
     "output_type": "stream",
     "text": [
      "{'eval_loss': 2.042328357696533, 'eval_accuracy': 0.6839863713798978, 'eval_runtime': 7.7801, 'eval_samples_per_second': 150.898, 'eval_steps_per_second': 7.583, 'epoch': 47.62}\n",
      "{'loss': 0.1912, 'learning_rate': 2.0068027210884353e-06, 'epoch': 47.96}\n"
     ]
    },
    {
     "data": {
      "application/vnd.jupyter.widget-view+json": {
       "model_id": "a9cd89d9192e417ab195347f04341de4",
       "version_major": 2,
       "version_minor": 0
      },
      "text/plain": [
       "  0%|          | 0/59 [00:00<?, ?it/s]"
      ]
     },
     "metadata": {},
     "output_type": "display_data"
    },
    {
     "name": "stdout",
     "output_type": "stream",
     "text": [
      "{'eval_loss': 2.107511281967163, 'eval_accuracy': 0.6856899488926746, 'eval_runtime': 7.7958, 'eval_samples_per_second': 150.594, 'eval_steps_per_second': 7.568, 'epoch': 47.96}\n",
      "{'loss': 0.2345, 'learning_rate': 1.9501133786848077e-06, 'epoch': 48.3}\n"
     ]
    },
    {
     "data": {
      "application/vnd.jupyter.widget-view+json": {
       "model_id": "2a85d62ea76347958bba697aca43e157",
       "version_major": 2,
       "version_minor": 0
      },
      "text/plain": [
       "  0%|          | 0/59 [00:00<?, ?it/s]"
      ]
     },
     "metadata": {},
     "output_type": "display_data"
    },
    {
     "name": "stdout",
     "output_type": "stream",
     "text": [
      "{'eval_loss': 2.012479066848755, 'eval_accuracy': 0.6899488926746167, 'eval_runtime': 7.7842, 'eval_samples_per_second': 150.818, 'eval_steps_per_second': 7.579, 'epoch': 48.3}\n",
      "{'loss': 0.1875, 'learning_rate': 1.8934240362811793e-06, 'epoch': 48.64}\n"
     ]
    },
    {
     "data": {
      "application/vnd.jupyter.widget-view+json": {
       "model_id": "c3615f25e5d14c2ab7d1975f7bc8f673",
       "version_major": 2,
       "version_minor": 0
      },
      "text/plain": [
       "  0%|          | 0/59 [00:00<?, ?it/s]"
      ]
     },
     "metadata": {},
     "output_type": "display_data"
    },
    {
     "name": "stdout",
     "output_type": "stream",
     "text": [
      "{'eval_loss': 2.0275392532348633, 'eval_accuracy': 0.6873935264054515, 'eval_runtime': 7.7897, 'eval_samples_per_second': 150.712, 'eval_steps_per_second': 7.574, 'epoch': 48.64}\n",
      "{'loss': 0.2105, 'learning_rate': 1.8367346938775512e-06, 'epoch': 48.98}\n"
     ]
    },
    {
     "data": {
      "application/vnd.jupyter.widget-view+json": {
       "model_id": "bdf41771f2d347fe905d2ead6276028e",
       "version_major": 2,
       "version_minor": 0
      },
      "text/plain": [
       "  0%|          | 0/59 [00:00<?, ?it/s]"
      ]
     },
     "metadata": {},
     "output_type": "display_data"
    },
    {
     "name": "stdout",
     "output_type": "stream",
     "text": [
      "{'eval_loss': 2.0416462421417236, 'eval_accuracy': 0.6890971039182283, 'eval_runtime': 7.7872, 'eval_samples_per_second': 150.76, 'eval_steps_per_second': 7.577, 'epoch': 48.98}\n",
      "{'loss': 0.1907, 'learning_rate': 1.780045351473923e-06, 'epoch': 49.32}\n"
     ]
    },
    {
     "data": {
      "application/vnd.jupyter.widget-view+json": {
       "model_id": "1f6d578df71e4a6d92f0676c086810f5",
       "version_major": 2,
       "version_minor": 0
      },
      "text/plain": [
       "  0%|          | 0/59 [00:00<?, ?it/s]"
      ]
     },
     "metadata": {},
     "output_type": "display_data"
    },
    {
     "name": "stdout",
     "output_type": "stream",
     "text": [
      "{'eval_loss': 2.0454258918762207, 'eval_accuracy': 0.6814310051107325, 'eval_runtime': 7.7877, 'eval_samples_per_second': 150.751, 'eval_steps_per_second': 7.576, 'epoch': 49.32}\n",
      "{'loss': 0.1636, 'learning_rate': 1.723356009070295e-06, 'epoch': 49.66}\n"
     ]
    },
    {
     "data": {
      "application/vnd.jupyter.widget-view+json": {
       "model_id": "b512b19597bd4d939af04dc92be0aef6",
       "version_major": 2,
       "version_minor": 0
      },
      "text/plain": [
       "  0%|          | 0/59 [00:00<?, ?it/s]"
      ]
     },
     "metadata": {},
     "output_type": "display_data"
    },
    {
     "name": "stdout",
     "output_type": "stream",
     "text": [
      "{'eval_loss': 2.137787342071533, 'eval_accuracy': 0.6856899488926746, 'eval_runtime': 7.7899, 'eval_samples_per_second': 150.709, 'eval_steps_per_second': 7.574, 'epoch': 49.66}\n",
      "{'loss': 0.1813, 'learning_rate': 1.6666666666666667e-06, 'epoch': 50.0}\n"
     ]
    },
    {
     "data": {
      "application/vnd.jupyter.widget-view+json": {
       "model_id": "2c2720f228c440a1982ae9a1501305b2",
       "version_major": 2,
       "version_minor": 0
      },
      "text/plain": [
       "  0%|          | 0/59 [00:00<?, ?it/s]"
      ]
     },
     "metadata": {},
     "output_type": "display_data"
    },
    {
     "name": "stdout",
     "output_type": "stream",
     "text": [
      "{'eval_loss': 2.1073641777038574, 'eval_accuracy': 0.6882453151618398, 'eval_runtime': 7.7867, 'eval_samples_per_second': 150.769, 'eval_steps_per_second': 7.577, 'epoch': 50.0}\n",
      "{'loss': 0.1901, 'learning_rate': 1.6099773242630386e-06, 'epoch': 50.34}\n"
     ]
    },
    {
     "data": {
      "application/vnd.jupyter.widget-view+json": {
       "model_id": "95ac59c79d224cb691cdfc9f3a1ed4ea",
       "version_major": 2,
       "version_minor": 0
      },
      "text/plain": [
       "  0%|          | 0/59 [00:00<?, ?it/s]"
      ]
     },
     "metadata": {},
     "output_type": "display_data"
    },
    {
     "name": "stdout",
     "output_type": "stream",
     "text": [
      "{'eval_loss': 2.2206568717956543, 'eval_accuracy': 0.6873935264054515, 'eval_runtime': 7.7782, 'eval_samples_per_second': 150.934, 'eval_steps_per_second': 7.585, 'epoch': 50.34}\n",
      "{'loss': 0.2022, 'learning_rate': 1.5532879818594104e-06, 'epoch': 50.68}\n"
     ]
    },
    {
     "data": {
      "application/vnd.jupyter.widget-view+json": {
       "model_id": "c2660dd8f1ab4e559fbaccc1441ce6d1",
       "version_major": 2,
       "version_minor": 0
      },
      "text/plain": [
       "  0%|          | 0/59 [00:00<?, ?it/s]"
      ]
     },
     "metadata": {},
     "output_type": "display_data"
    },
    {
     "name": "stdout",
     "output_type": "stream",
     "text": [
      "{'eval_loss': 2.0551259517669678, 'eval_accuracy': 0.6882453151618398, 'eval_runtime': 7.7773, 'eval_samples_per_second': 150.951, 'eval_steps_per_second': 7.586, 'epoch': 50.68}\n",
      "{'loss': 0.1643, 'learning_rate': 1.4965986394557825e-06, 'epoch': 51.02}\n"
     ]
    },
    {
     "data": {
      "application/vnd.jupyter.widget-view+json": {
       "model_id": "69c9c22736c742c08f6b3fa28020ecc9",
       "version_major": 2,
       "version_minor": 0
      },
      "text/plain": [
       "  0%|          | 0/59 [00:00<?, ?it/s]"
      ]
     },
     "metadata": {},
     "output_type": "display_data"
    },
    {
     "name": "stdout",
     "output_type": "stream",
     "text": [
      "{'eval_loss': 2.0283398628234863, 'eval_accuracy': 0.6873935264054515, 'eval_runtime': 7.7765, 'eval_samples_per_second': 150.967, 'eval_steps_per_second': 7.587, 'epoch': 51.02}\n",
      "{'loss': 0.1765, 'learning_rate': 1.4399092970521545e-06, 'epoch': 51.36}\n"
     ]
    },
    {
     "data": {
      "application/vnd.jupyter.widget-view+json": {
       "model_id": "9e46c6d268444b8cb8af299ac6a25a11",
       "version_major": 2,
       "version_minor": 0
      },
      "text/plain": [
       "  0%|          | 0/59 [00:00<?, ?it/s]"
      ]
     },
     "metadata": {},
     "output_type": "display_data"
    },
    {
     "name": "stdout",
     "output_type": "stream",
     "text": [
      "{'eval_loss': 2.082364320755005, 'eval_accuracy': 0.6916524701873935, 'eval_runtime': 7.7739, 'eval_samples_per_second': 151.019, 'eval_steps_per_second': 7.59, 'epoch': 51.36}\n",
      "{'loss': 0.2136, 'learning_rate': 1.3832199546485262e-06, 'epoch': 51.7}\n"
     ]
    },
    {
     "data": {
      "application/vnd.jupyter.widget-view+json": {
       "model_id": "063f04deb7004323a95be924453f17e3",
       "version_major": 2,
       "version_minor": 0
      },
      "text/plain": [
       "  0%|          | 0/59 [00:00<?, ?it/s]"
      ]
     },
     "metadata": {},
     "output_type": "display_data"
    },
    {
     "name": "stdout",
     "output_type": "stream",
     "text": [
      "{'eval_loss': 2.0350122451782227, 'eval_accuracy': 0.6831345826235093, 'eval_runtime': 7.7667, 'eval_samples_per_second': 151.158, 'eval_steps_per_second': 7.597, 'epoch': 51.7}\n",
      "{'loss': 0.173, 'learning_rate': 1.3265306122448982e-06, 'epoch': 52.04}\n"
     ]
    },
    {
     "data": {
      "application/vnd.jupyter.widget-view+json": {
       "model_id": "c300d7d8e7b24c638d5e7b98ef0b4b91",
       "version_major": 2,
       "version_minor": 0
      },
      "text/plain": [
       "  0%|          | 0/59 [00:00<?, ?it/s]"
      ]
     },
     "metadata": {},
     "output_type": "display_data"
    },
    {
     "name": "stdout",
     "output_type": "stream",
     "text": [
      "{'eval_loss': 2.147618532180786, 'eval_accuracy': 0.6856899488926746, 'eval_runtime': 7.765, 'eval_samples_per_second': 151.192, 'eval_steps_per_second': 7.598, 'epoch': 52.04}\n",
      "{'loss': 0.1462, 'learning_rate': 1.26984126984127e-06, 'epoch': 52.38}\n"
     ]
    },
    {
     "data": {
      "application/vnd.jupyter.widget-view+json": {
       "model_id": "aa22551edafc4886b8223a66a0e7de7b",
       "version_major": 2,
       "version_minor": 0
      },
      "text/plain": [
       "  0%|          | 0/59 [00:00<?, ?it/s]"
      ]
     },
     "metadata": {},
     "output_type": "display_data"
    },
    {
     "name": "stdout",
     "output_type": "stream",
     "text": [
      "{'eval_loss': 2.1571784019470215, 'eval_accuracy': 0.6899488926746167, 'eval_runtime': 7.7794, 'eval_samples_per_second': 150.912, 'eval_steps_per_second': 7.584, 'epoch': 52.38}\n",
      "{'loss': 0.1776, 'learning_rate': 1.213151927437642e-06, 'epoch': 52.72}\n"
     ]
    },
    {
     "data": {
      "application/vnd.jupyter.widget-view+json": {
       "model_id": "3a752cdef3b141d3a71fb7480dcd84a0",
       "version_major": 2,
       "version_minor": 0
      },
      "text/plain": [
       "  0%|          | 0/59 [00:00<?, ?it/s]"
      ]
     },
     "metadata": {},
     "output_type": "display_data"
    },
    {
     "name": "stdout",
     "output_type": "stream",
     "text": [
      "{'eval_loss': 2.0960428714752197, 'eval_accuracy': 0.6839863713798978, 'eval_runtime': 7.7796, 'eval_samples_per_second': 150.908, 'eval_steps_per_second': 7.584, 'epoch': 52.72}\n",
      "{'loss': 0.209, 'learning_rate': 1.1564625850340136e-06, 'epoch': 53.06}\n"
     ]
    },
    {
     "data": {
      "application/vnd.jupyter.widget-view+json": {
       "model_id": "ab377490fe334dc29dd084ad6dac78aa",
       "version_major": 2,
       "version_minor": 0
      },
      "text/plain": [
       "  0%|          | 0/59 [00:00<?, ?it/s]"
      ]
     },
     "metadata": {},
     "output_type": "display_data"
    },
    {
     "name": "stdout",
     "output_type": "stream",
     "text": [
      "{'eval_loss': 2.098731279373169, 'eval_accuracy': 0.6908006814310051, 'eval_runtime': 7.7808, 'eval_samples_per_second': 150.884, 'eval_steps_per_second': 7.583, 'epoch': 53.06}\n",
      "{'loss': 0.1619, 'learning_rate': 1.0997732426303856e-06, 'epoch': 53.4}\n"
     ]
    },
    {
     "data": {
      "application/vnd.jupyter.widget-view+json": {
       "model_id": "0d9da8edcb5b4e30984d020bd29dc8ed",
       "version_major": 2,
       "version_minor": 0
      },
      "text/plain": [
       "  0%|          | 0/59 [00:00<?, ?it/s]"
      ]
     },
     "metadata": {},
     "output_type": "display_data"
    },
    {
     "name": "stdout",
     "output_type": "stream",
     "text": [
      "{'eval_loss': 2.1286892890930176, 'eval_accuracy': 0.6839863713798978, 'eval_runtime': 7.7774, 'eval_samples_per_second': 150.949, 'eval_steps_per_second': 7.586, 'epoch': 53.4}\n",
      "{'loss': 0.1805, 'learning_rate': 1.0430839002267576e-06, 'epoch': 53.74}\n"
     ]
    },
    {
     "data": {
      "application/vnd.jupyter.widget-view+json": {
       "model_id": "850d351aabd846c5b3df191a14b53a23",
       "version_major": 2,
       "version_minor": 0
      },
      "text/plain": [
       "  0%|          | 0/59 [00:00<?, ?it/s]"
      ]
     },
     "metadata": {},
     "output_type": "display_data"
    },
    {
     "name": "stdout",
     "output_type": "stream",
     "text": [
      "{'eval_loss': 2.175041675567627, 'eval_accuracy': 0.6890971039182283, 'eval_runtime': 7.7699, 'eval_samples_per_second': 151.096, 'eval_steps_per_second': 7.593, 'epoch': 53.74}\n",
      "{'loss': 0.1744, 'learning_rate': 9.863945578231293e-07, 'epoch': 54.08}\n"
     ]
    },
    {
     "data": {
      "application/vnd.jupyter.widget-view+json": {
       "model_id": "55527dca9cdd4726b9b3b5d0134e64e5",
       "version_major": 2,
       "version_minor": 0
      },
      "text/plain": [
       "  0%|          | 0/59 [00:00<?, ?it/s]"
      ]
     },
     "metadata": {},
     "output_type": "display_data"
    },
    {
     "name": "stdout",
     "output_type": "stream",
     "text": [
      "{'eval_loss': 2.1566169261932373, 'eval_accuracy': 0.6899488926746167, 'eval_runtime': 7.78, 'eval_samples_per_second': 150.9, 'eval_steps_per_second': 7.584, 'epoch': 54.08}\n",
      "{'loss': 0.1741, 'learning_rate': 9.297052154195012e-07, 'epoch': 54.42}\n"
     ]
    },
    {
     "data": {
      "application/vnd.jupyter.widget-view+json": {
       "model_id": "bcfd8baa31e14e7c8a10580e53821870",
       "version_major": 2,
       "version_minor": 0
      },
      "text/plain": [
       "  0%|          | 0/59 [00:00<?, ?it/s]"
      ]
     },
     "metadata": {},
     "output_type": "display_data"
    },
    {
     "name": "stdout",
     "output_type": "stream",
     "text": [
      "{'eval_loss': 2.1265811920166016, 'eval_accuracy': 0.6839863713798978, 'eval_runtime': 7.7776, 'eval_samples_per_second': 150.947, 'eval_steps_per_second': 7.586, 'epoch': 54.42}\n",
      "{'loss': 0.1835, 'learning_rate': 8.73015873015873e-07, 'epoch': 54.76}\n"
     ]
    },
    {
     "data": {
      "application/vnd.jupyter.widget-view+json": {
       "model_id": "f175a945c7a34d37bdd7169563a9a782",
       "version_major": 2,
       "version_minor": 0
      },
      "text/plain": [
       "  0%|          | 0/59 [00:00<?, ?it/s]"
      ]
     },
     "metadata": {},
     "output_type": "display_data"
    },
    {
     "name": "stdout",
     "output_type": "stream",
     "text": [
      "{'eval_loss': 2.130540132522583, 'eval_accuracy': 0.682282793867121, 'eval_runtime': 7.7676, 'eval_samples_per_second': 151.14, 'eval_steps_per_second': 7.596, 'epoch': 54.76}\n",
      "{'loss': 0.1527, 'learning_rate': 8.163265306122449e-07, 'epoch': 55.1}\n"
     ]
    },
    {
     "data": {
      "application/vnd.jupyter.widget-view+json": {
       "model_id": "361c44f6a0ef485b9f9767577c388700",
       "version_major": 2,
       "version_minor": 0
      },
      "text/plain": [
       "  0%|          | 0/59 [00:00<?, ?it/s]"
      ]
     },
     "metadata": {},
     "output_type": "display_data"
    },
    {
     "name": "stdout",
     "output_type": "stream",
     "text": [
      "{'eval_loss': 2.166567087173462, 'eval_accuracy': 0.682282793867121, 'eval_runtime': 7.7698, 'eval_samples_per_second': 151.098, 'eval_steps_per_second': 7.593, 'epoch': 55.1}\n",
      "{'loss': 0.1663, 'learning_rate': 7.596371882086169e-07, 'epoch': 55.44}\n"
     ]
    },
    {
     "data": {
      "application/vnd.jupyter.widget-view+json": {
       "model_id": "288780c8e69d48c49547b9c601edbafa",
       "version_major": 2,
       "version_minor": 0
      },
      "text/plain": [
       "  0%|          | 0/59 [00:00<?, ?it/s]"
      ]
     },
     "metadata": {},
     "output_type": "display_data"
    },
    {
     "name": "stdout",
     "output_type": "stream",
     "text": [
      "{'eval_loss': 2.1699392795562744, 'eval_accuracy': 0.6831345826235093, 'eval_runtime': 7.7756, 'eval_samples_per_second': 150.985, 'eval_steps_per_second': 7.588, 'epoch': 55.44}\n",
      "{'loss': 0.1548, 'learning_rate': 7.029478458049888e-07, 'epoch': 55.78}\n"
     ]
    },
    {
     "data": {
      "application/vnd.jupyter.widget-view+json": {
       "model_id": "36dec5c926024837b18041228510c8e0",
       "version_major": 2,
       "version_minor": 0
      },
      "text/plain": [
       "  0%|          | 0/59 [00:00<?, ?it/s]"
      ]
     },
     "metadata": {},
     "output_type": "display_data"
    },
    {
     "name": "stdout",
     "output_type": "stream",
     "text": [
      "{'eval_loss': 2.180668592453003, 'eval_accuracy': 0.6848381601362862, 'eval_runtime': 7.7681, 'eval_samples_per_second': 151.13, 'eval_steps_per_second': 7.595, 'epoch': 55.78}\n",
      "{'loss': 0.1988, 'learning_rate': 6.462585034013606e-07, 'epoch': 56.12}\n"
     ]
    },
    {
     "data": {
      "application/vnd.jupyter.widget-view+json": {
       "model_id": "6e7fb470b63f4771854281b829345197",
       "version_major": 2,
       "version_minor": 0
      },
      "text/plain": [
       "  0%|          | 0/59 [00:00<?, ?it/s]"
      ]
     },
     "metadata": {},
     "output_type": "display_data"
    },
    {
     "name": "stdout",
     "output_type": "stream",
     "text": [
      "{'eval_loss': 2.1633148193359375, 'eval_accuracy': 0.6856899488926746, 'eval_runtime': 7.7765, 'eval_samples_per_second': 150.967, 'eval_steps_per_second': 7.587, 'epoch': 56.12}\n",
      "{'loss': 0.1728, 'learning_rate': 5.895691609977325e-07, 'epoch': 56.46}\n"
     ]
    },
    {
     "data": {
      "application/vnd.jupyter.widget-view+json": {
       "model_id": "270656baf1e1439b80285b6f616e60b3",
       "version_major": 2,
       "version_minor": 0
      },
      "text/plain": [
       "  0%|          | 0/59 [00:00<?, ?it/s]"
      ]
     },
     "metadata": {},
     "output_type": "display_data"
    },
    {
     "name": "stdout",
     "output_type": "stream",
     "text": [
      "{'eval_loss': 2.1585657596588135, 'eval_accuracy': 0.6890971039182283, 'eval_runtime': 7.7851, 'eval_samples_per_second': 150.801, 'eval_steps_per_second': 7.579, 'epoch': 56.46}\n",
      "{'loss': 0.174, 'learning_rate': 5.328798185941043e-07, 'epoch': 56.8}\n"
     ]
    },
    {
     "data": {
      "application/vnd.jupyter.widget-view+json": {
       "model_id": "0a20ea3321774490b7dfe9889b90c5a7",
       "version_major": 2,
       "version_minor": 0
      },
      "text/plain": [
       "  0%|          | 0/59 [00:00<?, ?it/s]"
      ]
     },
     "metadata": {},
     "output_type": "display_data"
    },
    {
     "name": "stdout",
     "output_type": "stream",
     "text": [
      "{'eval_loss': 2.1340548992156982, 'eval_accuracy': 0.6882453151618398, 'eval_runtime': 7.7743, 'eval_samples_per_second': 151.01, 'eval_steps_per_second': 7.589, 'epoch': 56.8}\n",
      "{'loss': 0.1642, 'learning_rate': 4.7619047619047623e-07, 'epoch': 57.14}\n"
     ]
    },
    {
     "data": {
      "application/vnd.jupyter.widget-view+json": {
       "model_id": "b1f4b331edba4aaab0937291b5676b09",
       "version_major": 2,
       "version_minor": 0
      },
      "text/plain": [
       "  0%|          | 0/59 [00:00<?, ?it/s]"
      ]
     },
     "metadata": {},
     "output_type": "display_data"
    },
    {
     "name": "stdout",
     "output_type": "stream",
     "text": [
      "{'eval_loss': 2.1381919384002686, 'eval_accuracy': 0.6908006814310051, 'eval_runtime': 7.7768, 'eval_samples_per_second': 150.963, 'eval_steps_per_second': 7.587, 'epoch': 57.14}\n",
      "{'loss': 0.129, 'learning_rate': 4.1950113378684813e-07, 'epoch': 57.48}\n"
     ]
    },
    {
     "data": {
      "application/vnd.jupyter.widget-view+json": {
       "model_id": "5855c25626bc44c29544916a72238fd1",
       "version_major": 2,
       "version_minor": 0
      },
      "text/plain": [
       "  0%|          | 0/59 [00:00<?, ?it/s]"
      ]
     },
     "metadata": {},
     "output_type": "display_data"
    },
    {
     "name": "stdout",
     "output_type": "stream",
     "text": [
      "{'eval_loss': 2.157128095626831, 'eval_accuracy': 0.6848381601362862, 'eval_runtime': 7.7708, 'eval_samples_per_second': 151.078, 'eval_steps_per_second': 7.593, 'epoch': 57.48}\n",
      "{'loss': 0.1729, 'learning_rate': 3.6281179138322e-07, 'epoch': 57.82}\n"
     ]
    },
    {
     "data": {
      "application/vnd.jupyter.widget-view+json": {
       "model_id": "931f6e97b3a141ef96ec6829931482fd",
       "version_major": 2,
       "version_minor": 0
      },
      "text/plain": [
       "  0%|          | 0/59 [00:00<?, ?it/s]"
      ]
     },
     "metadata": {},
     "output_type": "display_data"
    },
    {
     "name": "stdout",
     "output_type": "stream",
     "text": [
      "{'eval_loss': 2.1787683963775635, 'eval_accuracy': 0.686541737649063, 'eval_runtime': 7.7672, 'eval_samples_per_second': 151.148, 'eval_steps_per_second': 7.596, 'epoch': 57.82}\n",
      "{'loss': 0.1561, 'learning_rate': 3.0612244897959183e-07, 'epoch': 58.16}\n"
     ]
    },
    {
     "data": {
      "application/vnd.jupyter.widget-view+json": {
       "model_id": "2950c11fb79b42878f4ec8c28d4337f9",
       "version_major": 2,
       "version_minor": 0
      },
      "text/plain": [
       "  0%|          | 0/59 [00:00<?, ?it/s]"
      ]
     },
     "metadata": {},
     "output_type": "display_data"
    },
    {
     "name": "stdout",
     "output_type": "stream",
     "text": [
      "{'eval_loss': 2.1599349975585938, 'eval_accuracy': 0.686541737649063, 'eval_runtime': 7.7819, 'eval_samples_per_second': 150.862, 'eval_steps_per_second': 7.582, 'epoch': 58.16}\n",
      "{'loss': 0.1669, 'learning_rate': 2.4943310657596374e-07, 'epoch': 58.5}\n"
     ]
    },
    {
     "data": {
      "application/vnd.jupyter.widget-view+json": {
       "model_id": "542a4a360cd3477bbaedec04ecb3734a",
       "version_major": 2,
       "version_minor": 0
      },
      "text/plain": [
       "  0%|          | 0/59 [00:00<?, ?it/s]"
      ]
     },
     "metadata": {},
     "output_type": "display_data"
    },
    {
     "name": "stdout",
     "output_type": "stream",
     "text": [
      "{'eval_loss': 2.1553409099578857, 'eval_accuracy': 0.686541737649063, 'eval_runtime': 7.7712, 'eval_samples_per_second': 151.07, 'eval_steps_per_second': 7.592, 'epoch': 58.5}\n",
      "{'loss': 0.1519, 'learning_rate': 1.9274376417233562e-07, 'epoch': 58.84}\n"
     ]
    },
    {
     "data": {
      "application/vnd.jupyter.widget-view+json": {
       "model_id": "67af81c40c104aaf8902859c8368b956",
       "version_major": 2,
       "version_minor": 0
      },
      "text/plain": [
       "  0%|          | 0/59 [00:00<?, ?it/s]"
      ]
     },
     "metadata": {},
     "output_type": "display_data"
    },
    {
     "name": "stdout",
     "output_type": "stream",
     "text": [
      "{'eval_loss': 2.166388511657715, 'eval_accuracy': 0.682282793867121, 'eval_runtime': 7.7709, 'eval_samples_per_second': 151.076, 'eval_steps_per_second': 7.592, 'epoch': 58.84}\n",
      "{'loss': 0.1696, 'learning_rate': 1.360544217687075e-07, 'epoch': 59.18}\n"
     ]
    },
    {
     "data": {
      "application/vnd.jupyter.widget-view+json": {
       "model_id": "9a558ba5c841410aaa8be0c494ecfd0a",
       "version_major": 2,
       "version_minor": 0
      },
      "text/plain": [
       "  0%|          | 0/59 [00:00<?, ?it/s]"
      ]
     },
     "metadata": {},
     "output_type": "display_data"
    },
    {
     "name": "stdout",
     "output_type": "stream",
     "text": [
      "{'eval_loss': 2.160620927810669, 'eval_accuracy': 0.6848381601362862, 'eval_runtime': 7.7643, 'eval_samples_per_second': 151.205, 'eval_steps_per_second': 7.599, 'epoch': 59.18}\n",
      "{'loss': 0.152, 'learning_rate': 7.936507936507937e-08, 'epoch': 59.52}\n"
     ]
    },
    {
     "data": {
      "application/vnd.jupyter.widget-view+json": {
       "model_id": "33ff12330c8b43358988b6ae471c7174",
       "version_major": 2,
       "version_minor": 0
      },
      "text/plain": [
       "  0%|          | 0/59 [00:00<?, ?it/s]"
      ]
     },
     "metadata": {},
     "output_type": "display_data"
    },
    {
     "name": "stdout",
     "output_type": "stream",
     "text": [
      "{'eval_loss': 2.1539855003356934, 'eval_accuracy': 0.6882453151618398, 'eval_runtime': 7.7705, 'eval_samples_per_second': 151.085, 'eval_steps_per_second': 7.593, 'epoch': 59.52}\n",
      "{'loss': 0.1504, 'learning_rate': 2.267573696145125e-08, 'epoch': 59.86}\n"
     ]
    },
    {
     "data": {
      "application/vnd.jupyter.widget-view+json": {
       "model_id": "4bb8e34032c749a9be7bec230f982f42",
       "version_major": 2,
       "version_minor": 0
      },
      "text/plain": [
       "  0%|          | 0/59 [00:00<?, ?it/s]"
      ]
     },
     "metadata": {},
     "output_type": "display_data"
    },
    {
     "name": "stdout",
     "output_type": "stream",
     "text": [
      "{'eval_loss': 2.1621804237365723, 'eval_accuracy': 0.6873935264054515, 'eval_runtime': 7.7695, 'eval_samples_per_second': 151.103, 'eval_steps_per_second': 7.594, 'epoch': 59.86}\n",
      "{'train_runtime': 2768.6686, 'train_samples_per_second': 101.702, 'train_steps_per_second': 6.371, 'train_loss': 0.4230042343236962, 'epoch': 60.0}\n"
     ]
    },
    {
     "data": {
      "text/plain": [
       "TrainOutput(global_step=17640, training_loss=0.4230042343236962, metrics={'train_runtime': 2768.6686, 'train_samples_per_second': 101.702, 'train_steps_per_second': 6.371, 'train_loss': 0.4230042343236962, 'epoch': 60.0})"
      ]
     },
     "execution_count": 45,
     "metadata": {},
     "output_type": "execute_result"
    }
   ],
   "source": [
    "trainer.train()"
   ]
  },
  {
   "cell_type": "code",
   "execution_count": 48,
   "metadata": {},
   "outputs": [
    {
     "data": {
      "application/vnd.jupyter.widget-view+json": {
       "model_id": "5f3122754dba4538bf6b327719127d9d",
       "version_major": 2,
       "version_minor": 0
      },
      "text/plain": [
       "  0%|          | 0/59 [00:00<?, ?it/s]"
      ]
     },
     "metadata": {},
     "output_type": "display_data"
    },
    {
     "data": {
      "text/plain": [
       "{'eval_loss': 1.0119701623916626,\n",
       " 'eval_accuracy': 0.6081771720613288,\n",
       " 'eval_runtime': 10.3505,\n",
       " 'eval_samples_per_second': 113.425,\n",
       " 'eval_steps_per_second': 5.7,\n",
       " 'epoch': 60.0}"
      ]
     },
     "execution_count": 48,
     "metadata": {},
     "output_type": "execute_result"
    }
   ],
   "source": [
    "trainer.evaluate()"
   ]
  },
  {
   "cell_type": "code",
   "execution_count": 46,
   "metadata": {},
   "outputs": [],
   "source": [
    "model.save_pretrained(\"BERT_sentimet_model_long_train\")"
   ]
  },
  {
   "cell_type": "code",
   "execution_count": 46,
   "metadata": {},
   "outputs": [],
   "source": [
    "classifier = pipeline(\"text-classification\", model=model, tokenizer=tokenizer, device=0, truncation=True, max_length =  512)"
   ]
  },
  {
   "cell_type": "code",
   "execution_count": 47,
   "metadata": {},
   "outputs": [],
   "source": [
    "res = []\n",
    "\n",
    "for out in classifier(test_df['MessageText'].to_list()):\n",
    "    res += [out]"
   ]
  },
  {
   "cell_type": "code",
   "execution_count": 48,
   "metadata": {},
   "outputs": [],
   "source": [
    "test_df['dp_rubert_pred'] = [x['label'] for x in res]\n",
    "test_df['dp_rubert_score'] = [x['score'] for x in res]"
   ]
  },
  {
   "cell_type": "code",
   "execution_count": 49,
   "metadata": {},
   "outputs": [
    {
     "data": {
      "text/html": [
       "<div>\n",
       "<style scoped>\n",
       "    .dataframe tbody tr th:only-of-type {\n",
       "        vertical-align: middle;\n",
       "    }\n",
       "\n",
       "    .dataframe tbody tr th {\n",
       "        vertical-align: top;\n",
       "    }\n",
       "\n",
       "    .dataframe thead th {\n",
       "        text-align: right;\n",
       "    }\n",
       "</style>\n",
       "<table border=\"1\" class=\"dataframe\">\n",
       "  <thead>\n",
       "    <tr style=\"text-align: right;\">\n",
       "      <th></th>\n",
       "      <th>MessageText</th>\n",
       "      <th>label</th>\n",
       "      <th>name</th>\n",
       "      <th>dp_rubert_pred</th>\n",
       "      <th>dp_rubert_score</th>\n",
       "    </tr>\n",
       "  </thead>\n",
       "  <tbody>\n",
       "    <tr>\n",
       "      <th>6756</th>\n",
       "      <td>Взгляд на сектор: Цены на платину и палладий с...</td>\n",
       "      <td>1</td>\n",
       "      <td>Публичное акционерное общество \"Горно-металлур...</td>\n",
       "      <td>2</td>\n",
       "      <td>0.635614</td>\n",
       "    </tr>\n",
       "    <tr>\n",
       "      <th>5613</th>\n",
       "      <td>🛴 Whoosh отчитался за 9 месяцев. Рост налицо  ...</td>\n",
       "      <td>3</td>\n",
       "      <td>Публичное акционерное общество \"ВУШ Холдинг\"\\n</td>\n",
       "      <td>4</td>\n",
       "      <td>0.885100</td>\n",
       "    </tr>\n",
       "    <tr>\n",
       "      <th>4737</th>\n",
       "      <td>❗️🇷🇺#VTBR #дивиденд 26 мая -  ВТБ - сд рассмот...</td>\n",
       "      <td>2</td>\n",
       "      <td>Банк ВТБ (публичное акционерное общество)</td>\n",
       "      <td>3</td>\n",
       "      <td>0.707856</td>\n",
       "    </tr>\n",
       "    <tr>\n",
       "      <th>6381</th>\n",
       "      <td>📊 ПАО «Распадская» Тикер: RASP Идея: Long ⬆️ С...</td>\n",
       "      <td>4</td>\n",
       "      <td>Публичное акционерное общество \"Распадская\"</td>\n",
       "      <td>5</td>\n",
       "      <td>0.797730</td>\n",
       "    </tr>\n",
       "    <tr>\n",
       "      <th>321</th>\n",
       "      <td>Новости компаний — обзоры прессы перед открыти...</td>\n",
       "      <td>2</td>\n",
       "      <td>-1</td>\n",
       "      <td>2</td>\n",
       "      <td>0.872953</td>\n",
       "    </tr>\n",
       "    <tr>\n",
       "      <th>...</th>\n",
       "      <td>...</td>\n",
       "      <td>...</td>\n",
       "      <td>...</td>\n",
       "      <td>...</td>\n",
       "      <td>...</td>\n",
       "    </tr>\n",
       "    <tr>\n",
       "      <th>2234</th>\n",
       "      <td>#ЦБРФ #MOEX 🏦 ЦБ РФ и Мосбиржа думают, как изб...</td>\n",
       "      <td>2</td>\n",
       "      <td>Публичное акционерное общество \"Московская Бир...</td>\n",
       "      <td>2</td>\n",
       "      <td>0.583424</td>\n",
       "    </tr>\n",
       "    <tr>\n",
       "      <th>4264</th>\n",
       "      <td>🛢🇷🇺#NVTK  НОВАТЭК изучает увеличение перевалки...</td>\n",
       "      <td>3</td>\n",
       "      <td>публичное акционерное общество \"НОВАТЭК\"</td>\n",
       "      <td>4</td>\n",
       "      <td>0.913807</td>\n",
       "    </tr>\n",
       "    <tr>\n",
       "      <th>923</th>\n",
       "      <td>Главное к открытию вторника (30.05): #брифинг ...</td>\n",
       "      <td>2</td>\n",
       "      <td>Полиметалл Интернэшнл плс (Polymetal Internati...</td>\n",
       "      <td>2</td>\n",
       "      <td>0.781061</td>\n",
       "    </tr>\n",
       "    <tr>\n",
       "      <th>3502</th>\n",
       "      <td>\"????????#GAZP #СП2 #keepcalm  Глава совдира \"...</td>\n",
       "      <td>2</td>\n",
       "      <td>-1</td>\n",
       "      <td>3</td>\n",
       "      <td>0.693020</td>\n",
       "    </tr>\n",
       "    <tr>\n",
       "      <th>6415</th>\n",
       "      <td>📊 ПАО «ММК» Тикер: MAGN Идея: Long ⬆️ Срок иде...</td>\n",
       "      <td>4</td>\n",
       "      <td>Публичное акционерное общество \"Магнитогорский...</td>\n",
       "      <td>5</td>\n",
       "      <td>0.909427</td>\n",
       "    </tr>\n",
       "  </tbody>\n",
       "</table>\n",
       "<p>1174 rows × 5 columns</p>\n",
       "</div>"
      ],
      "text/plain": [
       "                                            MessageText  label  \\\n",
       "6756  Взгляд на сектор: Цены на платину и палладий с...      1   \n",
       "5613  🛴 Whoosh отчитался за 9 месяцев. Рост налицо  ...      3   \n",
       "4737  ❗️🇷🇺#VTBR #дивиденд 26 мая -  ВТБ - сд рассмот...      2   \n",
       "6381  📊 ПАО «Распадская» Тикер: RASP Идея: Long ⬆️ С...      4   \n",
       "321   Новости компаний — обзоры прессы перед открыти...      2   \n",
       "...                                                 ...    ...   \n",
       "2234  #ЦБРФ #MOEX 🏦 ЦБ РФ и Мосбиржа думают, как изб...      2   \n",
       "4264  🛢🇷🇺#NVTK  НОВАТЭК изучает увеличение перевалки...      3   \n",
       "923   Главное к открытию вторника (30.05): #брифинг ...      2   \n",
       "3502  \"????????#GAZP #СП2 #keepcalm  Глава совдира \"...      2   \n",
       "6415  📊 ПАО «ММК» Тикер: MAGN Идея: Long ⬆️ Срок иде...      4   \n",
       "\n",
       "                                                   name  dp_rubert_pred  \\\n",
       "6756  Публичное акционерное общество \"Горно-металлур...               2   \n",
       "5613     Публичное акционерное общество \"ВУШ Холдинг\"\\n               4   \n",
       "4737          Банк ВТБ (публичное акционерное общество)               3   \n",
       "6381        Публичное акционерное общество \"Распадская\"               5   \n",
       "321                                                  -1               2   \n",
       "...                                                 ...             ...   \n",
       "2234  Публичное акционерное общество \"Московская Бир...               2   \n",
       "4264           публичное акционерное общество \"НОВАТЭК\"               4   \n",
       "923   Полиметалл Интернэшнл плс (Polymetal Internati...               2   \n",
       "3502                                                 -1               3   \n",
       "6415  Публичное акционерное общество \"Магнитогорский...               5   \n",
       "\n",
       "      dp_rubert_score  \n",
       "6756         0.635614  \n",
       "5613         0.885100  \n",
       "4737         0.707856  \n",
       "6381         0.797730  \n",
       "321          0.872953  \n",
       "...               ...  \n",
       "2234         0.583424  \n",
       "4264         0.913807  \n",
       "923          0.781061  \n",
       "3502         0.693020  \n",
       "6415         0.909427  \n",
       "\n",
       "[1174 rows x 5 columns]"
      ]
     },
     "execution_count": 49,
     "metadata": {},
     "output_type": "execute_result"
    }
   ],
   "source": [
    "test_df"
   ]
  },
  {
   "cell_type": "code",
   "execution_count": 51,
   "metadata": {},
   "outputs": [
    {
     "data": {
      "text/plain": [
       "<Axes: ylabel='Frequency'>"
      ]
     },
     "execution_count": 51,
     "metadata": {},
     "output_type": "execute_result"
    },
    {
     "data": {
      "image/png": "[encoded data removed]",
      "text/plain": [
       "<Figure size 640x480 with 1 Axes>"
      ]
     },
     "metadata": {},
     "output_type": "display_data"
    }
   ],
   "source": [
    "test_df.iloc[:, 1:3].plot.hist(histtype = 'bar')"
   ]
  },
  {
   "cell_type": "code",
   "execution_count": 60,
   "metadata": {},
   "outputs": [
    {
     "data": {
      "text/html": [
       "<div>\n",
       "<style scoped>\n",
       "    .dataframe tbody tr th:only-of-type {\n",
       "        vertical-align: middle;\n",
       "    }\n",
       "\n",
       "    .dataframe tbody tr th {\n",
       "        vertical-align: top;\n",
       "    }\n",
       "\n",
       "    .dataframe thead th {\n",
       "        text-align: right;\n",
       "    }\n",
       "</style>\n",
       "<table border=\"1\" class=\"dataframe\">\n",
       "  <thead>\n",
       "    <tr style=\"text-align: right;\">\n",
       "      <th></th>\n",
       "      <th>dp_rubert_pred</th>\n",
       "    </tr>\n",
       "    <tr>\n",
       "      <th>label</th>\n",
       "      <th></th>\n",
       "    </tr>\n",
       "  </thead>\n",
       "  <tbody>\n",
       "    <tr>\n",
       "      <th>0</th>\n",
       "      <td>2.222222</td>\n",
       "    </tr>\n",
       "    <tr>\n",
       "      <th>1</th>\n",
       "      <td>1.720000</td>\n",
       "    </tr>\n",
       "    <tr>\n",
       "      <th>2</th>\n",
       "      <td>2.117978</td>\n",
       "    </tr>\n",
       "    <tr>\n",
       "      <th>3</th>\n",
       "      <td>2.662791</td>\n",
       "    </tr>\n",
       "    <tr>\n",
       "      <th>4</th>\n",
       "      <td>3.513158</td>\n",
       "    </tr>\n",
       "  </tbody>\n",
       "</table>\n",
       "</div>"
      ],
      "text/plain": [
       "       dp_rubert_pred\n",
       "label                \n",
       "0            2.222222\n",
       "1            1.720000\n",
       "2            2.117978\n",
       "3            2.662791\n",
       "4            3.513158"
      ]
     },
     "execution_count": 60,
     "metadata": {},
     "output_type": "execute_result"
    }
   ],
   "source": [
    "test_df[['label', 'dp_rubert_pred']].groupby('label').mean()"
   ]
  },
  {
   "cell_type": "code",
   "execution_count": 61,
   "metadata": {},
   "outputs": [
    {
     "data": {
      "text/html": [
       "<div>\n",
       "<style scoped>\n",
       "    .dataframe tbody tr th:only-of-type {\n",
       "        vertical-align: middle;\n",
       "    }\n",
       "\n",
       "    .dataframe tbody tr th {\n",
       "        vertical-align: top;\n",
       "    }\n",
       "\n",
       "    .dataframe thead th {\n",
       "        text-align: right;\n",
       "    }\n",
       "</style>\n",
       "<table border=\"1\" class=\"dataframe\">\n",
       "  <thead>\n",
       "    <tr style=\"text-align: right;\">\n",
       "      <th></th>\n",
       "      <th></th>\n",
       "      <th>dp_rubert_pred</th>\n",
       "    </tr>\n",
       "    <tr>\n",
       "      <th>label</th>\n",
       "      <th></th>\n",
       "      <th></th>\n",
       "    </tr>\n",
       "  </thead>\n",
       "  <tbody>\n",
       "    <tr>\n",
       "      <th rowspan=\"4\" valign=\"top\">0</th>\n",
       "      <th>0.0</th>\n",
       "      <td>0.0</td>\n",
       "    </tr>\n",
       "    <tr>\n",
       "      <th>0.3</th>\n",
       "      <td>1.4</td>\n",
       "    </tr>\n",
       "    <tr>\n",
       "      <th>0.6</th>\n",
       "      <td>2.0</td>\n",
       "    </tr>\n",
       "    <tr>\n",
       "      <th>0.9</th>\n",
       "      <td>4.0</td>\n",
       "    </tr>\n",
       "    <tr>\n",
       "      <th rowspan=\"4\" valign=\"top\">1</th>\n",
       "      <th>0.0</th>\n",
       "      <td>1.0</td>\n",
       "    </tr>\n",
       "    <tr>\n",
       "      <th>0.3</th>\n",
       "      <td>1.0</td>\n",
       "    </tr>\n",
       "    <tr>\n",
       "      <th>0.6</th>\n",
       "      <td>1.0</td>\n",
       "    </tr>\n",
       "    <tr>\n",
       "      <th>0.9</th>\n",
       "      <td>3.0</td>\n",
       "    </tr>\n",
       "    <tr>\n",
       "      <th rowspan=\"4\" valign=\"top\">2</th>\n",
       "      <th>0.0</th>\n",
       "      <td>1.0</td>\n",
       "    </tr>\n",
       "    <tr>\n",
       "      <th>0.3</th>\n",
       "      <td>2.0</td>\n",
       "    </tr>\n",
       "    <tr>\n",
       "      <th>0.6</th>\n",
       "      <td>2.0</td>\n",
       "    </tr>\n",
       "    <tr>\n",
       "      <th>0.9</th>\n",
       "      <td>3.0</td>\n",
       "    </tr>\n",
       "    <tr>\n",
       "      <th rowspan=\"4\" valign=\"top\">3</th>\n",
       "      <th>0.0</th>\n",
       "      <td>1.0</td>\n",
       "    </tr>\n",
       "    <tr>\n",
       "      <th>0.3</th>\n",
       "      <td>3.0</td>\n",
       "    </tr>\n",
       "    <tr>\n",
       "      <th>0.6</th>\n",
       "      <td>3.0</td>\n",
       "    </tr>\n",
       "    <tr>\n",
       "      <th>0.9</th>\n",
       "      <td>3.0</td>\n",
       "    </tr>\n",
       "    <tr>\n",
       "      <th rowspan=\"4\" valign=\"top\">4</th>\n",
       "      <th>0.0</th>\n",
       "      <td>0.0</td>\n",
       "    </tr>\n",
       "    <tr>\n",
       "      <th>0.3</th>\n",
       "      <td>4.0</td>\n",
       "    </tr>\n",
       "    <tr>\n",
       "      <th>0.6</th>\n",
       "      <td>4.0</td>\n",
       "    </tr>\n",
       "    <tr>\n",
       "      <th>0.9</th>\n",
       "      <td>4.0</td>\n",
       "    </tr>\n",
       "  </tbody>\n",
       "</table>\n",
       "</div>"
      ],
      "text/plain": [
       "           dp_rubert_pred\n",
       "label                    \n",
       "0     0.0             0.0\n",
       "      0.3             1.4\n",
       "      0.6             2.0\n",
       "      0.9             4.0\n",
       "1     0.0             1.0\n",
       "      0.3             1.0\n",
       "      0.6             1.0\n",
       "      0.9             3.0\n",
       "2     0.0             1.0\n",
       "      0.3             2.0\n",
       "      0.6             2.0\n",
       "      0.9             3.0\n",
       "3     0.0             1.0\n",
       "      0.3             3.0\n",
       "      0.6             3.0\n",
       "      0.9             3.0\n",
       "4     0.0             0.0\n",
       "      0.3             4.0\n",
       "      0.6             4.0\n",
       "      0.9             4.0"
      ]
     },
     "execution_count": 61,
     "metadata": {},
     "output_type": "execute_result"
    }
   ],
   "source": [
    "test_df[['label', 'dp_rubert_pred']].groupby('label').quantile(q = [i/10 for i in range(0, 11, 3)])"
   ]
  },
  {
   "cell_type": "code",
   "execution_count": 63,
   "metadata": {},
   "outputs": [
    {
     "data": {
      "text/html": [
       "<div>\n",
       "<style scoped>\n",
       "    .dataframe tbody tr th:only-of-type {\n",
       "        vertical-align: middle;\n",
       "    }\n",
       "\n",
       "    .dataframe tbody tr th {\n",
       "        vertical-align: top;\n",
       "    }\n",
       "\n",
       "    .dataframe thead th {\n",
       "        text-align: right;\n",
       "    }\n",
       "</style>\n",
       "<table border=\"1\" class=\"dataframe\">\n",
       "  <thead>\n",
       "    <tr style=\"text-align: right;\">\n",
       "      <th></th>\n",
       "      <th>label</th>\n",
       "      <th>dp_rubert_score</th>\n",
       "    </tr>\n",
       "    <tr>\n",
       "      <th>dp_rubert_pred</th>\n",
       "      <th></th>\n",
       "      <th></th>\n",
       "    </tr>\n",
       "  </thead>\n",
       "  <tbody>\n",
       "    <tr>\n",
       "      <th>0</th>\n",
       "      <td>2.000000</td>\n",
       "      <td>0.671094</td>\n",
       "    </tr>\n",
       "    <tr>\n",
       "      <th>1</th>\n",
       "      <td>1.914286</td>\n",
       "      <td>0.703692</td>\n",
       "    </tr>\n",
       "    <tr>\n",
       "      <th>2</th>\n",
       "      <td>2.122685</td>\n",
       "      <td>0.790015</td>\n",
       "    </tr>\n",
       "    <tr>\n",
       "      <th>3</th>\n",
       "      <td>2.673077</td>\n",
       "      <td>0.729116</td>\n",
       "    </tr>\n",
       "    <tr>\n",
       "      <th>4</th>\n",
       "      <td>3.087719</td>\n",
       "      <td>0.736582</td>\n",
       "    </tr>\n",
       "  </tbody>\n",
       "</table>\n",
       "</div>"
      ],
      "text/plain": [
       "                   label  dp_rubert_score\n",
       "dp_rubert_pred                           \n",
       "0               2.000000         0.671094\n",
       "1               1.914286         0.703692\n",
       "2               2.122685         0.790015\n",
       "3               2.673077         0.729116\n",
       "4               3.087719         0.736582"
      ]
     },
     "execution_count": 63,
     "metadata": {},
     "output_type": "execute_result"
    }
   ],
   "source": [
    "test_df[['label', 'dp_rubert_pred', 'dp_rubert_score']].groupby('dp_rubert_pred').mean()"
   ]
  },
  {
   "cell_type": "code",
   "execution_count": 50,
   "metadata": {},
   "outputs": [
    {
     "name": "stdout",
     "output_type": "stream",
     "text": [
      "              precision    recall  f1-score   support\n",
      "\n",
      "           0       0.00      0.00      0.00         9\n",
      "           1       0.00      0.00      0.00       125\n",
      "           2       0.38      0.25      0.30       534\n",
      "           3       0.07      0.04      0.05       430\n",
      "           4       0.04      0.28      0.08        76\n",
      "\n",
      "   micro avg       0.16      0.15      0.15      1174\n",
      "   macro avg       0.10      0.11      0.09      1174\n",
      "weighted avg       0.20      0.15      0.16      1174\n",
      "\n"
     ]
    },
    {
     "name": "stderr",
     "output_type": "stream",
     "text": [
      "/home/kir/miniconda3/envs/my/lib/python3.9/site-packages/sklearn/metrics/_classification.py:1469: UndefinedMetricWarning: Precision and F-score are ill-defined and being set to 0.0 in labels with no predicted samples. Use `zero_division` parameter to control this behavior.\n",
      "  _warn_prf(average, modifier, msg_start, len(result))\n",
      "/home/kir/miniconda3/envs/my/lib/python3.9/site-packages/sklearn/metrics/_classification.py:1469: UndefinedMetricWarning: Precision and F-score are ill-defined and being set to 0.0 in labels with no predicted samples. Use `zero_division` parameter to control this behavior.\n",
      "  _warn_prf(average, modifier, msg_start, len(result))\n",
      "/home/kir/miniconda3/envs/my/lib/python3.9/site-packages/sklearn/metrics/_classification.py:1469: UndefinedMetricWarning: Precision and F-score are ill-defined and being set to 0.0 in labels with no predicted samples. Use `zero_division` parameter to control this behavior.\n",
      "  _warn_prf(average, modifier, msg_start, len(result))\n"
     ]
    }
   ],
   "source": [
    "from sklearn.metrics import classification_report\n",
    "print(classification_report(test_df['label'], test_df['dp_rubert_pred'], labels = [i for i in range(5)]))"
   ]
  },
  {
   "cell_type": "code",
   "execution_count": 65,
   "metadata": {},
   "outputs": [
    {
     "data": {
      "text/html": [
       "<div>\n",
       "<style scoped>\n",
       "    .dataframe tbody tr th:only-of-type {\n",
       "        vertical-align: middle;\n",
       "    }\n",
       "\n",
       "    .dataframe tbody tr th {\n",
       "        vertical-align: top;\n",
       "    }\n",
       "\n",
       "    .dataframe thead th {\n",
       "        text-align: right;\n",
       "    }\n",
       "</style>\n",
       "<table border=\"1\" class=\"dataframe\">\n",
       "  <thead>\n",
       "    <tr style=\"text-align: right;\">\n",
       "      <th></th>\n",
       "      <th>count</th>\n",
       "      <th>dist_1</th>\n",
       "      <th>dist_2</th>\n",
       "      <th>dist_3</th>\n",
       "      <th>dist_4</th>\n",
       "      <th>dist_5</th>\n",
       "      <th>accuracy</th>\n",
       "      <th>precision_micro</th>\n",
       "      <th>recall_micro</th>\n",
       "      <th>f1_score_micro</th>\n",
       "    </tr>\n",
       "    <tr>\n",
       "      <th>name</th>\n",
       "      <th></th>\n",
       "      <th></th>\n",
       "      <th></th>\n",
       "      <th></th>\n",
       "      <th></th>\n",
       "      <th></th>\n",
       "      <th></th>\n",
       "      <th></th>\n",
       "      <th></th>\n",
       "      <th></th>\n",
       "    </tr>\n",
       "  </thead>\n",
       "  <tbody>\n",
       "    <tr>\n",
       "      <th>-1</th>\n",
       "      <td>281</td>\n",
       "      <td>21</td>\n",
       "      <td>205</td>\n",
       "      <td>36</td>\n",
       "      <td>14</td>\n",
       "      <td>0</td>\n",
       "      <td>0.693950</td>\n",
       "      <td>0.746242</td>\n",
       "      <td>0.693950</td>\n",
       "      <td>0.710726</td>\n",
       "    </tr>\n",
       "    <tr>\n",
       "      <th>252</th>\n",
       "      <td>5</td>\n",
       "      <td>0</td>\n",
       "      <td>5</td>\n",
       "      <td>0</td>\n",
       "      <td>0</td>\n",
       "      <td>0</td>\n",
       "      <td>1.000000</td>\n",
       "      <td>1.000000</td>\n",
       "      <td>1.000000</td>\n",
       "      <td>1.000000</td>\n",
       "    </tr>\n",
       "    <tr>\n",
       "      <th>Cian PLC (эмитент депозитарных расписок - The Bank of New York Mellon)\\n</th>\n",
       "      <td>3</td>\n",
       "      <td>1</td>\n",
       "      <td>0</td>\n",
       "      <td>1</td>\n",
       "      <td>1</td>\n",
       "      <td>0</td>\n",
       "      <td>0.333333</td>\n",
       "      <td>0.500000</td>\n",
       "      <td>0.333333</td>\n",
       "      <td>0.666667</td>\n",
       "    </tr>\n",
       "    <tr>\n",
       "      <th>ETALON GROUP PLC (ЭТАЛОН ГРУП ПИЭЛСИ) (эмитент депозитарных расписок - The Bank of New York Mellon (Бэнк оф Нью Йорк Меллон))</th>\n",
       "      <td>10</td>\n",
       "      <td>2</td>\n",
       "      <td>4</td>\n",
       "      <td>4</td>\n",
       "      <td>0</td>\n",
       "      <td>0</td>\n",
       "      <td>0.600000</td>\n",
       "      <td>0.606667</td>\n",
       "      <td>0.600000</td>\n",
       "      <td>0.595238</td>\n",
       "    </tr>\n",
       "    <tr>\n",
       "      <th>Fix Price Group Ltd (Фикс Прайс Груп Лтд) (эмитент депозитарных расписок - The Bank of New York Mellon (Бэнк оф Нью Йорк Меллон))</th>\n",
       "      <td>4</td>\n",
       "      <td>1</td>\n",
       "      <td>2</td>\n",
       "      <td>0</td>\n",
       "      <td>1</td>\n",
       "      <td>0</td>\n",
       "      <td>0.750000</td>\n",
       "      <td>0.875000</td>\n",
       "      <td>0.750000</td>\n",
       "      <td>0.750000</td>\n",
       "    </tr>\n",
       "    <tr>\n",
       "      <th>...</th>\n",
       "      <td>...</td>\n",
       "      <td>...</td>\n",
       "      <td>...</td>\n",
       "      <td>...</td>\n",
       "      <td>...</td>\n",
       "      <td>...</td>\n",
       "      <td>...</td>\n",
       "      <td>...</td>\n",
       "      <td>...</td>\n",
       "      <td>...</td>\n",
       "    </tr>\n",
       "    <tr>\n",
       "      <th>публичное акционерное общество \"Группа компаний \"Самолет\"</th>\n",
       "      <td>28</td>\n",
       "      <td>3</td>\n",
       "      <td>4</td>\n",
       "      <td>15</td>\n",
       "      <td>6</td>\n",
       "      <td>0</td>\n",
       "      <td>0.571429</td>\n",
       "      <td>0.635931</td>\n",
       "      <td>0.571429</td>\n",
       "      <td>0.588736</td>\n",
       "    </tr>\n",
       "    <tr>\n",
       "      <th>публичное акционерное общество \"Корпорация ВСМПО-АВИСМА\"</th>\n",
       "      <td>1</td>\n",
       "      <td>0</td>\n",
       "      <td>1</td>\n",
       "      <td>0</td>\n",
       "      <td>0</td>\n",
       "      <td>0</td>\n",
       "      <td>1.000000</td>\n",
       "      <td>1.000000</td>\n",
       "      <td>1.000000</td>\n",
       "      <td>1.000000</td>\n",
       "    </tr>\n",
       "    <tr>\n",
       "      <th>публичное акционерное общество \"НОВАТЭК\"</th>\n",
       "      <td>25</td>\n",
       "      <td>3</td>\n",
       "      <td>8</td>\n",
       "      <td>13</td>\n",
       "      <td>1</td>\n",
       "      <td>0</td>\n",
       "      <td>0.640000</td>\n",
       "      <td>0.751059</td>\n",
       "      <td>0.640000</td>\n",
       "      <td>0.614000</td>\n",
       "    </tr>\n",
       "    <tr>\n",
       "      <th>публичное акционерное общество \"Научно-производственная корпорация \"Иркут\"</th>\n",
       "      <td>1</td>\n",
       "      <td>0</td>\n",
       "      <td>1</td>\n",
       "      <td>0</td>\n",
       "      <td>0</td>\n",
       "      <td>0</td>\n",
       "      <td>1.000000</td>\n",
       "      <td>1.000000</td>\n",
       "      <td>1.000000</td>\n",
       "      <td>1.000000</td>\n",
       "    </tr>\n",
       "    <tr>\n",
       "      <th>публичное акционерное общество \"Нефтяная компания \"Роснефть\"</th>\n",
       "      <td>28</td>\n",
       "      <td>3</td>\n",
       "      <td>6</td>\n",
       "      <td>15</td>\n",
       "      <td>4</td>\n",
       "      <td>0</td>\n",
       "      <td>0.642857</td>\n",
       "      <td>0.642113</td>\n",
       "      <td>0.642857</td>\n",
       "      <td>0.625422</td>\n",
       "    </tr>\n",
       "  </tbody>\n",
       "</table>\n",
       "<p>80 rows × 10 columns</p>\n",
       "</div>"
      ],
      "text/plain": [
       "                                                    count  dist_1  dist_2  \\\n",
       "name                                                                        \n",
       "-1                                                    281      21     205   \n",
       "252                                                     5       0       5   \n",
       "Cian PLC (эмитент депозитарных расписок - The B...      3       1       0   \n",
       "ETALON GROUP PLC (ЭТАЛОН ГРУП ПИЭЛСИ) (эмитент ...     10       2       4   \n",
       "Fix Price Group Ltd (Фикс Прайс Груп Лтд) (эмит...      4       1       2   \n",
       "...                                                   ...     ...     ...   \n",
       "публичное акционерное общество \"Группа компаний...     28       3       4   \n",
       "публичное акционерное общество \"Корпорация ВСМП...      1       0       1   \n",
       "публичное акционерное общество \"НОВАТЭК\"               25       3       8   \n",
       "публичное акционерное общество \"Научно-производ...      1       0       1   \n",
       "публичное акционерное общество \"Нефтяная компан...     28       3       6   \n",
       "\n",
       "                                                    dist_3  dist_4  dist_5  \\\n",
       "name                                                                         \n",
       "-1                                                      36      14       0   \n",
       "252                                                      0       0       0   \n",
       "Cian PLC (эмитент депозитарных расписок - The B...       1       1       0   \n",
       "ETALON GROUP PLC (ЭТАЛОН ГРУП ПИЭЛСИ) (эмитент ...       4       0       0   \n",
       "Fix Price Group Ltd (Фикс Прайс Груп Лтд) (эмит...       0       1       0   \n",
       "...                                                    ...     ...     ...   \n",
       "публичное акционерное общество \"Группа компаний...      15       6       0   \n",
       "публичное акционерное общество \"Корпорация ВСМП...       0       0       0   \n",
       "публичное акционерное общество \"НОВАТЭК\"                13       1       0   \n",
       "публичное акционерное общество \"Научно-производ...       0       0       0   \n",
       "публичное акционерное общество \"Нефтяная компан...      15       4       0   \n",
       "\n",
       "                                                    accuracy  precision_micro  \\\n",
       "name                                                                            \n",
       "-1                                                  0.693950         0.746242   \n",
       "252                                                 1.000000         1.000000   \n",
       "Cian PLC (эмитент депозитарных расписок - The B...  0.333333         0.500000   \n",
       "ETALON GROUP PLC (ЭТАЛОН ГРУП ПИЭЛСИ) (эмитент ...  0.600000         0.606667   \n",
       "Fix Price Group Ltd (Фикс Прайс Груп Лтд) (эмит...  0.750000         0.875000   \n",
       "...                                                      ...              ...   \n",
       "публичное акционерное общество \"Группа компаний...  0.571429         0.635931   \n",
       "публичное акционерное общество \"Корпорация ВСМП...  1.000000         1.000000   \n",
       "публичное акционерное общество \"НОВАТЭК\"            0.640000         0.751059   \n",
       "публичное акционерное общество \"Научно-производ...  1.000000         1.000000   \n",
       "публичное акционерное общество \"Нефтяная компан...  0.642857         0.642113   \n",
       "\n",
       "                                                    recall_micro  \\\n",
       "name                                                               \n",
       "-1                                                      0.693950   \n",
       "252                                                     1.000000   \n",
       "Cian PLC (эмитент депозитарных расписок - The B...      0.333333   \n",
       "ETALON GROUP PLC (ЭТАЛОН ГРУП ПИЭЛСИ) (эмитент ...      0.600000   \n",
       "Fix Price Group Ltd (Фикс Прайс Груп Лтд) (эмит...      0.750000   \n",
       "...                                                          ...   \n",
       "публичное акционерное общество \"Группа компаний...      0.571429   \n",
       "публичное акционерное общество \"Корпорация ВСМП...      1.000000   \n",
       "публичное акционерное общество \"НОВАТЭК\"                0.640000   \n",
       "публичное акционерное общество \"Научно-производ...      1.000000   \n",
       "публичное акционерное общество \"Нефтяная компан...      0.642857   \n",
       "\n",
       "                                                    f1_score_micro  \n",
       "name                                                                \n",
       "-1                                                        0.710726  \n",
       "252                                                       1.000000  \n",
       "Cian PLC (эмитент депозитарных расписок - The B...        0.666667  \n",
       "ETALON GROUP PLC (ЭТАЛОН ГРУП ПИЭЛСИ) (эмитент ...        0.595238  \n",
       "Fix Price Group Ltd (Фикс Прайс Груп Лтд) (эмит...        0.750000  \n",
       "...                                                            ...  \n",
       "публичное акционерное общество \"Группа компаний...        0.588736  \n",
       "публичное акционерное общество \"Корпорация ВСМП...        1.000000  \n",
       "публичное акционерное общество \"НОВАТЭК\"                  0.614000  \n",
       "публичное акционерное общество \"Научно-производ...        1.000000  \n",
       "публичное акционерное общество \"Нефтяная компан...        0.625422  \n",
       "\n",
       "[80 rows x 10 columns]"
      ]
     },
     "execution_count": 65,
     "metadata": {},
     "output_type": "execute_result"
    }
   ],
   "source": [
    "metrics_df = test_df.groupby('name').apply(func = lambda x: groubpy_func_class_metrics(x, 'dp_rubert_pred')).reset_index().drop('level_1', axis = 1).set_index('name')\n",
    "metrics_df.to_csv('bert_sentiment_metrics.csv')\n",
    "metrics_df"
   ]
  }
 ],
 "metadata": {
  "kernelspec": {
   "display_name": "my",
   "language": "python",
   "name": "python3"
  },
  "language_info": {
   "codemirror_mode": {
    "name": "ipython",
    "version": 3
   },
   "file_extension": ".py",
   "mimetype": "text/x-python",
   "name": "python",
   "nbconvert_exporter": "python",
   "pygments_lexer": "ipython3",
   "version": "3.9.18"
  }
 },
 "nbformat": 4,
 "nbformat_minor": 2
}
